{
 "cells": [
  {
   "cell_type": "code",
   "execution_count": 1,
   "metadata": {},
   "outputs": [],
   "source": [
    "import os\n",
    "import csv\n",
    "import pandas as pd\n",
    "import numpy as np\n",
    "\n",
    "pd.set_option(\"display.precision\", 35)"
   ]
  },
  {
   "cell_type": "code",
   "execution_count": 2,
   "metadata": {},
   "outputs": [],
   "source": [
    "df = pd.read_csv('D:\\\\Danilo\\\\Desktop\\\\EPS\\\\TCC\\\\data\\\\SES\\\\SES_UF2.csv', sep=\";\", decimal=\",\", dtype={'coenti': 'int', 'damesano': 'str', 'ramos': 'int', 'UF': 'str', 'premio_dir': 'float'})"
   ]
  },
  {
   "cell_type": "code",
   "execution_count": 3,
   "metadata": {},
   "outputs": [],
   "source": [
    "df['UF'] = df['UF'].str.upper()"
   ]
  },
  {
   "cell_type": "code",
   "execution_count": 4,
   "metadata": {},
   "outputs": [],
   "source": [
    "df.drop(df[(df.UF != 'SP')].index, inplace=True)"
   ]
  },
  {
   "cell_type": "code",
   "execution_count": 5,
   "metadata": {},
   "outputs": [],
   "source": [
    "df.drop(['coenti', 'ramos', 'premio_ret', 'sin_dir', 'prem_ret_liq', 'gracodigo', 'salvados', 'recuperacao'], axis=1, inplace=True)"
   ]
  },
  {
   "cell_type": "code",
   "execution_count": 6,
   "metadata": {},
   "outputs": [],
   "source": [
    "df['damesano'] = pd.to_datetime(df['damesano'], format='%Y%m').dt.strftime('%Y%m')"
   ]
  },
  {
   "cell_type": "code",
   "execution_count": 7,
   "metadata": {},
   "outputs": [],
   "source": [
    "df.drop(df[(df.damesano <= '200706')].index, inplace=True)"
   ]
  },
  {
   "cell_type": "code",
   "execution_count": 8,
   "metadata": {},
   "outputs": [],
   "source": [
    "df.drop(df[(df.damesano >= '201901')].index, inplace=True)"
   ]
  },
  {
   "cell_type": "code",
   "execution_count": 9,
   "metadata": {},
   "outputs": [],
   "source": [
    "df['damesano'] = df['damesano'].astype(int)"
   ]
  },
  {
   "cell_type": "code",
   "execution_count": 13,
   "metadata": {},
   "outputs": [],
   "source": [
    "df2 = df.groupby([df.damesano // 100, df.damesano%100 > 6]).premio_dir.sum().to_frame('Premio_Total').rename_axis(['Ano', 'Semestre']).rename(('1', '2').__getitem__, level=1).reset_index()"
   ]
  },
  {
   "cell_type": "code",
   "execution_count": 14,
   "metadata": {},
   "outputs": [
    {
     "data": {
      "text/html": [
       "<div>\n",
       "<style scoped>\n",
       "    .dataframe tbody tr th:only-of-type {\n",
       "        vertical-align: middle;\n",
       "    }\n",
       "\n",
       "    .dataframe tbody tr th {\n",
       "        vertical-align: top;\n",
       "    }\n",
       "\n",
       "    .dataframe thead th {\n",
       "        text-align: right;\n",
       "    }\n",
       "</style>\n",
       "<table border=\"1\" class=\"dataframe\">\n",
       "  <thead>\n",
       "    <tr style=\"text-align: right;\">\n",
       "      <th></th>\n",
       "      <th>Ano</th>\n",
       "      <th>Semestre</th>\n",
       "      <th>Premio_Total</th>\n",
       "    </tr>\n",
       "  </thead>\n",
       "  <tbody>\n",
       "    <tr>\n",
       "      <td>0</td>\n",
       "      <td>2007</td>\n",
       "      <td>2</td>\n",
       "      <td>15280549553.9599819183349609375</td>\n",
       "    </tr>\n",
       "    <tr>\n",
       "      <td>1</td>\n",
       "      <td>2008</td>\n",
       "      <td>1</td>\n",
       "      <td>15827626232.4367237091064453125</td>\n",
       "    </tr>\n",
       "    <tr>\n",
       "      <td>2</td>\n",
       "      <td>2008</td>\n",
       "      <td>2</td>\n",
       "      <td>16859710892.2722167968750000000</td>\n",
       "    </tr>\n",
       "    <tr>\n",
       "      <td>3</td>\n",
       "      <td>2009</td>\n",
       "      <td>1</td>\n",
       "      <td>17224900673.3699569702148437500</td>\n",
       "    </tr>\n",
       "    <tr>\n",
       "      <td>4</td>\n",
       "      <td>2009</td>\n",
       "      <td>2</td>\n",
       "      <td>20000961717.3357467651367187500</td>\n",
       "    </tr>\n",
       "    <tr>\n",
       "      <td>5</td>\n",
       "      <td>2010</td>\n",
       "      <td>1</td>\n",
       "      <td>19227201601.9496612548828125000</td>\n",
       "    </tr>\n",
       "    <tr>\n",
       "      <td>6</td>\n",
       "      <td>2010</td>\n",
       "      <td>2</td>\n",
       "      <td>23968038546.7799568176269531250</td>\n",
       "    </tr>\n",
       "    <tr>\n",
       "      <td>7</td>\n",
       "      <td>2011</td>\n",
       "      <td>1</td>\n",
       "      <td>24463683903.4334335327148437500</td>\n",
       "    </tr>\n",
       "    <tr>\n",
       "      <td>8</td>\n",
       "      <td>2011</td>\n",
       "      <td>2</td>\n",
       "      <td>26403858611.6878890991210937500</td>\n",
       "    </tr>\n",
       "    <tr>\n",
       "      <td>9</td>\n",
       "      <td>2012</td>\n",
       "      <td>1</td>\n",
       "      <td>28746197911.3649101257324218750</td>\n",
       "    </tr>\n",
       "    <tr>\n",
       "      <td>10</td>\n",
       "      <td>2012</td>\n",
       "      <td>2</td>\n",
       "      <td>31996078299.2090721130371093750</td>\n",
       "    </tr>\n",
       "    <tr>\n",
       "      <td>11</td>\n",
       "      <td>2013</td>\n",
       "      <td>1</td>\n",
       "      <td>33584639841.4083251953125000000</td>\n",
       "    </tr>\n",
       "    <tr>\n",
       "      <td>12</td>\n",
       "      <td>2013</td>\n",
       "      <td>2</td>\n",
       "      <td>33337058323.7437705993652343750</td>\n",
       "    </tr>\n",
       "    <tr>\n",
       "      <td>13</td>\n",
       "      <td>2014</td>\n",
       "      <td>1</td>\n",
       "      <td>34482465637.4549407958984375000</td>\n",
       "    </tr>\n",
       "    <tr>\n",
       "      <td>14</td>\n",
       "      <td>2014</td>\n",
       "      <td>2</td>\n",
       "      <td>38797392223.2467803955078125000</td>\n",
       "    </tr>\n",
       "    <tr>\n",
       "      <td>15</td>\n",
       "      <td>2015</td>\n",
       "      <td>1</td>\n",
       "      <td>38619794985.4314880371093750000</td>\n",
       "    </tr>\n",
       "    <tr>\n",
       "      <td>16</td>\n",
       "      <td>2015</td>\n",
       "      <td>2</td>\n",
       "      <td>40091744037.6344375610351562500</td>\n",
       "    </tr>\n",
       "    <tr>\n",
       "      <td>17</td>\n",
       "      <td>2016</td>\n",
       "      <td>1</td>\n",
       "      <td>40579908062.3494186401367187500</td>\n",
       "    </tr>\n",
       "    <tr>\n",
       "      <td>18</td>\n",
       "      <td>2016</td>\n",
       "      <td>2</td>\n",
       "      <td>46242379288.6685714721679687500</td>\n",
       "    </tr>\n",
       "    <tr>\n",
       "      <td>19</td>\n",
       "      <td>2017</td>\n",
       "      <td>1</td>\n",
       "      <td>42650653057.2463836669921875000</td>\n",
       "    </tr>\n",
       "    <tr>\n",
       "      <td>20</td>\n",
       "      <td>2017</td>\n",
       "      <td>2</td>\n",
       "      <td>46602764202.9273834228515625000</td>\n",
       "    </tr>\n",
       "    <tr>\n",
       "      <td>21</td>\n",
       "      <td>2018</td>\n",
       "      <td>1</td>\n",
       "      <td>41407349219.6795425415039062500</td>\n",
       "    </tr>\n",
       "    <tr>\n",
       "      <td>22</td>\n",
       "      <td>2018</td>\n",
       "      <td>2</td>\n",
       "      <td>43280715500.0593261718750000000</td>\n",
       "    </tr>\n",
       "  </tbody>\n",
       "</table>\n",
       "</div>"
      ],
      "text/plain": [
       "     Ano Semestre                     Premio_Total\n",
       "0   2007        2  15280549553.9599819183349609375\n",
       "1   2008        1  15827626232.4367237091064453125\n",
       "2   2008        2  16859710892.2722167968750000000\n",
       "3   2009        1  17224900673.3699569702148437500\n",
       "4   2009        2  20000961717.3357467651367187500\n",
       "5   2010        1  19227201601.9496612548828125000\n",
       "6   2010        2  23968038546.7799568176269531250\n",
       "7   2011        1  24463683903.4334335327148437500\n",
       "8   2011        2  26403858611.6878890991210937500\n",
       "9   2012        1  28746197911.3649101257324218750\n",
       "10  2012        2  31996078299.2090721130371093750\n",
       "11  2013        1  33584639841.4083251953125000000\n",
       "12  2013        2  33337058323.7437705993652343750\n",
       "13  2014        1  34482465637.4549407958984375000\n",
       "14  2014        2  38797392223.2467803955078125000\n",
       "15  2015        1  38619794985.4314880371093750000\n",
       "16  2015        2  40091744037.6344375610351562500\n",
       "17  2016        1  40579908062.3494186401367187500\n",
       "18  2016        2  46242379288.6685714721679687500\n",
       "19  2017        1  42650653057.2463836669921875000\n",
       "20  2017        2  46602764202.9273834228515625000\n",
       "21  2018        1  41407349219.6795425415039062500\n",
       "22  2018        2  43280715500.0593261718750000000"
      ]
     },
     "execution_count": 14,
     "metadata": {},
     "output_type": "execute_result"
    }
   ],
   "source": [
    "df2"
   ]
  },
  {
   "cell_type": "code",
   "execution_count": 15,
   "metadata": {},
   "outputs": [],
   "source": [
    "df2.to_csv('D:\\\\Danilo\\\\Desktop\\\\EPS\\\\TCC\\\\data\\\\AutoSegData\\\\premios_x_sem.csv', sep=\",\", index=False)"
   ]
  }
 ],
 "metadata": {
  "kernelspec": {
   "display_name": "Python 3",
   "language": "python",
   "name": "python3"
  },
  "language_info": {
   "codemirror_mode": {
    "name": "ipython",
    "version": 3
   },
   "file_extension": ".py",
   "mimetype": "text/x-python",
   "name": "python",
   "nbconvert_exporter": "python",
   "pygments_lexer": "ipython3",
   "version": "3.7.4"
  }
 },
 "nbformat": 4,
 "nbformat_minor": 2
}
