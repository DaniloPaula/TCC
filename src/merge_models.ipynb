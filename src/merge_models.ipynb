{
 "cells": [
  {
   "cell_type": "code",
   "execution_count": 31,
   "metadata": {},
   "outputs": [],
   "source": [
    "import os\n",
    "import csv\n",
    "import pandas as pd\n",
    "import numpy as np\n",
    "from fuzzywuzzy import fuzz\n",
    "from fuzzywuzzy import process"
   ]
  },
  {
   "cell_type": "code",
   "execution_count": 21,
   "metadata": {},
   "outputs": [],
   "source": [
    "# Código para limpar as colunas cod_modelo e ano_modelo\n",
    "for filename in os.listdir('D:\\\\Danilo\\\\Desktop\\\\EPS\\\\TCC\\\\data_cleaned\\\\AutoSegData\\\\AutoSegDataSP'):\n",
    "#     Abrimos o CSV e tiramos os espaços errados\n",
    "    df = pd.read_csv('D:\\\\Danilo\\\\Desktop\\\\EPS\\\\TCC\\\\data_cleaned\\\\AutoSegData\\\\AutoSegDataSP\\\\'+filename, sep=\",\", decimal=\",\", dtype={'REGIAO': 'str', 'ANO_MODELO': 'str', 'COD_MODELO': 'str'})\n",
    "\n",
    "    df['COD_MODELO'] = df['COD_MODELO'].str.strip()\n",
    "    df['ANO_MODELO'] = df['ANO_MODELO'].str.strip()\n",
    "\n",
    "    df.to_csv('D:\\\\Danilo\\\\Desktop\\\\EPS\\\\TCC\\\\data_cleaned\\\\AutoSegData\\\\AutoSegDataSP\\\\AutoSegDataSP_SSP\\\\'+filename, sep=\",\", index=False)"
   ]
  },
  {
   "cell_type": "code",
   "execution_count": 57,
   "metadata": {},
   "outputs": [],
   "source": [
    "# Código para limpar as colunas da base de modelos de veiculos da SUSEP\n",
    "# Abrimos o CSV e tiramos os espaços errados\n",
    "df = pd.read_csv('D:\\\\Danilo\\\\Desktop\\\\EPS\\\\TCC\\\\data_cleaned\\\\AutoSegInfos\\\\auto2_vei.csv', sep=\";\", encoding='Latin-1', dtype={'CODIGO': 'str', 'DESCRICAO': 'str', 'GRUPO': 'str', 'COD_GRUPO': 'str'})\n",
    "\n",
    "df['CODIGO'] = df['CODIGO'].str.strip()\n",
    "df['DESCRICAO'] = df['DESCRICAO'].str.strip()\n",
    "df['GRUPO'] = df['GRUPO'].str.strip()\n",
    "df['COD_GRUPO'] = df['COD_GRUPO'].str.strip()\n",
    "\n",
    "df.to_csv('D:\\\\Danilo\\\\Desktop\\\\EPS\\\\TCC\\\\data_cleaned\\\\AutoSegInfos\\\\1auto2_vei.csv', sep=\";\", encoding='Latin-1', index=False)"
   ]
  },
  {
   "cell_type": "code",
   "execution_count": 2,
   "metadata": {},
   "outputs": [],
   "source": [
    "# Código para limpar as colunas da base de modelos de veiculos da SUSEP\n",
    "# Abrimos o CSV e tiramos os espaços errados\n",
    "df = pd.read_csv('D:\\\\Danilo\\\\Desktop\\\\EPS\\\\TCC\\\\data_cleaned\\\\AutoSegInfos\\\\1auto2_vei.csv', sep=\";\", encoding='Latin-1', dtype={'CODIGO': 'str', 'DESCRICAO': 'str', 'GRUPO': 'str', 'COD_GRUPO': 'str'})\n",
    "\n",
    "df['DESCRICAO'] = df['DESCRICAO'].str.upper()\n",
    "df['GRUPO'] = df['GRUPO'].str.upper()\n",
    "\n",
    "df.rename(columns={'CODIGO': 'COD_MODELO'}, inplace=True)\n",
    "\n",
    "df.to_csv('D:\\\\Danilo\\\\Desktop\\\\EPS\\\\TCC\\\\data_cleaned\\\\AutoSegInfos\\\\2auto2_vei.csv', sep=\";\", encoding='Latin-1', index=False)"
   ]
  }
 ],
 "metadata": {
  "kernelspec": {
   "display_name": "Python 3",
   "language": "python",
   "name": "python3"
  },
  "language_info": {
   "codemirror_mode": {
    "name": "ipython",
    "version": 3
   },
   "file_extension": ".py",
   "mimetype": "text/x-python",
   "name": "python",
   "nbconvert_exporter": "python",
   "pygments_lexer": "ipython3",
   "version": "3.7.4"
  }
 },
 "nbformat": 4,
 "nbformat_minor": 2
}
