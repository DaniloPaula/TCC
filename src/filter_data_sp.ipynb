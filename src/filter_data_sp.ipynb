{
 "cells": [
  {
   "cell_type": "code",
   "execution_count": 1,
   "metadata": {},
   "outputs": [],
   "source": [
    "import os\n",
    "import csv\n",
    "import pandas as pd\n",
    "import numpy as np"
   ]
  },
  {
   "cell_type": "code",
   "execution_count": 23,
   "metadata": {},
   "outputs": [],
   "source": [
    "# Código para filtrar para grande campinas\n",
    "for filename in os.listdir('C:\\\\Users\\\\Danilo\\\\Desktop\\\\EPS\\\\TCC\\\\data\\\\AutoSegData\\\\AutoSegDataBR'):\n",
    "#     Abrimos o CSV e excluimos as observações que não são de SP - Grande Campinas e SP - Ribeirão Preto e Demais Mun. de Campinas\n",
    "    df = pd.read_csv('C:\\\\Users\\\\Danilo\\\\Desktop\\\\EPS\\\\TCC\\\\data\\\\AutoSegData\\\\AutoSegDataBR\\\\'+filename, sep=\",\", decimal=\",\", dtype={'REGIAO': 'str', 'ANO_MODELO': 'str', 'COD_MODELO': 'str'})\n",
    "    \n",
    "    df.drop(df[(df.REGIAO != '12') & (df.REGIAO != '13')].index, inplace=True)\n",
    "    \n",
    "    df.to_csv('C:\\\\Users\\\\Danilo\\\\Desktop\\\\EPS\\\\TCC\\\\data\\\\AutoSegData\\\\AutoSegDataSP\\\\'+filename, sep=\",\", index=False)"
   ]
  },
  {
   "cell_type": "code",
   "execution_count": 10,
   "metadata": {},
   "outputs": [],
   "source": [
    "# Código para filtrar a UF de SP\n",
    "for filename in os.listdir('D:\\\\Danilo\\\\Desktop\\\\EPS\\\\TCC\\\\data\\\\AutoSegData\\\\AutoSegDataBR'):\n",
    "#     Abrimos o CSV e excluimos as colunas EXPOSICAO2 e PREMIO2 pois nao sao usadas e selecionamos apenas o estado de SP\n",
    "    df = pd.read_csv('D:\\\\Danilo\\\\Desktop\\\\EPS\\\\TCC\\\\data\\\\AutoSegData\\\\AutoSegDataBR\\\\'+filename, sep=\",\", decimal=\",\", dtype={'REGIAO': 'str', 'ANO_MODELO': 'str', 'COD_MODELO': 'str'})\n",
    "    \n",
    "    df.drop(df[(df.REGIAO != '09') & (df.REGIAO != '9 ') & (df.REGIAO != '10') & (df.REGIAO != '11') & (df.REGIAO != '12') & (df.REGIAO != '13')].index, inplace=True)\n",
    "    df.drop(['EXPOSICAO2', 'PREMIO2'], axis=1, inplace=True)\n",
    "    \n",
    "    df.to_csv('D:\\\\Danilo\\\\Desktop\\\\EPS\\\\TCC\\\\data\\\\AutoSegData\\\\AutoSegDataSP\\\\'+filename[1:], sep=\",\", index=False)"
   ]
  },
  {
   "cell_type": "code",
   "execution_count": 36,
   "metadata": {},
   "outputs": [],
   "source": [
    "for filename in os.listdir('D:\\\\Danilo\\\\Desktop\\\\EPS\\\\TCC\\\\data\\\\AutoSegData\\\\AutoSegDataSP'):\n",
    "#     Abrimos o CSV e somamos todas as indenizações\n",
    "    df = pd.read_csv('D:\\\\Danilo\\\\Desktop\\\\EPS\\\\TCC\\\\data\\\\AutoSegData\\\\AutoSegDataSP\\\\'+filename, sep=\",\", decimal=\".\", dtype={'REGIAO': 'str', 'ANO_MODELO': 'str', 'COD_MODELO': 'str', 'INDENIZ1': 'int', 'INDENIZ2': 'int', 'INDENIZ3': 'int', 'INDENIZ4': 'int', 'INDENIZ9': 'int'})\n",
    "    \n",
    "    df['INDENIZACAO_TOTAL'] = df['INDENIZ1'] + df['INDENIZ2'] + df['INDENIZ3'] + df['INDENIZ4'] + df['INDENIZ9']\n",
    "    \n",
    "    df.to_csv('D:\\\\Danilo\\\\Desktop\\\\EPS\\\\TCC\\\\data\\\\AutoSegData\\\\AutoSegDataSP_Indenizações\\\\'+filename, sep=\",\", index=False)"
   ]
  },
  {
   "cell_type": "code",
   "execution_count": 45,
   "metadata": {},
   "outputs": [],
   "source": [
    "data = []\n",
    "for filename in os.listdir('D:\\\\Danilo\\\\Desktop\\\\EPS\\\\TCC\\\\data\\\\AutoSegData\\\\AutoSegDataSP_Indenizações'):\n",
    "#     Abrimos o CSV e somamos os valores da indenização total de cada observação, obtendo a indenização total do semestre\n",
    "#     para todos os sinistros\n",
    "    df = pd.read_csv('D:\\\\Danilo\\\\Desktop\\\\EPS\\\\TCC\\\\data\\\\AutoSegData\\\\AutoSegDataSP_Indenizações\\\\'+filename, sep=\",\", decimal=\".\", dtype={'REGIAO': 'str', 'ANO_MODELO': 'str', 'COD_MODELO': 'str', 'INDENIZ1': 'int', 'INDENIZ2': 'int', 'INDENIZ3': 'int', 'INDENIZ4': 'int', 'INDENIZ9': 'int', 'INDENIZACAO_TOTAL': 'int'})\n",
    "    \n",
    "    data.append([filename[15:-4], df['INDENIZACAO_TOTAL'].sum()])"
   ]
  },
  {
   "cell_type": "code",
   "execution_count": 47,
   "metadata": {},
   "outputs": [],
   "source": [
    "df = pd.DataFrame(data, columns = ['Semestre', 'Indenizacoes'])"
   ]
  },
  {
   "cell_type": "code",
   "execution_count": 50,
   "metadata": {},
   "outputs": [],
   "source": [
    "df.to_csv('D:\\\\Danilo\\\\Desktop\\\\EPS\\\\TCC\\\\data\\\\AutoSegData\\\\indezacoes_x_sem.csv', sep=\",\", index=False)"
   ]
  }
 ],
 "metadata": {
  "kernelspec": {
   "display_name": "Python 3",
   "language": "python",
   "name": "python3"
  },
  "language_info": {
   "codemirror_mode": {
    "name": "ipython",
    "version": 3
   },
   "file_extension": ".py",
   "mimetype": "text/x-python",
   "name": "python",
   "nbconvert_exporter": "python",
   "pygments_lexer": "ipython3",
   "version": "3.7.4"
  }
 },
 "nbformat": 4,
 "nbformat_minor": 2
}
