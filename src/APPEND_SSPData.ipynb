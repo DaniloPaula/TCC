{
 "cells": [
  {
   "cell_type": "code",
   "execution_count": 1,
   "metadata": {},
   "outputs": [],
   "source": [
    "import os\n",
    "import csv\n",
    "import pandas as pd\n",
    "import numpy as np"
   ]
  },
  {
   "cell_type": "code",
   "execution_count": 3,
   "metadata": {},
   "outputs": [],
   "source": [
    "# Empilhamos um primeiro arquivo de furtos para poder empilhar os outros nele\n",
    "df1 = pd.read_excel('D:\\\\Danilo\\\\Desktop\\\\EPS\\\\TCC\\\\data_cleaned\\\\SSP\\\\Furtos de veiculos\\\\DadosBO_2003_1.xls', usecols = \"A:AB,AJ,AL,AU:BB\", converters={'ANO_FABRICACAO':int,'ANO_MODELO':int})"
   ]
  },
  {
   "cell_type": "code",
   "execution_count": 8,
   "metadata": {},
   "outputs": [],
   "source": [
    "# Nao necessariamente um arquivo de um dado mes tem dados daquele mes. Por isso empilhamos tudo\n",
    "for filename in os.listdir('D:\\\\Danilo\\\\Desktop\\\\EPS\\\\TCC\\\\data_cleaned\\\\SSP\\\\Furtos de veiculos'):\n",
    "    if(filename != \"DadosBO_2003_1.xls\"):\n",
    "        df = pd.read_excel('D:\\\\Danilo\\\\Desktop\\\\EPS\\\\TCC\\\\data_cleaned\\\\SSP\\\\Furtos de veiculos\\\\'+filename, usecols = \"A:AB,AJ,AL,AU:BB\", converters={'ANO_FABRICACAO':int,'ANO_MODELO':int})\n",
    "        df1 = pd.concat([df1, df])"
   ]
  },
  {
   "cell_type": "code",
   "execution_count": 9,
   "metadata": {},
   "outputs": [],
   "source": [
    "df1.to_csv('D:\\\\Danilo\\\\Desktop\\\\EPS\\\\TCC\\\\data_cleaned\\\\SSP\\\\furtosConcat.csv', sep=\",\", index=False)"
   ]
  },
  {
   "cell_type": "code",
   "execution_count": 10,
   "metadata": {},
   "outputs": [],
   "source": [
    "# Empilhamos um primeiro arquivo de roubos para poder empilhar os outros nele\n",
    "df1 = pd.read_excel('D:\\\\Danilo\\\\Desktop\\\\EPS\\\\TCC\\\\data_cleaned\\\\SSP\\\\Roubos de veiculos\\\\DadosBO_2003_1.xls', usecols = \"A:AB,AJ,AL,AU:BB\", converters={'ANO_FABRICACAO':int,'ANO_MODELO':int})"
   ]
  },
  {
   "cell_type": "code",
   "execution_count": 11,
   "metadata": {},
   "outputs": [],
   "source": [
    "# Nao necessariamente um arquivo de um dado mes tem dados daquele mes. Por isso empilhamos tudo\n",
    "for filename in os.listdir('D:\\\\Danilo\\\\Desktop\\\\EPS\\\\TCC\\\\data_cleaned\\\\SSP\\\\Roubos de veiculos'):\n",
    "    if(filename != \"DadosBO_2003_1.xls\"):\n",
    "        df = pd.read_excel('D:\\\\Danilo\\\\Desktop\\\\EPS\\\\TCC\\\\data_cleaned\\\\SSP\\\\Roubos de veiculos\\\\'+filename, usecols = \"A:AB,AJ,AL,AU:BB\", converters={'ANO_FABRICACAO':int,'ANO_MODELO':int})\n",
    "        df1 = pd.concat([df1, df])"
   ]
  },
  {
   "cell_type": "code",
   "execution_count": 12,
   "metadata": {},
   "outputs": [],
   "source": [
    "df1.to_csv('D:\\\\Danilo\\\\Desktop\\\\EPS\\\\TCC\\\\data_cleaned\\\\SSP\\\\roubosConcat.csv', sep=\",\", index=False)"
   ]
  }
 ],
 "metadata": {
  "kernelspec": {
   "display_name": "Python 3",
   "language": "python",
   "name": "python3"
  },
  "language_info": {
   "codemirror_mode": {
    "name": "ipython",
    "version": 3
   },
   "file_extension": ".py",
   "mimetype": "text/x-python",
   "name": "python",
   "nbconvert_exporter": "python",
   "pygments_lexer": "ipython3",
   "version": "3.7.6"
  }
 },
 "nbformat": 4,
 "nbformat_minor": 2
}
