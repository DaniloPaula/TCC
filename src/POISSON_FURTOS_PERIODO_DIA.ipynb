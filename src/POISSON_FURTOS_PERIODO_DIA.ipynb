{
 "cells": [
  {
   "cell_type": "code",
   "execution_count": 1,
   "metadata": {},
   "outputs": [],
   "source": [
    "import pandas as pd\n",
    "from pandas.api.types import CategoricalDtype\n",
    "from pandas.plotting import table\n",
    "import numpy as np\n",
    "import matplotlib.pyplot as plt\n",
    "import matplotlib.dates as mdates\n",
    "import datetime as dt\n",
    "import seaborn as sns\n",
    "import six\n",
    "from scipy.stats import chisquare"
   ]
  },
  {
   "cell_type": "code",
   "execution_count": 2,
   "metadata": {},
   "outputs": [
    {
     "name": "stderr",
     "output_type": "stream",
     "text": [
      "D:\\Programas\\Anaconda3\\lib\\site-packages\\IPython\\core\\interactiveshell.py:3071: DtypeWarning: Columns (28) have mixed types.Specify dtype option on import or set low_memory=False.\n",
      "  has_raised = await self.run_ast_nodes(code_ast.body, cell_name,\n"
     ]
    }
   ],
   "source": [
    "df_furtos = pd.read_csv('D:\\\\EPS\\\\TCC\\\\data_cleaned\\\\SSP\\\\furtos_2018.csv', sep=\",\", decimal=\".\")"
   ]
  },
  {
   "cell_type": "code",
   "execution_count": 3,
   "metadata": {},
   "outputs": [],
   "source": [
    "df_furtos.drop(df_furtos[(df_furtos.PERIDOOCORRENCIA == 'EM HORA INCERTA')].index, inplace=True)"
   ]
  },
  {
   "cell_type": "code",
   "execution_count": 4,
   "metadata": {},
   "outputs": [],
   "source": [
    "df_furtos.rename({'PERIDOOCORRENCIA': 'PERIODO_OCORRENCIA'}, axis=1, inplace=True)"
   ]
  },
  {
   "cell_type": "code",
   "execution_count": 5,
   "metadata": {},
   "outputs": [],
   "source": [
    "furtos_2018_grp = df_furtos.groupby(['PERIODO_OCORRENCIA', 'DATAOCORRENCIA'])['PERIODO_OCORRENCIA'].count().rename('TOTAL').reset_index()"
   ]
  },
  {
   "cell_type": "code",
   "execution_count": 6,
   "metadata": {},
   "outputs": [
    {
     "data": {
      "text/html": [
       "<div>\n",
       "<style scoped>\n",
       "    .dataframe tbody tr th:only-of-type {\n",
       "        vertical-align: middle;\n",
       "    }\n",
       "\n",
       "    .dataframe tbody tr th {\n",
       "        vertical-align: top;\n",
       "    }\n",
       "\n",
       "    .dataframe thead th {\n",
       "        text-align: right;\n",
       "    }\n",
       "</style>\n",
       "<table border=\"1\" class=\"dataframe\">\n",
       "  <thead>\n",
       "    <tr style=\"text-align: right;\">\n",
       "      <th></th>\n",
       "      <th>PERIODO_OCORRENCIA</th>\n",
       "      <th>DATAOCORRENCIA</th>\n",
       "      <th>TOTAL</th>\n",
       "    </tr>\n",
       "  </thead>\n",
       "  <tbody>\n",
       "    <tr>\n",
       "      <th>0</th>\n",
       "      <td>A NOITE</td>\n",
       "      <td>2018-01-01</td>\n",
       "      <td>6</td>\n",
       "    </tr>\n",
       "    <tr>\n",
       "      <th>1</th>\n",
       "      <td>A NOITE</td>\n",
       "      <td>2018-01-02</td>\n",
       "      <td>45</td>\n",
       "    </tr>\n",
       "    <tr>\n",
       "      <th>2</th>\n",
       "      <td>A NOITE</td>\n",
       "      <td>2018-01-03</td>\n",
       "      <td>35</td>\n",
       "    </tr>\n",
       "    <tr>\n",
       "      <th>3</th>\n",
       "      <td>A NOITE</td>\n",
       "      <td>2018-01-04</td>\n",
       "      <td>28</td>\n",
       "    </tr>\n",
       "    <tr>\n",
       "      <th>4</th>\n",
       "      <td>A NOITE</td>\n",
       "      <td>2018-01-05</td>\n",
       "      <td>30</td>\n",
       "    </tr>\n",
       "    <tr>\n",
       "      <th>...</th>\n",
       "      <td>...</td>\n",
       "      <td>...</td>\n",
       "      <td>...</td>\n",
       "    </tr>\n",
       "    <tr>\n",
       "      <th>1455</th>\n",
       "      <td>PELA MANHÃ</td>\n",
       "      <td>2018-12-27</td>\n",
       "      <td>18</td>\n",
       "    </tr>\n",
       "    <tr>\n",
       "      <th>1456</th>\n",
       "      <td>PELA MANHÃ</td>\n",
       "      <td>2018-12-28</td>\n",
       "      <td>7</td>\n",
       "    </tr>\n",
       "    <tr>\n",
       "      <th>1457</th>\n",
       "      <td>PELA MANHÃ</td>\n",
       "      <td>2018-12-29</td>\n",
       "      <td>15</td>\n",
       "    </tr>\n",
       "    <tr>\n",
       "      <th>1458</th>\n",
       "      <td>PELA MANHÃ</td>\n",
       "      <td>2018-12-30</td>\n",
       "      <td>19</td>\n",
       "    </tr>\n",
       "    <tr>\n",
       "      <th>1459</th>\n",
       "      <td>PELA MANHÃ</td>\n",
       "      <td>2018-12-31</td>\n",
       "      <td>5</td>\n",
       "    </tr>\n",
       "  </tbody>\n",
       "</table>\n",
       "<p>1460 rows × 3 columns</p>\n",
       "</div>"
      ],
      "text/plain": [
       "     PERIODO_OCORRENCIA DATAOCORRENCIA  TOTAL\n",
       "0               A NOITE     2018-01-01      6\n",
       "1               A NOITE     2018-01-02     45\n",
       "2               A NOITE     2018-01-03     35\n",
       "3               A NOITE     2018-01-04     28\n",
       "4               A NOITE     2018-01-05     30\n",
       "...                 ...            ...    ...\n",
       "1455         PELA MANHÃ     2018-12-27     18\n",
       "1456         PELA MANHÃ     2018-12-28      7\n",
       "1457         PELA MANHÃ     2018-12-29     15\n",
       "1458         PELA MANHÃ     2018-12-30     19\n",
       "1459         PELA MANHÃ     2018-12-31      5\n",
       "\n",
       "[1460 rows x 3 columns]"
      ]
     },
     "execution_count": 6,
     "metadata": {},
     "output_type": "execute_result"
    }
   ],
   "source": [
    "furtos_2018_grp"
   ]
  },
  {
   "cell_type": "code",
   "execution_count": 8,
   "metadata": {},
   "outputs": [],
   "source": [
    "df1 = furtos_2018_grp.groupby(['PERIODO_OCORRENCIA'])['TOTAL'].sum().rename('TOTAL').reset_index()"
   ]
  },
  {
   "cell_type": "code",
   "execution_count": 9,
   "metadata": {},
   "outputs": [
    {
     "data": {
      "text/html": [
       "<div>\n",
       "<style scoped>\n",
       "    .dataframe tbody tr th:only-of-type {\n",
       "        vertical-align: middle;\n",
       "    }\n",
       "\n",
       "    .dataframe tbody tr th {\n",
       "        vertical-align: top;\n",
       "    }\n",
       "\n",
       "    .dataframe thead th {\n",
       "        text-align: right;\n",
       "    }\n",
       "</style>\n",
       "<table border=\"1\" class=\"dataframe\">\n",
       "  <thead>\n",
       "    <tr style=\"text-align: right;\">\n",
       "      <th></th>\n",
       "      <th>PERIODO_OCORRENCIA</th>\n",
       "      <th>TOTAL</th>\n",
       "    </tr>\n",
       "  </thead>\n",
       "  <tbody>\n",
       "    <tr>\n",
       "      <th>0</th>\n",
       "      <td>A NOITE</td>\n",
       "      <td>13018</td>\n",
       "    </tr>\n",
       "    <tr>\n",
       "      <th>1</th>\n",
       "      <td>A TARDE</td>\n",
       "      <td>13181</td>\n",
       "    </tr>\n",
       "    <tr>\n",
       "      <th>2</th>\n",
       "      <td>DE MADRUGADA</td>\n",
       "      <td>6766</td>\n",
       "    </tr>\n",
       "    <tr>\n",
       "      <th>3</th>\n",
       "      <td>PELA MANHÃ</td>\n",
       "      <td>16147</td>\n",
       "    </tr>\n",
       "  </tbody>\n",
       "</table>\n",
       "</div>"
      ],
      "text/plain": [
       "  PERIODO_OCORRENCIA  TOTAL\n",
       "0            A NOITE  13018\n",
       "1            A TARDE  13181\n",
       "2       DE MADRUGADA   6766\n",
       "3         PELA MANHÃ  16147"
      ]
     },
     "execution_count": 9,
     "metadata": {},
     "output_type": "execute_result"
    }
   ],
   "source": [
    "df1"
   ]
  },
  {
   "cell_type": "code",
   "execution_count": 10,
   "metadata": {},
   "outputs": [],
   "source": [
    "df2 = furtos_2018_grp.groupby(['PERIODO_OCORRENCIA'])['PERIODO_OCORRENCIA'].count().rename('QTD').reset_index()"
   ]
  },
  {
   "cell_type": "code",
   "execution_count": 11,
   "metadata": {},
   "outputs": [
    {
     "data": {
      "text/html": [
       "<div>\n",
       "<style scoped>\n",
       "    .dataframe tbody tr th:only-of-type {\n",
       "        vertical-align: middle;\n",
       "    }\n",
       "\n",
       "    .dataframe tbody tr th {\n",
       "        vertical-align: top;\n",
       "    }\n",
       "\n",
       "    .dataframe thead th {\n",
       "        text-align: right;\n",
       "    }\n",
       "</style>\n",
       "<table border=\"1\" class=\"dataframe\">\n",
       "  <thead>\n",
       "    <tr style=\"text-align: right;\">\n",
       "      <th></th>\n",
       "      <th>PERIODO_OCORRENCIA</th>\n",
       "      <th>QTD</th>\n",
       "    </tr>\n",
       "  </thead>\n",
       "  <tbody>\n",
       "    <tr>\n",
       "      <th>0</th>\n",
       "      <td>A NOITE</td>\n",
       "      <td>365</td>\n",
       "    </tr>\n",
       "    <tr>\n",
       "      <th>1</th>\n",
       "      <td>A TARDE</td>\n",
       "      <td>365</td>\n",
       "    </tr>\n",
       "    <tr>\n",
       "      <th>2</th>\n",
       "      <td>DE MADRUGADA</td>\n",
       "      <td>365</td>\n",
       "    </tr>\n",
       "    <tr>\n",
       "      <th>3</th>\n",
       "      <td>PELA MANHÃ</td>\n",
       "      <td>365</td>\n",
       "    </tr>\n",
       "  </tbody>\n",
       "</table>\n",
       "</div>"
      ],
      "text/plain": [
       "  PERIODO_OCORRENCIA  QTD\n",
       "0            A NOITE  365\n",
       "1            A TARDE  365\n",
       "2       DE MADRUGADA  365\n",
       "3         PELA MANHÃ  365"
      ]
     },
     "execution_count": 11,
     "metadata": {},
     "output_type": "execute_result"
    }
   ],
   "source": [
    "df2"
   ]
  },
  {
   "cell_type": "code",
   "execution_count": 12,
   "metadata": {},
   "outputs": [],
   "source": [
    "df3 = df1.merge(df2, how='left', on=['PERIODO_OCORRENCIA'])"
   ]
  },
  {
   "cell_type": "code",
   "execution_count": 13,
   "metadata": {},
   "outputs": [
    {
     "data": {
      "text/html": [
       "<div>\n",
       "<style scoped>\n",
       "    .dataframe tbody tr th:only-of-type {\n",
       "        vertical-align: middle;\n",
       "    }\n",
       "\n",
       "    .dataframe tbody tr th {\n",
       "        vertical-align: top;\n",
       "    }\n",
       "\n",
       "    .dataframe thead th {\n",
       "        text-align: right;\n",
       "    }\n",
       "</style>\n",
       "<table border=\"1\" class=\"dataframe\">\n",
       "  <thead>\n",
       "    <tr style=\"text-align: right;\">\n",
       "      <th></th>\n",
       "      <th>PERIODO_OCORRENCIA</th>\n",
       "      <th>TOTAL</th>\n",
       "      <th>QTD</th>\n",
       "    </tr>\n",
       "  </thead>\n",
       "  <tbody>\n",
       "    <tr>\n",
       "      <th>0</th>\n",
       "      <td>A NOITE</td>\n",
       "      <td>13018</td>\n",
       "      <td>365</td>\n",
       "    </tr>\n",
       "    <tr>\n",
       "      <th>1</th>\n",
       "      <td>A TARDE</td>\n",
       "      <td>13181</td>\n",
       "      <td>365</td>\n",
       "    </tr>\n",
       "    <tr>\n",
       "      <th>2</th>\n",
       "      <td>DE MADRUGADA</td>\n",
       "      <td>6766</td>\n",
       "      <td>365</td>\n",
       "    </tr>\n",
       "    <tr>\n",
       "      <th>3</th>\n",
       "      <td>PELA MANHÃ</td>\n",
       "      <td>16147</td>\n",
       "      <td>365</td>\n",
       "    </tr>\n",
       "  </tbody>\n",
       "</table>\n",
       "</div>"
      ],
      "text/plain": [
       "  PERIODO_OCORRENCIA  TOTAL  QTD\n",
       "0            A NOITE  13018  365\n",
       "1            A TARDE  13181  365\n",
       "2       DE MADRUGADA   6766  365\n",
       "3         PELA MANHÃ  16147  365"
      ]
     },
     "execution_count": 13,
     "metadata": {},
     "output_type": "execute_result"
    }
   ],
   "source": [
    "df3"
   ]
  },
  {
   "cell_type": "code",
   "execution_count": 14,
   "metadata": {},
   "outputs": [],
   "source": [
    "df3['LAMBDA'] = df3['TOTAL']/df3['QTD']"
   ]
  },
  {
   "cell_type": "code",
   "execution_count": 15,
   "metadata": {
    "scrolled": true
   },
   "outputs": [
    {
     "data": {
      "text/html": [
       "<div>\n",
       "<style scoped>\n",
       "    .dataframe tbody tr th:only-of-type {\n",
       "        vertical-align: middle;\n",
       "    }\n",
       "\n",
       "    .dataframe tbody tr th {\n",
       "        vertical-align: top;\n",
       "    }\n",
       "\n",
       "    .dataframe thead th {\n",
       "        text-align: right;\n",
       "    }\n",
       "</style>\n",
       "<table border=\"1\" class=\"dataframe\">\n",
       "  <thead>\n",
       "    <tr style=\"text-align: right;\">\n",
       "      <th></th>\n",
       "      <th>PERIODO_OCORRENCIA</th>\n",
       "      <th>TOTAL</th>\n",
       "      <th>QTD</th>\n",
       "      <th>LAMBDA</th>\n",
       "    </tr>\n",
       "  </thead>\n",
       "  <tbody>\n",
       "    <tr>\n",
       "      <th>0</th>\n",
       "      <td>A NOITE</td>\n",
       "      <td>13018</td>\n",
       "      <td>365</td>\n",
       "      <td>35.665753</td>\n",
       "    </tr>\n",
       "    <tr>\n",
       "      <th>1</th>\n",
       "      <td>A TARDE</td>\n",
       "      <td>13181</td>\n",
       "      <td>365</td>\n",
       "      <td>36.112329</td>\n",
       "    </tr>\n",
       "    <tr>\n",
       "      <th>2</th>\n",
       "      <td>DE MADRUGADA</td>\n",
       "      <td>6766</td>\n",
       "      <td>365</td>\n",
       "      <td>18.536986</td>\n",
       "    </tr>\n",
       "    <tr>\n",
       "      <th>3</th>\n",
       "      <td>PELA MANHÃ</td>\n",
       "      <td>16147</td>\n",
       "      <td>365</td>\n",
       "      <td>44.238356</td>\n",
       "    </tr>\n",
       "  </tbody>\n",
       "</table>\n",
       "</div>"
      ],
      "text/plain": [
       "  PERIODO_OCORRENCIA  TOTAL  QTD     LAMBDA\n",
       "0            A NOITE  13018  365  35.665753\n",
       "1            A TARDE  13181  365  36.112329\n",
       "2       DE MADRUGADA   6766  365  18.536986\n",
       "3         PELA MANHÃ  16147  365  44.238356"
      ]
     },
     "execution_count": 15,
     "metadata": {},
     "output_type": "execute_result"
    }
   ],
   "source": [
    "df3"
   ]
  },
  {
   "cell_type": "code",
   "execution_count": 16,
   "metadata": {},
   "outputs": [],
   "source": [
    "x = []\n",
    "x=np.array(x)\n",
    "\n",
    "for index, item in df3.iterrows():\n",
    "    np.random.seed(42)\n",
    "    y = np.random.poisson(item['LAMBDA'], item['QTD'])\n",
    "    x = np.concatenate((x, y))"
   ]
  },
  {
   "cell_type": "code",
   "execution_count": 17,
   "metadata": {},
   "outputs": [
    {
     "data": {
      "text/plain": [
       "array([33., 40., 29., ..., 43., 51., 39.])"
      ]
     },
     "execution_count": 17,
     "metadata": {},
     "output_type": "execute_result"
    }
   ],
   "source": [
    "x"
   ]
  },
  {
   "cell_type": "code",
   "execution_count": 18,
   "metadata": {},
   "outputs": [
    {
     "data": {
      "text/plain": [
       "1460"
      ]
     },
     "execution_count": 18,
     "metadata": {},
     "output_type": "execute_result"
    }
   ],
   "source": [
    "x.size"
   ]
  },
  {
   "cell_type": "code",
   "execution_count": 20,
   "metadata": {},
   "outputs": [],
   "source": [
    "furtos_2018_grp['expected_value'] = x.tolist()"
   ]
  },
  {
   "cell_type": "code",
   "execution_count": 21,
   "metadata": {},
   "outputs": [
    {
     "data": {
      "text/html": [
       "<div>\n",
       "<style scoped>\n",
       "    .dataframe tbody tr th:only-of-type {\n",
       "        vertical-align: middle;\n",
       "    }\n",
       "\n",
       "    .dataframe tbody tr th {\n",
       "        vertical-align: top;\n",
       "    }\n",
       "\n",
       "    .dataframe thead th {\n",
       "        text-align: right;\n",
       "    }\n",
       "</style>\n",
       "<table border=\"1\" class=\"dataframe\">\n",
       "  <thead>\n",
       "    <tr style=\"text-align: right;\">\n",
       "      <th></th>\n",
       "      <th>PERIODO_OCORRENCIA</th>\n",
       "      <th>DATAOCORRENCIA</th>\n",
       "      <th>TOTAL</th>\n",
       "      <th>expected_value</th>\n",
       "    </tr>\n",
       "  </thead>\n",
       "  <tbody>\n",
       "    <tr>\n",
       "      <th>0</th>\n",
       "      <td>A NOITE</td>\n",
       "      <td>2018-01-01</td>\n",
       "      <td>6</td>\n",
       "      <td>33.0</td>\n",
       "    </tr>\n",
       "    <tr>\n",
       "      <th>1</th>\n",
       "      <td>A NOITE</td>\n",
       "      <td>2018-01-02</td>\n",
       "      <td>45</td>\n",
       "      <td>40.0</td>\n",
       "    </tr>\n",
       "    <tr>\n",
       "      <th>2</th>\n",
       "      <td>A NOITE</td>\n",
       "      <td>2018-01-03</td>\n",
       "      <td>35</td>\n",
       "      <td>29.0</td>\n",
       "    </tr>\n",
       "    <tr>\n",
       "      <th>3</th>\n",
       "      <td>A NOITE</td>\n",
       "      <td>2018-01-04</td>\n",
       "      <td>28</td>\n",
       "      <td>37.0</td>\n",
       "    </tr>\n",
       "    <tr>\n",
       "      <th>4</th>\n",
       "      <td>A NOITE</td>\n",
       "      <td>2018-01-05</td>\n",
       "      <td>30</td>\n",
       "      <td>42.0</td>\n",
       "    </tr>\n",
       "    <tr>\n",
       "      <th>...</th>\n",
       "      <td>...</td>\n",
       "      <td>...</td>\n",
       "      <td>...</td>\n",
       "      <td>...</td>\n",
       "    </tr>\n",
       "    <tr>\n",
       "      <th>1455</th>\n",
       "      <td>PELA MANHÃ</td>\n",
       "      <td>2018-12-27</td>\n",
       "      <td>18</td>\n",
       "      <td>38.0</td>\n",
       "    </tr>\n",
       "    <tr>\n",
       "      <th>1456</th>\n",
       "      <td>PELA MANHÃ</td>\n",
       "      <td>2018-12-28</td>\n",
       "      <td>7</td>\n",
       "      <td>37.0</td>\n",
       "    </tr>\n",
       "    <tr>\n",
       "      <th>1457</th>\n",
       "      <td>PELA MANHÃ</td>\n",
       "      <td>2018-12-29</td>\n",
       "      <td>15</td>\n",
       "      <td>43.0</td>\n",
       "    </tr>\n",
       "    <tr>\n",
       "      <th>1458</th>\n",
       "      <td>PELA MANHÃ</td>\n",
       "      <td>2018-12-30</td>\n",
       "      <td>19</td>\n",
       "      <td>51.0</td>\n",
       "    </tr>\n",
       "    <tr>\n",
       "      <th>1459</th>\n",
       "      <td>PELA MANHÃ</td>\n",
       "      <td>2018-12-31</td>\n",
       "      <td>5</td>\n",
       "      <td>39.0</td>\n",
       "    </tr>\n",
       "  </tbody>\n",
       "</table>\n",
       "<p>1460 rows × 4 columns</p>\n",
       "</div>"
      ],
      "text/plain": [
       "     PERIODO_OCORRENCIA DATAOCORRENCIA  TOTAL  expected_value\n",
       "0               A NOITE     2018-01-01      6            33.0\n",
       "1               A NOITE     2018-01-02     45            40.0\n",
       "2               A NOITE     2018-01-03     35            29.0\n",
       "3               A NOITE     2018-01-04     28            37.0\n",
       "4               A NOITE     2018-01-05     30            42.0\n",
       "...                 ...            ...    ...             ...\n",
       "1455         PELA MANHÃ     2018-12-27     18            38.0\n",
       "1456         PELA MANHÃ     2018-12-28      7            37.0\n",
       "1457         PELA MANHÃ     2018-12-29     15            43.0\n",
       "1458         PELA MANHÃ     2018-12-30     19            51.0\n",
       "1459         PELA MANHÃ     2018-12-31      5            39.0\n",
       "\n",
       "[1460 rows x 4 columns]"
      ]
     },
     "execution_count": 21,
     "metadata": {},
     "output_type": "execute_result"
    }
   ],
   "source": [
    "furtos_2018_grp"
   ]
  },
  {
   "cell_type": "code",
   "execution_count": 24,
   "metadata": {},
   "outputs": [
    {
     "name": "stdout",
     "output_type": "stream",
     "text": [
      "    PERIODO_OCORRENCIA DATAOCORRENCIA  TOTAL  expected_value\n",
      "0              A NOITE     2018-01-01      6            33.0\n",
      "1              A NOITE     2018-01-02     45            40.0\n",
      "2              A NOITE     2018-01-03     35            29.0\n",
      "3              A NOITE     2018-01-04     28            37.0\n",
      "4              A NOITE     2018-01-05     30            42.0\n",
      "..                 ...            ...    ...             ...\n",
      "360            A NOITE     2018-12-27     21            30.0\n",
      "361            A NOITE     2018-12-28     20            29.0\n",
      "362            A NOITE     2018-12-29     24            34.0\n",
      "363            A NOITE     2018-12-30     17            42.0\n",
      "364            A NOITE     2018-12-31     10            31.0\n",
      "\n",
      "[365 rows x 4 columns]\n",
      "    PERIODO_OCORRENCIA DATAOCORRENCIA  TOTAL  expected_value\n",
      "365            A TARDE     2018-01-01     30            34.0\n",
      "366            A TARDE     2018-01-02     35            40.0\n",
      "367            A TARDE     2018-01-03     42            29.0\n",
      "368            A TARDE     2018-01-04     34            38.0\n",
      "369            A TARDE     2018-01-05     25            43.0\n",
      "..                 ...            ...    ...             ...\n",
      "725            A TARDE     2018-12-27     12            39.0\n",
      "726            A TARDE     2018-12-28     36            32.0\n",
      "727            A TARDE     2018-12-29      7            30.0\n",
      "728            A TARDE     2018-12-30     13            30.0\n",
      "729            A TARDE     2018-12-31      8            35.0\n",
      "\n",
      "[365 rows x 4 columns]\n",
      "     PERIODO_OCORRENCIA DATAOCORRENCIA  TOTAL  expected_value\n",
      "730        DE MADRUGADA     2018-01-01     33            17.0\n",
      "731        DE MADRUGADA     2018-01-02     27            22.0\n",
      "732        DE MADRUGADA     2018-01-03     27            13.0\n",
      "733        DE MADRUGADA     2018-01-04     18            20.0\n",
      "734        DE MADRUGADA     2018-01-05     17            23.0\n",
      "...                 ...            ...    ...             ...\n",
      "1090       DE MADRUGADA     2018-12-27      9            14.0\n",
      "1091       DE MADRUGADA     2018-12-28     24            12.0\n",
      "1092       DE MADRUGADA     2018-12-29     13            15.0\n",
      "1093       DE MADRUGADA     2018-12-30      8            20.0\n",
      "1094       DE MADRUGADA     2018-12-31      8            14.0\n",
      "\n",
      "[365 rows x 4 columns]\n",
      "     PERIODO_OCORRENCIA DATAOCORRENCIA  TOTAL  expected_value\n",
      "1095         PELA MANHÃ     2018-01-01      7            42.0\n",
      "1096         PELA MANHÃ     2018-01-02     70            49.0\n",
      "1097         PELA MANHÃ     2018-01-03     72            36.0\n",
      "1098         PELA MANHÃ     2018-01-04     18            46.0\n",
      "1099         PELA MANHÃ     2018-01-05     29            52.0\n",
      "...                 ...            ...    ...             ...\n",
      "1455         PELA MANHÃ     2018-12-27     18            38.0\n",
      "1456         PELA MANHÃ     2018-12-28      7            37.0\n",
      "1457         PELA MANHÃ     2018-12-29     15            43.0\n",
      "1458         PELA MANHÃ     2018-12-30     19            51.0\n",
      "1459         PELA MANHÃ     2018-12-31      5            39.0\n",
      "\n",
      "[365 rows x 4 columns]\n"
     ]
    }
   ],
   "source": [
    "for index, item in df3.iterrows():\n",
    "    print(furtos_2018_grp.loc[furtos_2018_grp['PERIODO_OCORRENCIA'] == item['PERIODO_OCORRENCIA']])"
   ]
  },
  {
   "cell_type": "code",
   "execution_count": 25,
   "metadata": {},
   "outputs": [],
   "source": [
    "chi_square = []\n",
    "\n",
    "p_value = []\n",
    "\n",
    "for index, item in df3.iterrows():\n",
    "    df_per_day = furtos_2018_grp.loc[furtos_2018_grp['PERIODO_OCORRENCIA'] == item['PERIODO_OCORRENCIA']]\n",
    "    \n",
    "    chi_square.append(chisquare(f_obs = df_per_day['TOTAL'], f_exp = df_per_day['expected_value'])[0])\n",
    "    p_value.append(chisquare(f_obs = df_per_day['TOTAL'], f_exp = df_per_day['expected_value'])[1])"
   ]
  },
  {
   "cell_type": "code",
   "execution_count": 26,
   "metadata": {},
   "outputs": [],
   "source": [
    "chi_square = np.array(chi_square)\n",
    "p_value = np.array(p_value)"
   ]
  },
  {
   "cell_type": "code",
   "execution_count": 27,
   "metadata": {},
   "outputs": [
    {
     "data": {
      "text/plain": [
       "array([2222.96457744, 2512.10461552, 1510.45634853, 3732.53821439])"
      ]
     },
     "execution_count": 27,
     "metadata": {},
     "output_type": "execute_result"
    }
   ],
   "source": [
    "chi_square"
   ]
  },
  {
   "cell_type": "code",
   "execution_count": 28,
   "metadata": {},
   "outputs": [
    {
     "data": {
      "text/plain": [
       "array([1.30073885e-263, 0.00000000e+000, 3.15376220e-139, 0.00000000e+000])"
      ]
     },
     "execution_count": 28,
     "metadata": {},
     "output_type": "execute_result"
    }
   ],
   "source": [
    "p_value"
   ]
  },
  {
   "cell_type": "code",
   "execution_count": 29,
   "metadata": {},
   "outputs": [],
   "source": [
    "df3['chi_square'] = chi_square.tolist()\n",
    "df3['p_value'] = p_value.tolist()"
   ]
  },
  {
   "cell_type": "code",
   "execution_count": 30,
   "metadata": {},
   "outputs": [
    {
     "data": {
      "text/html": [
       "<div>\n",
       "<style scoped>\n",
       "    .dataframe tbody tr th:only-of-type {\n",
       "        vertical-align: middle;\n",
       "    }\n",
       "\n",
       "    .dataframe tbody tr th {\n",
       "        vertical-align: top;\n",
       "    }\n",
       "\n",
       "    .dataframe thead th {\n",
       "        text-align: right;\n",
       "    }\n",
       "</style>\n",
       "<table border=\"1\" class=\"dataframe\">\n",
       "  <thead>\n",
       "    <tr style=\"text-align: right;\">\n",
       "      <th></th>\n",
       "      <th>PERIODO_OCORRENCIA</th>\n",
       "      <th>TOTAL</th>\n",
       "      <th>QTD</th>\n",
       "      <th>LAMBDA</th>\n",
       "      <th>chi_square</th>\n",
       "      <th>p_value</th>\n",
       "    </tr>\n",
       "  </thead>\n",
       "  <tbody>\n",
       "    <tr>\n",
       "      <th>0</th>\n",
       "      <td>A NOITE</td>\n",
       "      <td>13018</td>\n",
       "      <td>365</td>\n",
       "      <td>35.665753</td>\n",
       "      <td>2222.964577</td>\n",
       "      <td>1.300739e-263</td>\n",
       "    </tr>\n",
       "    <tr>\n",
       "      <th>1</th>\n",
       "      <td>A TARDE</td>\n",
       "      <td>13181</td>\n",
       "      <td>365</td>\n",
       "      <td>36.112329</td>\n",
       "      <td>2512.104616</td>\n",
       "      <td>0.000000e+00</td>\n",
       "    </tr>\n",
       "    <tr>\n",
       "      <th>2</th>\n",
       "      <td>DE MADRUGADA</td>\n",
       "      <td>6766</td>\n",
       "      <td>365</td>\n",
       "      <td>18.536986</td>\n",
       "      <td>1510.456349</td>\n",
       "      <td>3.153762e-139</td>\n",
       "    </tr>\n",
       "    <tr>\n",
       "      <th>3</th>\n",
       "      <td>PELA MANHÃ</td>\n",
       "      <td>16147</td>\n",
       "      <td>365</td>\n",
       "      <td>44.238356</td>\n",
       "      <td>3732.538214</td>\n",
       "      <td>0.000000e+00</td>\n",
       "    </tr>\n",
       "  </tbody>\n",
       "</table>\n",
       "</div>"
      ],
      "text/plain": [
       "  PERIODO_OCORRENCIA  TOTAL  QTD     LAMBDA   chi_square        p_value\n",
       "0            A NOITE  13018  365  35.665753  2222.964577  1.300739e-263\n",
       "1            A TARDE  13181  365  36.112329  2512.104616   0.000000e+00\n",
       "2       DE MADRUGADA   6766  365  18.536986  1510.456349  3.153762e-139\n",
       "3         PELA MANHÃ  16147  365  44.238356  3732.538214   0.000000e+00"
      ]
     },
     "execution_count": 30,
     "metadata": {},
     "output_type": "execute_result"
    }
   ],
   "source": [
    "df3"
   ]
  },
  {
   "cell_type": "code",
   "execution_count": 31,
   "metadata": {},
   "outputs": [
    {
     "data": {
      "text/html": [
       "<div>\n",
       "<style scoped>\n",
       "    .dataframe tbody tr th:only-of-type {\n",
       "        vertical-align: middle;\n",
       "    }\n",
       "\n",
       "    .dataframe tbody tr th {\n",
       "        vertical-align: top;\n",
       "    }\n",
       "\n",
       "    .dataframe thead th {\n",
       "        text-align: right;\n",
       "    }\n",
       "</style>\n",
       "<table border=\"1\" class=\"dataframe\">\n",
       "  <thead>\n",
       "    <tr style=\"text-align: right;\">\n",
       "      <th></th>\n",
       "      <th>PERIODO_OCORRENCIA</th>\n",
       "      <th>TOTAL</th>\n",
       "      <th>QTD</th>\n",
       "      <th>LAMBDA</th>\n",
       "      <th>chi_square</th>\n",
       "      <th>p_value</th>\n",
       "    </tr>\n",
       "  </thead>\n",
       "  <tbody>\n",
       "    <tr>\n",
       "      <th>2</th>\n",
       "      <td>DE MADRUGADA</td>\n",
       "      <td>6766</td>\n",
       "      <td>365</td>\n",
       "      <td>18.536986</td>\n",
       "      <td>1510.456349</td>\n",
       "      <td>3.153762e-139</td>\n",
       "    </tr>\n",
       "    <tr>\n",
       "      <th>3</th>\n",
       "      <td>PELA MANHÃ</td>\n",
       "      <td>16147</td>\n",
       "      <td>365</td>\n",
       "      <td>44.238356</td>\n",
       "      <td>3732.538214</td>\n",
       "      <td>0.000000e+00</td>\n",
       "    </tr>\n",
       "    <tr>\n",
       "      <th>1</th>\n",
       "      <td>A TARDE</td>\n",
       "      <td>13181</td>\n",
       "      <td>365</td>\n",
       "      <td>36.112329</td>\n",
       "      <td>2512.104616</td>\n",
       "      <td>0.000000e+00</td>\n",
       "    </tr>\n",
       "    <tr>\n",
       "      <th>0</th>\n",
       "      <td>A NOITE</td>\n",
       "      <td>13018</td>\n",
       "      <td>365</td>\n",
       "      <td>35.665753</td>\n",
       "      <td>2222.964577</td>\n",
       "      <td>1.300739e-263</td>\n",
       "    </tr>\n",
       "  </tbody>\n",
       "</table>\n",
       "</div>"
      ],
      "text/plain": [
       "  PERIODO_OCORRENCIA  TOTAL  QTD     LAMBDA   chi_square        p_value\n",
       "2       DE MADRUGADA   6766  365  18.536986  1510.456349  3.153762e-139\n",
       "3         PELA MANHÃ  16147  365  44.238356  3732.538214   0.000000e+00\n",
       "1            A TARDE  13181  365  36.112329  2512.104616   0.000000e+00\n",
       "0            A NOITE  13018  365  35.665753  2222.964577  1.300739e-263"
      ]
     },
     "execution_count": 31,
     "metadata": {},
     "output_type": "execute_result"
    }
   ],
   "source": [
    "cats = ['DE MADRUGADA', 'PELA MANHÃ', 'A TARDE', 'A NOITE']\n",
    "cat_type = CategoricalDtype(categories=cats, ordered=True)\n",
    "df3['PERIODO_OCORRENCIA'] = df3['PERIODO_OCORRENCIA'].astype(cat_type)\n",
    "df3.sort_values(\"PERIODO_OCORRENCIA\", inplace=True)\n",
    "df3"
   ]
  },
  {
   "cell_type": "code",
   "execution_count": 32,
   "metadata": {},
   "outputs": [
    {
     "data": {
      "text/plain": [
       "<matplotlib.axes._subplots.AxesSubplot at 0x1a944368b20>"
      ]
     },
     "execution_count": 32,
     "metadata": {},
     "output_type": "execute_result"
    },
    {
     "data": {
      "image/png": "[encoded data removed]",
      "text/plain": [
       "<Figure size 1728x225 with 1 Axes>"
      ]
     },
     "metadata": {
      "needs_background": "light"
     },
     "output_type": "display_data"
    }
   ],
   "source": [
    "def render_mpl_table(data, col_width=3.0, row_height=0.625, font_size=14,\n",
    "                     header_color='#40466e', row_colors=['#f1f1f2', 'w'], edge_color='w',\n",
    "                     bbox=[0, 0, 1, 1], header_columns=0,\n",
    "                     ax=None, **kwargs):\n",
    "    if ax is None:\n",
    "        size = (np.array(data.shape[::-1]) + np.array([0, 1])) * np.array([col_width, row_height])\n",
    "        fig, ax = plt.subplots(figsize=size)\n",
    "        ax.axis('off')\n",
    "\n",
    "    mpl_table = ax.table(cellText=data.values, bbox=bbox, colLabels=data.columns, **kwargs)\n",
    "\n",
    "    mpl_table.auto_set_font_size(False)\n",
    "    mpl_table.set_fontsize(font_size)\n",
    "\n",
    "    for k, cell in  six.iteritems(mpl_table._cells):\n",
    "        cell.set_edgecolor(edge_color)\n",
    "        if k[0] == 0 or k[1] < header_columns:\n",
    "            cell.set_text_props(weight='bold', color='w')\n",
    "            cell.set_facecolor(header_color)\n",
    "        else:\n",
    "            cell.set_facecolor(row_colors[k[0]%len(row_colors) ])\n",
    "    fig.savefig('qui-quadrado_resultados_furtos_2018_periodo_dia.png')\n",
    "    \n",
    "    return ax\n",
    "\n",
    "render_mpl_table(df3, header_columns=0, col_width=4.0)"
   ]
  }
 ],
 "metadata": {
  "kernelspec": {
   "display_name": "Python 3",
   "language": "python",
   "name": "python3"
  },
  "language_info": {
   "codemirror_mode": {
    "name": "ipython",
    "version": 3
   },
   "file_extension": ".py",
   "mimetype": "text/x-python",
   "name": "python",
   "nbconvert_exporter": "python",
   "pygments_lexer": "ipython3",
   "version": "3.8.3"
  }
 },
 "nbformat": 4,
 "nbformat_minor": 2
}
