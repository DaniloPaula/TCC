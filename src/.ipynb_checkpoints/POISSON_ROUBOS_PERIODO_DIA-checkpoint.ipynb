{
 "cells": [
  {
   "cell_type": "code",
   "execution_count": 1,
   "metadata": {},
   "outputs": [],
   "source": [
    "import pandas as pd\n",
    "from pandas.api.types import CategoricalDtype\n",
    "from pandas.plotting import table\n",
    "import numpy as np\n",
    "import matplotlib.pyplot as plt\n",
    "import matplotlib.dates as mdates\n",
    "import datetime as dt\n",
    "import seaborn as sns\n",
    "import six\n",
    "from scipy.stats import chisquare"
   ]
  },
  {
   "cell_type": "code",
   "execution_count": 4,
   "metadata": {},
   "outputs": [],
   "source": [
    "df_roubos = pd.read_csv('D:\\\\EPS\\\\TCC\\\\data_cleaned\\\\SSP\\\\roubos_2018.csv', sep=\",\", decimal=\".\")"
   ]
  },
  {
   "cell_type": "code",
   "execution_count": 5,
   "metadata": {},
   "outputs": [],
   "source": [
    "df_roubos.drop(df_furtos[(df_furtos.PERIDOOCORRENCIA == 'EM HORA INCERTA')].index, inplace=True)"
   ]
  },
  {
   "cell_type": "code",
   "execution_count": 6,
   "metadata": {},
   "outputs": [],
   "source": [
    "df_roubos.rename({'PERIDOOCORRENCIA': 'PERIODO_OCORRENCIA'}, axis=1, inplace=True)"
   ]
  },
  {
   "cell_type": "code",
   "execution_count": 7,
   "metadata": {},
   "outputs": [],
   "source": [
    "roubos_2018_grp = df_roubos.groupby(['PERIODO_OCORRENCIA', 'DATAOCORRENCIA'])['PERIODO_OCORRENCIA'].count().rename('TOTAL').reset_index()"
   ]
  },
  {
   "cell_type": "code",
   "execution_count": 8,
   "metadata": {},
   "outputs": [
    {
     "data": {
      "text/html": [
       "<div>\n",
       "<style scoped>\n",
       "    .dataframe tbody tr th:only-of-type {\n",
       "        vertical-align: middle;\n",
       "    }\n",
       "\n",
       "    .dataframe tbody tr th {\n",
       "        vertical-align: top;\n",
       "    }\n",
       "\n",
       "    .dataframe thead th {\n",
       "        text-align: right;\n",
       "    }\n",
       "</style>\n",
       "<table border=\"1\" class=\"dataframe\">\n",
       "  <thead>\n",
       "    <tr style=\"text-align: right;\">\n",
       "      <th></th>\n",
       "      <th>PERIODO_OCORRENCIA</th>\n",
       "      <th>DATAOCORRENCIA</th>\n",
       "      <th>TOTAL</th>\n",
       "    </tr>\n",
       "  </thead>\n",
       "  <tbody>\n",
       "    <tr>\n",
       "      <th>0</th>\n",
       "      <td>A NOITE</td>\n",
       "      <td>2018-01-01</td>\n",
       "      <td>18</td>\n",
       "    </tr>\n",
       "    <tr>\n",
       "      <th>1</th>\n",
       "      <td>A NOITE</td>\n",
       "      <td>2018-01-02</td>\n",
       "      <td>72</td>\n",
       "    </tr>\n",
       "    <tr>\n",
       "      <th>2</th>\n",
       "      <td>A NOITE</td>\n",
       "      <td>2018-01-03</td>\n",
       "      <td>97</td>\n",
       "    </tr>\n",
       "    <tr>\n",
       "      <th>3</th>\n",
       "      <td>A NOITE</td>\n",
       "      <td>2018-01-04</td>\n",
       "      <td>36</td>\n",
       "    </tr>\n",
       "    <tr>\n",
       "      <th>4</th>\n",
       "      <td>A NOITE</td>\n",
       "      <td>2018-01-05</td>\n",
       "      <td>48</td>\n",
       "    </tr>\n",
       "    <tr>\n",
       "      <th>...</th>\n",
       "      <td>...</td>\n",
       "      <td>...</td>\n",
       "      <td>...</td>\n",
       "    </tr>\n",
       "    <tr>\n",
       "      <th>1455</th>\n",
       "      <td>PELA MANHÃ</td>\n",
       "      <td>2018-12-27</td>\n",
       "      <td>19</td>\n",
       "    </tr>\n",
       "    <tr>\n",
       "      <th>1456</th>\n",
       "      <td>PELA MANHÃ</td>\n",
       "      <td>2018-12-28</td>\n",
       "      <td>34</td>\n",
       "    </tr>\n",
       "    <tr>\n",
       "      <th>1457</th>\n",
       "      <td>PELA MANHÃ</td>\n",
       "      <td>2018-12-29</td>\n",
       "      <td>35</td>\n",
       "    </tr>\n",
       "    <tr>\n",
       "      <th>1458</th>\n",
       "      <td>PELA MANHÃ</td>\n",
       "      <td>2018-12-30</td>\n",
       "      <td>48</td>\n",
       "    </tr>\n",
       "    <tr>\n",
       "      <th>1459</th>\n",
       "      <td>PELA MANHÃ</td>\n",
       "      <td>2018-12-31</td>\n",
       "      <td>18</td>\n",
       "    </tr>\n",
       "  </tbody>\n",
       "</table>\n",
       "<p>1460 rows × 3 columns</p>\n",
       "</div>"
      ],
      "text/plain": [
       "     PERIODO_OCORRENCIA DATAOCORRENCIA  TOTAL\n",
       "0               A NOITE     2018-01-01     18\n",
       "1               A NOITE     2018-01-02     72\n",
       "2               A NOITE     2018-01-03     97\n",
       "3               A NOITE     2018-01-04     36\n",
       "4               A NOITE     2018-01-05     48\n",
       "...                 ...            ...    ...\n",
       "1455         PELA MANHÃ     2018-12-27     19\n",
       "1456         PELA MANHÃ     2018-12-28     34\n",
       "1457         PELA MANHÃ     2018-12-29     35\n",
       "1458         PELA MANHÃ     2018-12-30     48\n",
       "1459         PELA MANHÃ     2018-12-31     18\n",
       "\n",
       "[1460 rows x 3 columns]"
      ]
     },
     "execution_count": 8,
     "metadata": {},
     "output_type": "execute_result"
    }
   ],
   "source": [
    "roubos_2018_grp"
   ]
  },
  {
   "cell_type": "code",
   "execution_count": 9,
   "metadata": {},
   "outputs": [],
   "source": [
    "df1 = roubos_2018_grp.groupby(['PERIODO_OCORRENCIA'])['TOTAL'].sum().rename('TOTAL').reset_index()"
   ]
  },
  {
   "cell_type": "code",
   "execution_count": 10,
   "metadata": {},
   "outputs": [
    {
     "data": {
      "text/html": [
       "<div>\n",
       "<style scoped>\n",
       "    .dataframe tbody tr th:only-of-type {\n",
       "        vertical-align: middle;\n",
       "    }\n",
       "\n",
       "    .dataframe tbody tr th {\n",
       "        vertical-align: top;\n",
       "    }\n",
       "\n",
       "    .dataframe thead th {\n",
       "        text-align: right;\n",
       "    }\n",
       "</style>\n",
       "<table border=\"1\" class=\"dataframe\">\n",
       "  <thead>\n",
       "    <tr style=\"text-align: right;\">\n",
       "      <th></th>\n",
       "      <th>PERIODO_OCORRENCIA</th>\n",
       "      <th>TOTAL</th>\n",
       "    </tr>\n",
       "  </thead>\n",
       "  <tbody>\n",
       "    <tr>\n",
       "      <th>0</th>\n",
       "      <td>A NOITE</td>\n",
       "      <td>27497</td>\n",
       "    </tr>\n",
       "    <tr>\n",
       "      <th>1</th>\n",
       "      <td>A TARDE</td>\n",
       "      <td>12887</td>\n",
       "    </tr>\n",
       "    <tr>\n",
       "      <th>2</th>\n",
       "      <td>DE MADRUGADA</td>\n",
       "      <td>10389</td>\n",
       "    </tr>\n",
       "    <tr>\n",
       "      <th>3</th>\n",
       "      <td>PELA MANHÃ</td>\n",
       "      <td>12432</td>\n",
       "    </tr>\n",
       "  </tbody>\n",
       "</table>\n",
       "</div>"
      ],
      "text/plain": [
       "  PERIODO_OCORRENCIA  TOTAL\n",
       "0            A NOITE  27497\n",
       "1            A TARDE  12887\n",
       "2       DE MADRUGADA  10389\n",
       "3         PELA MANHÃ  12432"
      ]
     },
     "execution_count": 10,
     "metadata": {},
     "output_type": "execute_result"
    }
   ],
   "source": [
    "df1"
   ]
  },
  {
   "cell_type": "code",
   "execution_count": 11,
   "metadata": {},
   "outputs": [],
   "source": [
    "df2 = roubos_2018_grp.groupby(['PERIODO_OCORRENCIA'])['PERIODO_OCORRENCIA'].count().rename('QTD').reset_index()"
   ]
  },
  {
   "cell_type": "code",
   "execution_count": 12,
   "metadata": {},
   "outputs": [
    {
     "data": {
      "text/html": [
       "<div>\n",
       "<style scoped>\n",
       "    .dataframe tbody tr th:only-of-type {\n",
       "        vertical-align: middle;\n",
       "    }\n",
       "\n",
       "    .dataframe tbody tr th {\n",
       "        vertical-align: top;\n",
       "    }\n",
       "\n",
       "    .dataframe thead th {\n",
       "        text-align: right;\n",
       "    }\n",
       "</style>\n",
       "<table border=\"1\" class=\"dataframe\">\n",
       "  <thead>\n",
       "    <tr style=\"text-align: right;\">\n",
       "      <th></th>\n",
       "      <th>PERIODO_OCORRENCIA</th>\n",
       "      <th>QTD</th>\n",
       "    </tr>\n",
       "  </thead>\n",
       "  <tbody>\n",
       "    <tr>\n",
       "      <th>0</th>\n",
       "      <td>A NOITE</td>\n",
       "      <td>365</td>\n",
       "    </tr>\n",
       "    <tr>\n",
       "      <th>1</th>\n",
       "      <td>A TARDE</td>\n",
       "      <td>365</td>\n",
       "    </tr>\n",
       "    <tr>\n",
       "      <th>2</th>\n",
       "      <td>DE MADRUGADA</td>\n",
       "      <td>365</td>\n",
       "    </tr>\n",
       "    <tr>\n",
       "      <th>3</th>\n",
       "      <td>PELA MANHÃ</td>\n",
       "      <td>365</td>\n",
       "    </tr>\n",
       "  </tbody>\n",
       "</table>\n",
       "</div>"
      ],
      "text/plain": [
       "  PERIODO_OCORRENCIA  QTD\n",
       "0            A NOITE  365\n",
       "1            A TARDE  365\n",
       "2       DE MADRUGADA  365\n",
       "3         PELA MANHÃ  365"
      ]
     },
     "execution_count": 12,
     "metadata": {},
     "output_type": "execute_result"
    }
   ],
   "source": [
    "df2"
   ]
  },
  {
   "cell_type": "code",
   "execution_count": 13,
   "metadata": {},
   "outputs": [],
   "source": [
    "df3 = df1.merge(df2, how='left', on=['PERIODO_OCORRENCIA'])"
   ]
  },
  {
   "cell_type": "code",
   "execution_count": 14,
   "metadata": {},
   "outputs": [
    {
     "data": {
      "text/html": [
       "<div>\n",
       "<style scoped>\n",
       "    .dataframe tbody tr th:only-of-type {\n",
       "        vertical-align: middle;\n",
       "    }\n",
       "\n",
       "    .dataframe tbody tr th {\n",
       "        vertical-align: top;\n",
       "    }\n",
       "\n",
       "    .dataframe thead th {\n",
       "        text-align: right;\n",
       "    }\n",
       "</style>\n",
       "<table border=\"1\" class=\"dataframe\">\n",
       "  <thead>\n",
       "    <tr style=\"text-align: right;\">\n",
       "      <th></th>\n",
       "      <th>PERIODO_OCORRENCIA</th>\n",
       "      <th>TOTAL</th>\n",
       "      <th>QTD</th>\n",
       "    </tr>\n",
       "  </thead>\n",
       "  <tbody>\n",
       "    <tr>\n",
       "      <th>0</th>\n",
       "      <td>A NOITE</td>\n",
       "      <td>27497</td>\n",
       "      <td>365</td>\n",
       "    </tr>\n",
       "    <tr>\n",
       "      <th>1</th>\n",
       "      <td>A TARDE</td>\n",
       "      <td>12887</td>\n",
       "      <td>365</td>\n",
       "    </tr>\n",
       "    <tr>\n",
       "      <th>2</th>\n",
       "      <td>DE MADRUGADA</td>\n",
       "      <td>10389</td>\n",
       "      <td>365</td>\n",
       "    </tr>\n",
       "    <tr>\n",
       "      <th>3</th>\n",
       "      <td>PELA MANHÃ</td>\n",
       "      <td>12432</td>\n",
       "      <td>365</td>\n",
       "    </tr>\n",
       "  </tbody>\n",
       "</table>\n",
       "</div>"
      ],
      "text/plain": [
       "  PERIODO_OCORRENCIA  TOTAL  QTD\n",
       "0            A NOITE  27497  365\n",
       "1            A TARDE  12887  365\n",
       "2       DE MADRUGADA  10389  365\n",
       "3         PELA MANHÃ  12432  365"
      ]
     },
     "execution_count": 14,
     "metadata": {},
     "output_type": "execute_result"
    }
   ],
   "source": [
    "df3"
   ]
  },
  {
   "cell_type": "code",
   "execution_count": 15,
   "metadata": {},
   "outputs": [],
   "source": [
    "df3['LAMBDA'] = df3['TOTAL']/df3['QTD']"
   ]
  },
  {
   "cell_type": "code",
   "execution_count": 16,
   "metadata": {
    "scrolled": true
   },
   "outputs": [
    {
     "data": {
      "text/html": [
       "<div>\n",
       "<style scoped>\n",
       "    .dataframe tbody tr th:only-of-type {\n",
       "        vertical-align: middle;\n",
       "    }\n",
       "\n",
       "    .dataframe tbody tr th {\n",
       "        vertical-align: top;\n",
       "    }\n",
       "\n",
       "    .dataframe thead th {\n",
       "        text-align: right;\n",
       "    }\n",
       "</style>\n",
       "<table border=\"1\" class=\"dataframe\">\n",
       "  <thead>\n",
       "    <tr style=\"text-align: right;\">\n",
       "      <th></th>\n",
       "      <th>PERIODO_OCORRENCIA</th>\n",
       "      <th>TOTAL</th>\n",
       "      <th>QTD</th>\n",
       "      <th>LAMBDA</th>\n",
       "    </tr>\n",
       "  </thead>\n",
       "  <tbody>\n",
       "    <tr>\n",
       "      <th>0</th>\n",
       "      <td>A NOITE</td>\n",
       "      <td>27497</td>\n",
       "      <td>365</td>\n",
       "      <td>75.334247</td>\n",
       "    </tr>\n",
       "    <tr>\n",
       "      <th>1</th>\n",
       "      <td>A TARDE</td>\n",
       "      <td>12887</td>\n",
       "      <td>365</td>\n",
       "      <td>35.306849</td>\n",
       "    </tr>\n",
       "    <tr>\n",
       "      <th>2</th>\n",
       "      <td>DE MADRUGADA</td>\n",
       "      <td>10389</td>\n",
       "      <td>365</td>\n",
       "      <td>28.463014</td>\n",
       "    </tr>\n",
       "    <tr>\n",
       "      <th>3</th>\n",
       "      <td>PELA MANHÃ</td>\n",
       "      <td>12432</td>\n",
       "      <td>365</td>\n",
       "      <td>34.060274</td>\n",
       "    </tr>\n",
       "  </tbody>\n",
       "</table>\n",
       "</div>"
      ],
      "text/plain": [
       "  PERIODO_OCORRENCIA  TOTAL  QTD     LAMBDA\n",
       "0            A NOITE  27497  365  75.334247\n",
       "1            A TARDE  12887  365  35.306849\n",
       "2       DE MADRUGADA  10389  365  28.463014\n",
       "3         PELA MANHÃ  12432  365  34.060274"
      ]
     },
     "execution_count": 16,
     "metadata": {},
     "output_type": "execute_result"
    }
   ],
   "source": [
    "df3"
   ]
  },
  {
   "cell_type": "code",
   "execution_count": 17,
   "metadata": {},
   "outputs": [],
   "source": [
    "x = []\n",
    "x=np.array(x)\n",
    "\n",
    "for index, item in df3.iterrows():\n",
    "    np.random.seed(42)\n",
    "    y = np.random.poisson(item['LAMBDA'], item['QTD'])\n",
    "    x = np.concatenate((x, y))"
   ]
  },
  {
   "cell_type": "code",
   "execution_count": 18,
   "metadata": {},
   "outputs": [
    {
     "data": {
      "text/plain": [
       "array([72., 81., 65., ..., 33., 40., 30.])"
      ]
     },
     "execution_count": 18,
     "metadata": {},
     "output_type": "execute_result"
    }
   ],
   "source": [
    "x"
   ]
  },
  {
   "cell_type": "code",
   "execution_count": 19,
   "metadata": {},
   "outputs": [
    {
     "data": {
      "text/plain": [
       "1460"
      ]
     },
     "execution_count": 19,
     "metadata": {},
     "output_type": "execute_result"
    }
   ],
   "source": [
    "x.size"
   ]
  },
  {
   "cell_type": "code",
   "execution_count": 20,
   "metadata": {},
   "outputs": [],
   "source": [
    "roubos_2018_grp['expected_value'] = x.tolist()"
   ]
  },
  {
   "cell_type": "code",
   "execution_count": 21,
   "metadata": {},
   "outputs": [
    {
     "data": {
      "text/html": [
       "<div>\n",
       "<style scoped>\n",
       "    .dataframe tbody tr th:only-of-type {\n",
       "        vertical-align: middle;\n",
       "    }\n",
       "\n",
       "    .dataframe tbody tr th {\n",
       "        vertical-align: top;\n",
       "    }\n",
       "\n",
       "    .dataframe thead th {\n",
       "        text-align: right;\n",
       "    }\n",
       "</style>\n",
       "<table border=\"1\" class=\"dataframe\">\n",
       "  <thead>\n",
       "    <tr style=\"text-align: right;\">\n",
       "      <th></th>\n",
       "      <th>PERIODO_OCORRENCIA</th>\n",
       "      <th>DATAOCORRENCIA</th>\n",
       "      <th>TOTAL</th>\n",
       "      <th>expected_value</th>\n",
       "    </tr>\n",
       "  </thead>\n",
       "  <tbody>\n",
       "    <tr>\n",
       "      <th>0</th>\n",
       "      <td>A NOITE</td>\n",
       "      <td>2018-01-01</td>\n",
       "      <td>18</td>\n",
       "      <td>72.0</td>\n",
       "    </tr>\n",
       "    <tr>\n",
       "      <th>1</th>\n",
       "      <td>A NOITE</td>\n",
       "      <td>2018-01-02</td>\n",
       "      <td>72</td>\n",
       "      <td>81.0</td>\n",
       "    </tr>\n",
       "    <tr>\n",
       "      <th>2</th>\n",
       "      <td>A NOITE</td>\n",
       "      <td>2018-01-03</td>\n",
       "      <td>97</td>\n",
       "      <td>65.0</td>\n",
       "    </tr>\n",
       "    <tr>\n",
       "      <th>3</th>\n",
       "      <td>A NOITE</td>\n",
       "      <td>2018-01-04</td>\n",
       "      <td>36</td>\n",
       "      <td>78.0</td>\n",
       "    </tr>\n",
       "    <tr>\n",
       "      <th>4</th>\n",
       "      <td>A NOITE</td>\n",
       "      <td>2018-01-05</td>\n",
       "      <td>48</td>\n",
       "      <td>85.0</td>\n",
       "    </tr>\n",
       "    <tr>\n",
       "      <th>...</th>\n",
       "      <td>...</td>\n",
       "      <td>...</td>\n",
       "      <td>...</td>\n",
       "      <td>...</td>\n",
       "    </tr>\n",
       "    <tr>\n",
       "      <th>1455</th>\n",
       "      <td>PELA MANHÃ</td>\n",
       "      <td>2018-12-27</td>\n",
       "      <td>19</td>\n",
       "      <td>28.0</td>\n",
       "    </tr>\n",
       "    <tr>\n",
       "      <th>1456</th>\n",
       "      <td>PELA MANHÃ</td>\n",
       "      <td>2018-12-28</td>\n",
       "      <td>34</td>\n",
       "      <td>28.0</td>\n",
       "    </tr>\n",
       "    <tr>\n",
       "      <th>1457</th>\n",
       "      <td>PELA MANHÃ</td>\n",
       "      <td>2018-12-29</td>\n",
       "      <td>35</td>\n",
       "      <td>33.0</td>\n",
       "    </tr>\n",
       "    <tr>\n",
       "      <th>1458</th>\n",
       "      <td>PELA MANHÃ</td>\n",
       "      <td>2018-12-30</td>\n",
       "      <td>48</td>\n",
       "      <td>40.0</td>\n",
       "    </tr>\n",
       "    <tr>\n",
       "      <th>1459</th>\n",
       "      <td>PELA MANHÃ</td>\n",
       "      <td>2018-12-31</td>\n",
       "      <td>18</td>\n",
       "      <td>30.0</td>\n",
       "    </tr>\n",
       "  </tbody>\n",
       "</table>\n",
       "<p>1460 rows × 4 columns</p>\n",
       "</div>"
      ],
      "text/plain": [
       "     PERIODO_OCORRENCIA DATAOCORRENCIA  TOTAL  expected_value\n",
       "0               A NOITE     2018-01-01     18            72.0\n",
       "1               A NOITE     2018-01-02     72            81.0\n",
       "2               A NOITE     2018-01-03     97            65.0\n",
       "3               A NOITE     2018-01-04     36            78.0\n",
       "4               A NOITE     2018-01-05     48            85.0\n",
       "...                 ...            ...    ...             ...\n",
       "1455         PELA MANHÃ     2018-12-27     19            28.0\n",
       "1456         PELA MANHÃ     2018-12-28     34            28.0\n",
       "1457         PELA MANHÃ     2018-12-29     35            33.0\n",
       "1458         PELA MANHÃ     2018-12-30     48            40.0\n",
       "1459         PELA MANHÃ     2018-12-31     18            30.0\n",
       "\n",
       "[1460 rows x 4 columns]"
      ]
     },
     "execution_count": 21,
     "metadata": {},
     "output_type": "execute_result"
    }
   ],
   "source": [
    "roubos_2018_grp"
   ]
  },
  {
   "cell_type": "code",
   "execution_count": 22,
   "metadata": {},
   "outputs": [],
   "source": [
    "chi_square = []\n",
    "\n",
    "p_value = []\n",
    "\n",
    "for index, item in df3.iterrows():\n",
    "    df_per_day = roubos_2018_grp.loc[roubos_2018_grp['PERIODO_OCORRENCIA'] == item['PERIODO_OCORRENCIA']]\n",
    "    \n",
    "    chi_square.append(chisquare(f_obs = df_per_day['TOTAL'], f_exp = df_per_day['expected_value'])[0])\n",
    "    p_value.append(chisquare(f_obs = df_per_day['TOTAL'], f_exp = df_per_day['expected_value'])[1])"
   ]
  },
  {
   "cell_type": "code",
   "execution_count": 23,
   "metadata": {},
   "outputs": [],
   "source": [
    "chi_square = np.array(chi_square)\n",
    "p_value = np.array(p_value)"
   ]
  },
  {
   "cell_type": "code",
   "execution_count": 24,
   "metadata": {},
   "outputs": [
    {
     "data": {
      "text/plain": [
       "array([3313.94138018, 3620.43227012, 4821.61814229, 2896.95470047])"
      ]
     },
     "execution_count": 24,
     "metadata": {},
     "output_type": "execute_result"
    }
   ],
   "source": [
    "chi_square"
   ]
  },
  {
   "cell_type": "code",
   "execution_count": 25,
   "metadata": {},
   "outputs": [
    {
     "data": {
      "text/plain": [
       "array([0., 0., 0., 0.])"
      ]
     },
     "execution_count": 25,
     "metadata": {},
     "output_type": "execute_result"
    }
   ],
   "source": [
    "p_value"
   ]
  },
  {
   "cell_type": "code",
   "execution_count": 26,
   "metadata": {},
   "outputs": [],
   "source": [
    "df3['chi_square'] = chi_square.tolist()\n",
    "df3['p_value'] = p_value.tolist()"
   ]
  },
  {
   "cell_type": "code",
   "execution_count": 27,
   "metadata": {},
   "outputs": [
    {
     "data": {
      "text/html": [
       "<div>\n",
       "<style scoped>\n",
       "    .dataframe tbody tr th:only-of-type {\n",
       "        vertical-align: middle;\n",
       "    }\n",
       "\n",
       "    .dataframe tbody tr th {\n",
       "        vertical-align: top;\n",
       "    }\n",
       "\n",
       "    .dataframe thead th {\n",
       "        text-align: right;\n",
       "    }\n",
       "</style>\n",
       "<table border=\"1\" class=\"dataframe\">\n",
       "  <thead>\n",
       "    <tr style=\"text-align: right;\">\n",
       "      <th></th>\n",
       "      <th>PERIODO_OCORRENCIA</th>\n",
       "      <th>TOTAL</th>\n",
       "      <th>QTD</th>\n",
       "      <th>LAMBDA</th>\n",
       "      <th>chi_square</th>\n",
       "      <th>p_value</th>\n",
       "    </tr>\n",
       "  </thead>\n",
       "  <tbody>\n",
       "    <tr>\n",
       "      <th>0</th>\n",
       "      <td>A NOITE</td>\n",
       "      <td>27497</td>\n",
       "      <td>365</td>\n",
       "      <td>75.334247</td>\n",
       "      <td>3313.941380</td>\n",
       "      <td>0.0</td>\n",
       "    </tr>\n",
       "    <tr>\n",
       "      <th>1</th>\n",
       "      <td>A TARDE</td>\n",
       "      <td>12887</td>\n",
       "      <td>365</td>\n",
       "      <td>35.306849</td>\n",
       "      <td>3620.432270</td>\n",
       "      <td>0.0</td>\n",
       "    </tr>\n",
       "    <tr>\n",
       "      <th>2</th>\n",
       "      <td>DE MADRUGADA</td>\n",
       "      <td>10389</td>\n",
       "      <td>365</td>\n",
       "      <td>28.463014</td>\n",
       "      <td>4821.618142</td>\n",
       "      <td>0.0</td>\n",
       "    </tr>\n",
       "    <tr>\n",
       "      <th>3</th>\n",
       "      <td>PELA MANHÃ</td>\n",
       "      <td>12432</td>\n",
       "      <td>365</td>\n",
       "      <td>34.060274</td>\n",
       "      <td>2896.954700</td>\n",
       "      <td>0.0</td>\n",
       "    </tr>\n",
       "  </tbody>\n",
       "</table>\n",
       "</div>"
      ],
      "text/plain": [
       "  PERIODO_OCORRENCIA  TOTAL  QTD     LAMBDA   chi_square  p_value\n",
       "0            A NOITE  27497  365  75.334247  3313.941380      0.0\n",
       "1            A TARDE  12887  365  35.306849  3620.432270      0.0\n",
       "2       DE MADRUGADA  10389  365  28.463014  4821.618142      0.0\n",
       "3         PELA MANHÃ  12432  365  34.060274  2896.954700      0.0"
      ]
     },
     "execution_count": 27,
     "metadata": {},
     "output_type": "execute_result"
    }
   ],
   "source": [
    "df3"
   ]
  },
  {
   "cell_type": "code",
   "execution_count": 28,
   "metadata": {},
   "outputs": [
    {
     "data": {
      "text/html": [
       "<div>\n",
       "<style scoped>\n",
       "    .dataframe tbody tr th:only-of-type {\n",
       "        vertical-align: middle;\n",
       "    }\n",
       "\n",
       "    .dataframe tbody tr th {\n",
       "        vertical-align: top;\n",
       "    }\n",
       "\n",
       "    .dataframe thead th {\n",
       "        text-align: right;\n",
       "    }\n",
       "</style>\n",
       "<table border=\"1\" class=\"dataframe\">\n",
       "  <thead>\n",
       "    <tr style=\"text-align: right;\">\n",
       "      <th></th>\n",
       "      <th>PERIODO_OCORRENCIA</th>\n",
       "      <th>TOTAL</th>\n",
       "      <th>QTD</th>\n",
       "      <th>LAMBDA</th>\n",
       "      <th>chi_square</th>\n",
       "      <th>p_value</th>\n",
       "    </tr>\n",
       "  </thead>\n",
       "  <tbody>\n",
       "    <tr>\n",
       "      <th>2</th>\n",
       "      <td>DE MADRUGADA</td>\n",
       "      <td>10389</td>\n",
       "      <td>365</td>\n",
       "      <td>28.463014</td>\n",
       "      <td>4821.618142</td>\n",
       "      <td>0.0</td>\n",
       "    </tr>\n",
       "    <tr>\n",
       "      <th>3</th>\n",
       "      <td>PELA MANHÃ</td>\n",
       "      <td>12432</td>\n",
       "      <td>365</td>\n",
       "      <td>34.060274</td>\n",
       "      <td>2896.954700</td>\n",
       "      <td>0.0</td>\n",
       "    </tr>\n",
       "    <tr>\n",
       "      <th>1</th>\n",
       "      <td>A TARDE</td>\n",
       "      <td>12887</td>\n",
       "      <td>365</td>\n",
       "      <td>35.306849</td>\n",
       "      <td>3620.432270</td>\n",
       "      <td>0.0</td>\n",
       "    </tr>\n",
       "    <tr>\n",
       "      <th>0</th>\n",
       "      <td>A NOITE</td>\n",
       "      <td>27497</td>\n",
       "      <td>365</td>\n",
       "      <td>75.334247</td>\n",
       "      <td>3313.941380</td>\n",
       "      <td>0.0</td>\n",
       "    </tr>\n",
       "  </tbody>\n",
       "</table>\n",
       "</div>"
      ],
      "text/plain": [
       "  PERIODO_OCORRENCIA  TOTAL  QTD     LAMBDA   chi_square  p_value\n",
       "2       DE MADRUGADA  10389  365  28.463014  4821.618142      0.0\n",
       "3         PELA MANHÃ  12432  365  34.060274  2896.954700      0.0\n",
       "1            A TARDE  12887  365  35.306849  3620.432270      0.0\n",
       "0            A NOITE  27497  365  75.334247  3313.941380      0.0"
      ]
     },
     "execution_count": 28,
     "metadata": {},
     "output_type": "execute_result"
    }
   ],
   "source": [
    "cats = ['DE MADRUGADA', 'PELA MANHÃ', 'A TARDE', 'A NOITE']\n",
    "cat_type = CategoricalDtype(categories=cats, ordered=True)\n",
    "df3['PERIODO_OCORRENCIA'] = df3['PERIODO_OCORRENCIA'].astype(cat_type)\n",
    "df3.sort_values(\"PERIODO_OCORRENCIA\", inplace=True)\n",
    "df3"
   ]
  },
  {
   "cell_type": "code",
   "execution_count": 29,
   "metadata": {},
   "outputs": [
    {
     "data": {
      "text/plain": [
       "<matplotlib.axes._subplots.AxesSubplot at 0x24bbe8d4b50>"
      ]
     },
     "execution_count": 29,
     "metadata": {},
     "output_type": "execute_result"
    },
    {
     "data": {
      "image/png": "[encoded data removed]",
      "text/plain": [
       "<Figure size 1728x225 with 1 Axes>"
      ]
     },
     "metadata": {
      "needs_background": "light"
     },
     "output_type": "display_data"
    }
   ],
   "source": [
    "def render_mpl_table(data, col_width=3.0, row_height=0.625, font_size=14,\n",
    "                     header_color='#40466e', row_colors=['#f1f1f2', 'w'], edge_color='w',\n",
    "                     bbox=[0, 0, 1, 1], header_columns=0,\n",
    "                     ax=None, **kwargs):\n",
    "    if ax is None:\n",
    "        size = (np.array(data.shape[::-1]) + np.array([0, 1])) * np.array([col_width, row_height])\n",
    "        fig, ax = plt.subplots(figsize=size)\n",
    "        ax.axis('off')\n",
    "\n",
    "    mpl_table = ax.table(cellText=data.values, bbox=bbox, colLabels=data.columns, **kwargs)\n",
    "\n",
    "    mpl_table.auto_set_font_size(False)\n",
    "    mpl_table.set_fontsize(font_size)\n",
    "\n",
    "    for k, cell in  six.iteritems(mpl_table._cells):\n",
    "        cell.set_edgecolor(edge_color)\n",
    "        if k[0] == 0 or k[1] < header_columns:\n",
    "            cell.set_text_props(weight='bold', color='w')\n",
    "            cell.set_facecolor(header_color)\n",
    "        else:\n",
    "            cell.set_facecolor(row_colors[k[0]%len(row_colors) ])\n",
    "    fig.savefig('qui-quadrado_resultados_roubos_2018_periodo_dia.png')\n",
    "    \n",
    "    return ax\n",
    "\n",
    "render_mpl_table(df3, header_columns=0, col_width=4.0)"
   ]
  }
 ],
 "metadata": {
  "kernelspec": {
   "display_name": "Python 3",
   "language": "python",
   "name": "python3"
  },
  "language_info": {
   "codemirror_mode": {
    "name": "ipython",
    "version": 3
   },
   "file_extension": ".py",
   "mimetype": "text/x-python",
   "name": "python",
   "nbconvert_exporter": "python",
   "pygments_lexer": "ipython3",
   "version": "3.8.3"
  }
 },
 "nbformat": 4,
 "nbformat_minor": 2
}
