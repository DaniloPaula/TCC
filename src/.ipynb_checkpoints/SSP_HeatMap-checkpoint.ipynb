{
 "cells": [
  {
   "cell_type": "code",
   "execution_count": null,
   "metadata": {},
   "outputs": [],
   "source": [
    "import pandas as pd\n",
    "import folium\n",
    "from folium.plugins import MarkerCluster\n",
    "from folium.plugins import HeatMap"
   ]
  },
  {
   "cell_type": "code",
   "execution_count": null,
   "metadata": {},
   "outputs": [],
   "source": [
    "df_furtos = pd.read_csv('D:\\\\EPS\\\\TCC\\\\data_cleaned\\\\SSP\\\\furtos_2018.csv', sep=\",\", decimal=\".\")"
   ]
  },
  {
   "cell_type": "code",
   "execution_count": null,
   "metadata": {},
   "outputs": [],
   "source": [
    "df_furtos.head()"
   ]
  },
  {
   "cell_type": "code",
   "execution_count": null,
   "metadata": {},
   "outputs": [],
   "source": [
    "df_furtos.dropna(subset=['BAIRRO'], inplace=True)\n",
    "df_furtos.dropna(subset=['CIDADE'], inplace=True)"
   ]
  },
  {
   "cell_type": "code",
   "execution_count": null,
   "metadata": {},
   "outputs": [],
   "source": [
    "df_furtos['LONGITUDE'] = df_furtos['LONGITUDE'].str.replace(',', '.').astype(float)\n",
    "df_furtos.dropna(subset=['LONGITUDE'], inplace=True)\n",
    "df_furtos['LATITUDE'] = df_furtos['LATITUDE'].str.replace(',', '.').astype(float)\n",
    "df_furtos.dropna(subset=['LATITUDE'], inplace=True)"
   ]
  },
  {
   "cell_type": "code",
   "execution_count": null,
   "metadata": {},
   "outputs": [],
   "source": [
    "# Inicializamos o mapa com as coordenadas centrais da cidade de São Paulo\n",
    "mapa = folium.Map(location=[-23.5475, -46.63611], control_scale=True)\n",
    "\n",
    "# Passamos as latitudes e longitudes para listas para poder adicionar ao mapa\n",
    "lat = df_furtos['LATITUDE'].tolist()\n",
    "lng = df_furtos['LONGITUDE'].tolist()\n",
    "lista = list(zip(lat, lng))\n",
    "\n",
    "# Adicionamos a lista ao mapa e salvamos no formato de HTML\n",
    "HeatMap(lista).add_to(mapa)\n",
    "mapa.save('Heat_SP_Furtos_2018.html')\n",
    "\n",
    "# Aqui recriamos o mapa, mas agora com marcadores\n",
    "mapa = folium.Map(location=[-23.5475, -46.63611], control_scale=True)\n",
    "mc = MarkerCluster()\n",
    "\n",
    "# Contamos cada par de latitude e longitude e adicionamos a um marcador e salvamos o mapa como HTML\n",
    "for val in lista:\n",
    "    mc.add_child(folium.Marker([val[0], val[1]], icon=folium.Icon(icon='book'))).add_to(mapa)\n",
    "mapa.save('Marker_SP_Furtos_2018.html')"
   ]
  },
  {
   "cell_type": "code",
   "execution_count": null,
   "metadata": {},
   "outputs": [],
   "source": []
  },
  {
   "cell_type": "code",
   "execution_count": null,
   "metadata": {},
   "outputs": [],
   "source": [
    "df_roubos = pd.read_csv('D:\\\\EPS\\\\TCC\\\\data_cleaned\\\\SSP\\\\roubos_2018.csv', sep=\",\", decimal=\".\")"
   ]
  },
  {
   "cell_type": "code",
   "execution_count": null,
   "metadata": {},
   "outputs": [],
   "source": [
    "df_roubos.dropna(subset=['BAIRRO'], inplace=True)\n",
    "df_roubos.dropna(subset=['CIDADE'], inplace=True)"
   ]
  },
  {
   "cell_type": "code",
   "execution_count": null,
   "metadata": {},
   "outputs": [],
   "source": [
    "df_roubos['LONGITUDE'] = df_roubos['LONGITUDE'].str.replace(',', '.').astype(float)\n",
    "df_roubos.dropna(subset=['LONGITUDE'], inplace=True)\n",
    "df_roubos['LATITUDE'] = df_roubos['LATITUDE'].str.replace(',', '.').astype(float)\n",
    "df_roubos.dropna(subset=['LATITUDE'], inplace=True)"
   ]
  },
  {
   "cell_type": "code",
   "execution_count": null,
   "metadata": {},
   "outputs": [],
   "source": [
    "# Inicializamos o mapa com as coordenadas centrais da cidade de São Paulo\n",
    "mapa = folium.Map(location=[-23.5475, -46.63611], control_scale=True)\n",
    "\n",
    "# Passamos as latitudes e longitudes para listas para poder adicionar ao mapa\n",
    "lat = df_roubos['LATITUDE'].tolist()\n",
    "lng = df_roubos['LONGITUDE'].tolist()\n",
    "lista = list(zip(lat, lng))\n",
    "\n",
    "# Adicionamos a lista ao mapa e salvamos no formato de HTML\n",
    "HeatMap(lista).add_to(mapa)\n",
    "mapa.save('Heat_SP_Roubos_2018.html')\n",
    "\n",
    "# Aqui recriamos o mapa, mas agora com marcadores\n",
    "mapa = folium.Map(location=[-23.5475, -46.63611], control_scale=True)\n",
    "mc = MarkerCluster()\n",
    "\n",
    "# Contamos cada par de latitude e longitude e adicionamos a um marcador e salvamos o mapa como HTML\n",
    "for val in lista:\n",
    "    mc.add_child(folium.Marker([val[0], val[1]], icon=folium.Icon(icon='book'))).add_to(mapa)\n",
    "mapa.save('Marker_SP_Roubos_2018.html')"
   ]
  }
 ],
 "metadata": {
  "kernelspec": {
   "display_name": "Python 3",
   "language": "python",
   "name": "python3"
  },
  "language_info": {
   "codemirror_mode": {
    "name": "ipython",
    "version": 3
   },
   "file_extension": ".py",
   "mimetype": "text/x-python",
   "name": "python",
   "nbconvert_exporter": "python",
   "pygments_lexer": "ipython3",
   "version": "3.8.3"
  }
 },
 "nbformat": 4,
 "nbformat_minor": 2
}
