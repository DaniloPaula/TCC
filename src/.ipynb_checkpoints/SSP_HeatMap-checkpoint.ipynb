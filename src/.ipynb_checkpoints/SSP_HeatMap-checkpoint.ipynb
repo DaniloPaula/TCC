{
 "cells": [
  {
   "cell_type": "code",
   "execution_count": 1,
   "metadata": {},
   "outputs": [],
   "source": [
    "import os\n",
    "import csv\n",
    "import pandas as pd\n",
    "import pickle\n",
    "import numpy as np\n",
    "import folium\n",
    "import json\n",
    "import shapefile\n",
    "from json import dumps\n",
    "from folium.plugins import MarkerCluster\n",
    "from folium.plugins import HeatMap"
   ]
  },
  {
   "cell_type": "code",
   "execution_count": 2,
   "metadata": {},
   "outputs": [
    {
     "name": "stderr",
     "output_type": "stream",
     "text": [
      "D:\\Anaconda3\\lib\\site-packages\\IPython\\core\\interactiveshell.py:3058: DtypeWarning: Columns (17,18,28,30,31,32,33,34,37) have mixed types. Specify dtype option on import or set low_memory=False.\n",
      "  interactivity=interactivity, compiler=compiler, result=result)\n"
     ]
    }
   ],
   "source": [
    "df_furtos = pd.read_csv('D:\\\\EPS\\\\TCC\\\\data_cleaned\\\\SSP\\\\furtosConcat.csv', sep=\",\", decimal=\".\")"
   ]
  },
  {
   "cell_type": "code",
   "execution_count": 29,
   "metadata": {},
   "outputs": [
    {
     "data": {
      "text/html": [
       "<div>\n",
       "<style scoped>\n",
       "    .dataframe tbody tr th:only-of-type {\n",
       "        vertical-align: middle;\n",
       "    }\n",
       "\n",
       "    .dataframe tbody tr th {\n",
       "        vertical-align: top;\n",
       "    }\n",
       "\n",
       "    .dataframe thead th {\n",
       "        text-align: right;\n",
       "    }\n",
       "</style>\n",
       "<table border=\"1\" class=\"dataframe\">\n",
       "  <thead>\n",
       "    <tr style=\"text-align: right;\">\n",
       "      <th></th>\n",
       "      <th>ANO_BO</th>\n",
       "      <th>NUM_BO</th>\n",
       "      <th>NUMERO_BOLETIM</th>\n",
       "      <th>BO_INICIADO</th>\n",
       "      <th>BO_EMITIDO</th>\n",
       "      <th>DATAOCORRENCIA</th>\n",
       "      <th>PERIDOOCORRENCIA</th>\n",
       "      <th>DATACOMUNICACAO</th>\n",
       "      <th>DATAELABORACAO</th>\n",
       "      <th>BO_AUTORIA</th>\n",
       "      <th>...</th>\n",
       "      <th>SEXO</th>\n",
       "      <th>IDADE</th>\n",
       "      <th>PLACA_VEICULO</th>\n",
       "      <th>UF_VEICULO</th>\n",
       "      <th>CIDADE_VEICULO</th>\n",
       "      <th>DESCR_COR_VEICULO</th>\n",
       "      <th>DESCR_MARCA_VEICULO</th>\n",
       "      <th>ANO_FABRICACAO</th>\n",
       "      <th>ANO_MODELO</th>\n",
       "      <th>DESCR_TIPO_VEICULO</th>\n",
       "    </tr>\n",
       "  </thead>\n",
       "  <tbody>\n",
       "    <tr>\n",
       "      <td>550776</td>\n",
       "      <td>2011</td>\n",
       "      <td>8</td>\n",
       "      <td>8/2011</td>\n",
       "      <td>31/12/2010 19:51:17</td>\n",
       "      <td>31/12/2010 19:31:23</td>\n",
       "      <td>31/12/2010</td>\n",
       "      <td>DE MADRUGADA</td>\n",
       "      <td>31/12/2010</td>\n",
       "      <td>31/12/2010 19:51:17</td>\n",
       "      <td>Desconhecida</td>\n",
       "      <td>...</td>\n",
       "      <td>NaN</td>\n",
       "      <td>NaN</td>\n",
       "      <td>JNI8005</td>\n",
       "      <td>SP</td>\n",
       "      <td>SAO PAULO</td>\n",
       "      <td>Preta</td>\n",
       "      <td>VW/GOL 1000I</td>\n",
       "      <td>1996.0</td>\n",
       "      <td>1996.0</td>\n",
       "      <td>AUTOMOVEL</td>\n",
       "    </tr>\n",
       "    <tr>\n",
       "      <td>550787</td>\n",
       "      <td>2011</td>\n",
       "      <td>2</td>\n",
       "      <td>2/2011</td>\n",
       "      <td>31/12/2010 22:30:12</td>\n",
       "      <td>31/12/2010 22:38:05</td>\n",
       "      <td>31/12/2010</td>\n",
       "      <td>A NOITE</td>\n",
       "      <td>31/12/2010</td>\n",
       "      <td>31/12/2010 22:30:12</td>\n",
       "      <td>Desconhecida</td>\n",
       "      <td>...</td>\n",
       "      <td>NaN</td>\n",
       "      <td>NaN</td>\n",
       "      <td>BJI2299</td>\n",
       "      <td>SP</td>\n",
       "      <td>GUARULHOS</td>\n",
       "      <td>Prata</td>\n",
       "      <td>GM/MONZA CLASSIC SE</td>\n",
       "      <td>1989.0</td>\n",
       "      <td>1989.0</td>\n",
       "      <td>AUTOMOVEL</td>\n",
       "    </tr>\n",
       "    <tr>\n",
       "      <td>550800</td>\n",
       "      <td>2011</td>\n",
       "      <td>1</td>\n",
       "      <td>1/2011</td>\n",
       "      <td>31/12/2010 21:48:03</td>\n",
       "      <td>31/12/2010 23:34:23</td>\n",
       "      <td>31/12/2010</td>\n",
       "      <td>A NOITE</td>\n",
       "      <td>31/12/2010</td>\n",
       "      <td>31/12/2010 21:48:03</td>\n",
       "      <td>Conhecida</td>\n",
       "      <td>...</td>\n",
       "      <td>NaN</td>\n",
       "      <td>NaN</td>\n",
       "      <td>NaN</td>\n",
       "      <td>NaN</td>\n",
       "      <td>NaN</td>\n",
       "      <td>NaN</td>\n",
       "      <td>NaN</td>\n",
       "      <td>0.0</td>\n",
       "      <td>0.0</td>\n",
       "      <td>NaN</td>\n",
       "    </tr>\n",
       "    <tr>\n",
       "      <td>550801</td>\n",
       "      <td>2011</td>\n",
       "      <td>1</td>\n",
       "      <td>1/2011</td>\n",
       "      <td>31/12/2010 21:48:03</td>\n",
       "      <td>31/12/2010 23:34:23</td>\n",
       "      <td>31/12/2010</td>\n",
       "      <td>A NOITE</td>\n",
       "      <td>31/12/2010</td>\n",
       "      <td>31/12/2010 21:48:03</td>\n",
       "      <td>Conhecida</td>\n",
       "      <td>...</td>\n",
       "      <td>NaN</td>\n",
       "      <td>NaN</td>\n",
       "      <td>CAV7466</td>\n",
       "      <td>SP</td>\n",
       "      <td>SAO PAULO</td>\n",
       "      <td>Azul</td>\n",
       "      <td>GM/MONZA SL/E 2.0</td>\n",
       "      <td>1987.0</td>\n",
       "      <td>1987.0</td>\n",
       "      <td>AUTOMOVEL</td>\n",
       "    </tr>\n",
       "    <tr>\n",
       "      <td>550802</td>\n",
       "      <td>2011</td>\n",
       "      <td>1</td>\n",
       "      <td>1/2011</td>\n",
       "      <td>31/12/2010 21:48:03</td>\n",
       "      <td>31/12/2010 23:34:23</td>\n",
       "      <td>31/12/2010</td>\n",
       "      <td>A NOITE</td>\n",
       "      <td>31/12/2010</td>\n",
       "      <td>31/12/2010 21:48:03</td>\n",
       "      <td>Conhecida</td>\n",
       "      <td>...</td>\n",
       "      <td>NaN</td>\n",
       "      <td>NaN</td>\n",
       "      <td>NaN</td>\n",
       "      <td>NaN</td>\n",
       "      <td>NaN</td>\n",
       "      <td>NaN</td>\n",
       "      <td>NaN</td>\n",
       "      <td>0.0</td>\n",
       "      <td>0.0</td>\n",
       "      <td>NaN</td>\n",
       "    </tr>\n",
       "  </tbody>\n",
       "</table>\n",
       "<p>5 rows × 38 columns</p>\n",
       "</div>"
      ],
      "text/plain": [
       "        ANO_BO  NUM_BO NUMERO_BOLETIM          BO_INICIADO  \\\n",
       "550776    2011       8         8/2011  31/12/2010 19:51:17   \n",
       "550787    2011       2         2/2011  31/12/2010 22:30:12   \n",
       "550800    2011       1         1/2011  31/12/2010 21:48:03   \n",
       "550801    2011       1         1/2011  31/12/2010 21:48:03   \n",
       "550802    2011       1         1/2011  31/12/2010 21:48:03   \n",
       "\n",
       "                 BO_EMITIDO DATAOCORRENCIA PERIDOOCORRENCIA DATACOMUNICACAO  \\\n",
       "550776  31/12/2010 19:31:23     31/12/2010     DE MADRUGADA      31/12/2010   \n",
       "550787  31/12/2010 22:38:05     31/12/2010          A NOITE      31/12/2010   \n",
       "550800  31/12/2010 23:34:23     31/12/2010          A NOITE      31/12/2010   \n",
       "550801  31/12/2010 23:34:23     31/12/2010          A NOITE      31/12/2010   \n",
       "550802  31/12/2010 23:34:23     31/12/2010          A NOITE      31/12/2010   \n",
       "\n",
       "             DATAELABORACAO    BO_AUTORIA  ... SEXO IDADE PLACA_VEICULO  \\\n",
       "550776  31/12/2010 19:51:17  Desconhecida  ...  NaN   NaN       JNI8005   \n",
       "550787  31/12/2010 22:30:12  Desconhecida  ...  NaN   NaN       BJI2299   \n",
       "550800  31/12/2010 21:48:03     Conhecida  ...  NaN   NaN           NaN   \n",
       "550801  31/12/2010 21:48:03     Conhecida  ...  NaN   NaN       CAV7466   \n",
       "550802  31/12/2010 21:48:03     Conhecida  ...  NaN   NaN           NaN   \n",
       "\n",
       "        UF_VEICULO CIDADE_VEICULO DESCR_COR_VEICULO  DESCR_MARCA_VEICULO  \\\n",
       "550776          SP      SAO PAULO             Preta         VW/GOL 1000I   \n",
       "550787          SP      GUARULHOS             Prata  GM/MONZA CLASSIC SE   \n",
       "550800         NaN            NaN               NaN                  NaN   \n",
       "550801          SP      SAO PAULO              Azul    GM/MONZA SL/E 2.0   \n",
       "550802         NaN            NaN               NaN                  NaN   \n",
       "\n",
       "        ANO_FABRICACAO  ANO_MODELO DESCR_TIPO_VEICULO  \n",
       "550776          1996.0      1996.0          AUTOMOVEL  \n",
       "550787          1989.0      1989.0          AUTOMOVEL  \n",
       "550800             0.0         0.0                NaN  \n",
       "550801          1987.0      1987.0          AUTOMOVEL  \n",
       "550802             0.0         0.0                NaN  \n",
       "\n",
       "[5 rows x 38 columns]"
      ]
     },
     "execution_count": 29,
     "metadata": {},
     "output_type": "execute_result"
    }
   ],
   "source": [
    "df_furtos.head()"
   ]
  },
  {
   "cell_type": "code",
   "execution_count": 27,
   "metadata": {},
   "outputs": [],
   "source": [
    "df_furtos.dropna(subset=['BAIRRO'], inplace=True)"
   ]
  },
  {
   "cell_type": "code",
   "execution_count": 4,
   "metadata": {},
   "outputs": [],
   "source": [
    "df_furtos['LONGITUDE'] = df_furtos['LONGITUDE'].str.replace(',', '.').astype(float)\n",
    "df_furtos.dropna(subset=['LONGITUDE'], inplace=True)\n",
    "df_furtos['LATITUDE'] = df_furtos['LATITUDE'].str.replace(',', '.').astype(float)\n",
    "df_furtos.dropna(subset=['LATITUDE'], inplace=True)"
   ]
  },
  {
   "cell_type": "code",
   "execution_count": 8,
   "metadata": {},
   "outputs": [],
   "source": [
    "# Dropamos outras cidades que nao são SP\n",
    "df_furtos.drop(df_furtos[(df_furtos.CIDADE != 'S.PAULO') & (df_furtos.CIDADE != 'SAO PAULO') & (df_furtos.CIDADE != 'SÃO PAULO') & (df_furtos.CIDADE != 'SP')].index, inplace=True)"
   ]
  },
  {
   "cell_type": "code",
   "execution_count": 9,
   "metadata": {},
   "outputs": [],
   "source": [
    "furtos_2011 = df_furtos.where(df_furtos['ANO_BO']==2011)\n",
    "furtos_2011.to_csv('D:\\\\EPS\\\\TCC\\\\data_cleaned\\\\SSP\\\\Furtos_ANO\\\\furtos_2011.csv', sep=\",\", index=False)"
   ]
  },
  {
   "cell_type": "code",
   "execution_count": 10,
   "metadata": {},
   "outputs": [],
   "source": [
    "furtos_2012 = df_furtos.where(df_furtos['ANO_BO']==2012)\n",
    "furtos_2012.to_csv('D:\\\\EPS\\\\TCC\\\\data_cleaned\\\\SSP\\\\Furtos_ANO\\\\furtos_2012.csv', sep=\",\", index=False)"
   ]
  },
  {
   "cell_type": "code",
   "execution_count": 11,
   "metadata": {},
   "outputs": [],
   "source": [
    "furtos_2013 = df_furtos.where(df_furtos['ANO_BO']==2013)\n",
    "furtos_2013.to_csv('D:\\\\EPS\\\\TCC\\\\data_cleaned\\\\SSP\\\\Furtos_ANO\\\\furtos_2013.csv', sep=\",\", index=False)"
   ]
  },
  {
   "cell_type": "code",
   "execution_count": 12,
   "metadata": {},
   "outputs": [],
   "source": [
    "furtos_2014 = df_furtos.where(df_furtos['ANO_BO']==2014)\n",
    "furtos_2014.to_csv('D:\\\\EPS\\\\TCC\\\\data_cleaned\\\\SSP\\\\Furtos_ANO\\\\furtos_2014.csv', sep=\",\", index=False)"
   ]
  },
  {
   "cell_type": "code",
   "execution_count": 13,
   "metadata": {},
   "outputs": [],
   "source": [
    "furtos_2015 = df_furtos.where(df_furtos['ANO_BO']==2015)\n",
    "furtos_2015.to_csv('D:\\\\EPS\\\\TCC\\\\data_cleaned\\\\SSP\\\\Furtos_ANO\\\\furtos_2015.csv', sep=\",\", index=False)"
   ]
  },
  {
   "cell_type": "code",
   "execution_count": 14,
   "metadata": {},
   "outputs": [],
   "source": [
    "furtos_2016 = df_furtos.where(df_furtos['ANO_BO']==2016)\n",
    "furtos_2016.to_csv('D:\\\\EPS\\\\TCC\\\\data_cleaned\\\\SSP\\\\Furtos_ANO\\\\furtos_2016.csv', sep=\",\", index=False)"
   ]
  },
  {
   "cell_type": "code",
   "execution_count": 15,
   "metadata": {},
   "outputs": [],
   "source": [
    "furtos_2017 = df_furtos.where(df_furtos['ANO_BO']==2017)\n",
    "furtos_2017.to_csv('D:\\\\EPS\\\\TCC\\\\data_cleaned\\\\SSP\\\\Furtos_ANO\\\\furtos_2017.csv', sep=\",\", index=False)"
   ]
  },
  {
   "cell_type": "code",
   "execution_count": 16,
   "metadata": {},
   "outputs": [],
   "source": [
    "furtos_2018 = df_furtos.where(df_furtos['ANO_BO']==2018)\n",
    "furtos_2018.to_csv('D:\\\\EPS\\\\TCC\\\\data_cleaned\\\\SSP\\\\furtos_2018.csv', sep=\",\", index=False)"
   ]
  },
  {
   "cell_type": "code",
   "execution_count": 17,
   "metadata": {},
   "outputs": [],
   "source": [
    "furtos_2019 = df_furtos.where(df_furtos['ANO_BO']==2019)\n",
    "furtos_2019.to_csv('D:\\\\EPS\\\\TCC\\\\data_cleaned\\\\SSP\\\\Furtos_ANO\\\\furtos_2019.csv', sep=\",\", index=False)"
   ]
  },
  {
   "cell_type": "code",
   "execution_count": 49,
   "metadata": {},
   "outputs": [
    {
     "name": "stderr",
     "output_type": "stream",
     "text": [
      "D:\\Anaconda3\\lib\\site-packages\\IPython\\core\\interactiveshell.py:3058: DtypeWarning: Columns (2,3,4,5,6,7,8,9,10,11,12,14,15,16,19,20,21,22,23,24,25,26,27,28,30,31,32,33,34,37) have mixed types. Specify dtype option on import or set low_memory=False.\n",
      "  interactivity=interactivity, compiler=compiler, result=result)\n"
     ]
    }
   ],
   "source": [
    "for filename in os.listdir('D:\\\\EPS\\\\TCC\\\\data_cleaned\\\\SSP\\\\Furtos_ANO'):\n",
    "    mapa = folium.Map(location=[-23.5475, -46.63611],control_scale=True)\n",
    "    df = pd.read_csv('D:\\\\Danilo\\\\Desktop\\\\EPS\\\\TCC\\\\data_cleaned\\\\SSP\\\\Furtos_ANO\\\\'+filename, sep=\",\")\n",
    "    df['LATITUDE'].fillna(0.0, inplace=True)\n",
    "    df['LONGITUDE'].fillna(0.0, inplace=True)\n",
    "    df.drop(df[(df.LATITUDE == 0.0) | (df.LONGITUDE == 0.0)].index, inplace=True)\n",
    "    lat = df['LATITUDE'].tolist()\n",
    "    lng = df['LONGITUDE'].tolist()\n",
    "    lista = list(zip(lat, lng))\n",
    "    HeatMap(lista).add_to(mapa)\n",
    "    mapa.save('Heat_SP_'+filename[:-4]+'.html')\n",
    "    \n",
    "    mapa = folium.Map(location=[-23.5475, -46.63611],control_scale=True)\n",
    "    mc = MarkerCluster()\n",
    "    for val in lista:\n",
    "        mc.add_child(folium.Marker([val[0], val[1]], icon=folium.Icon(icon='book'))).add_to(mapa)\n",
    "    mapa.save('Marker_SP_'+filename[:-4]+'.html')"
   ]
  },
  {
   "cell_type": "code",
   "execution_count": null,
   "metadata": {},
   "outputs": [],
   "source": []
  },
  {
   "cell_type": "code",
   "execution_count": 50,
   "metadata": {},
   "outputs": [
    {
     "name": "stderr",
     "output_type": "stream",
     "text": [
      "D:\\Anaconda3\\lib\\site-packages\\IPython\\core\\interactiveshell.py:3058: DtypeWarning: Columns (17,18,28,30,31,32,33,34,37) have mixed types. Specify dtype option on import or set low_memory=False.\n",
      "  interactivity=interactivity, compiler=compiler, result=result)\n"
     ]
    }
   ],
   "source": [
    "df_roubos = pd.read_csv('D:\\\\Danilo\\\\Desktop\\\\EPS\\\\TCC\\\\data_cleaned\\\\SSP\\\\roubosConcat.csv', sep=\",\", decimal=\".\")"
   ]
  },
  {
   "cell_type": "code",
   "execution_count": null,
   "metadata": {},
   "outputs": [],
   "source": [
    "# Dropamos outras cidades que nao são SP\n",
    "df_roubos.drop(df_roubos[(df_roubos.CIDADE != 'S.PAULO') & (df_roubos.CIDADE != 'SAO PAULO') & (df_roubos.CIDADE != 'SÃO PAULO') & (df_roubos.CIDADE != 'SP')].index, inplace=True)"
   ]
  },
  {
   "cell_type": "code",
   "execution_count": 51,
   "metadata": {},
   "outputs": [],
   "source": [
    "df_roubos['LONGITUDE'] = df_roubos['LONGITUDE'].str.replace(',', '.').astype(float)\n",
    "df_roubos.dropna(subset=['LONGITUDE'], inplace=True)\n",
    "df_roubos['LATITUDE'] = df_roubos['LATITUDE'].str.replace(',', '.').astype(float)\n",
    "df_roubos.dropna(subset=['LATITUDE'], inplace=True)"
   ]
  },
  {
   "cell_type": "code",
   "execution_count": 52,
   "metadata": {},
   "outputs": [
    {
     "data": {
      "text/plain": [
       "array([2011, 2012, 2013, 2014, 2015, 2016, 2017, 2018, 2019], dtype=int64)"
      ]
     },
     "execution_count": 52,
     "metadata": {},
     "output_type": "execute_result"
    }
   ],
   "source": [
    "df_roubos['CIDADE'].unique()"
   ]
  },
  {
   "cell_type": "code",
   "execution_count": 53,
   "metadata": {},
   "outputs": [],
   "source": [
    "roubos_2011 = df_roubos.where(df_roubos['ANO_BO']==2011)\n",
    "roubos_2011.to_csv('D:\\\\Danilo\\\\Desktop\\\\EPS\\\\TCC\\\\data_cleaned\\\\SSP\\\\Roubos_ANO\\\\roubos_2011.csv', sep=\",\", index=False)"
   ]
  },
  {
   "cell_type": "code",
   "execution_count": 54,
   "metadata": {},
   "outputs": [],
   "source": [
    "roubos_2012 = df_roubos.where(df_roubos['ANO_BO']==2012)\n",
    "roubos_2012.to_csv('D:\\\\Danilo\\\\Desktop\\\\EPS\\\\TCC\\\\data_cleaned\\\\SSP\\\\Roubos_ANO\\\\roubos_2012.csv', sep=\",\", index=False)"
   ]
  },
  {
   "cell_type": "code",
   "execution_count": 55,
   "metadata": {},
   "outputs": [],
   "source": [
    "roubos_2013 = df_roubos.where(df_roubos['ANO_BO']==2013)\n",
    "roubos_2013.to_csv('D:\\\\Danilo\\\\Desktop\\\\EPS\\\\TCC\\\\data_cleaned\\\\SSP\\\\Roubos_ANO\\\\roubos_2013.csv', sep=\",\", index=False)"
   ]
  },
  {
   "cell_type": "code",
   "execution_count": 56,
   "metadata": {},
   "outputs": [],
   "source": [
    "roubos_2014 = df_roubos.where(df_roubos['ANO_BO']==2014)\n",
    "roubos_2014.to_csv('D:\\\\Danilo\\\\Desktop\\\\EPS\\\\TCC\\\\data_cleaned\\\\SSP\\\\Roubos_ANO\\\\roubos_2014.csv', sep=\",\", index=False)"
   ]
  },
  {
   "cell_type": "code",
   "execution_count": 57,
   "metadata": {},
   "outputs": [],
   "source": [
    "roubos_2015 = df_roubos.where(df_roubos['ANO_BO']==2015)\n",
    "roubos_2015.to_csv('D:\\\\Danilo\\\\Desktop\\\\EPS\\\\TCC\\\\data_cleaned\\\\SSP\\\\Roubos_ANO\\\\roubos_2015.csv', sep=\",\", index=False)"
   ]
  },
  {
   "cell_type": "code",
   "execution_count": 58,
   "metadata": {},
   "outputs": [],
   "source": [
    "roubos_2016 = df_roubos.where(df_roubos['ANO_BO']==2016)\n",
    "roubos_2016.to_csv('D:\\\\Danilo\\\\Desktop\\\\EPS\\\\TCC\\\\data_cleaned\\\\SSP\\\\Roubos_ANO\\\\roubos_2016.csv', sep=\",\", index=False)"
   ]
  },
  {
   "cell_type": "code",
   "execution_count": 59,
   "metadata": {},
   "outputs": [],
   "source": [
    "roubos_2017 = df_roubos.where(df_roubos['ANO_BO']==2017)\n",
    "roubos_2017.to_csv('D:\\\\Danilo\\\\Desktop\\\\EPS\\\\TCC\\\\data_cleaned\\\\SSP\\\\Roubos_ANO\\\\roubos_2017.csv', sep=\",\", index=False)"
   ]
  },
  {
   "cell_type": "code",
   "execution_count": 60,
   "metadata": {},
   "outputs": [],
   "source": [
    "roubos_2018 = df_roubos.where(df_roubos['ANO_BO']==2018)\n",
    "roubos_2018.to_csv('D:\\\\Danilo\\\\Desktop\\\\EPS\\\\TCC\\\\data_cleaned\\\\SSP\\\\Roubos_ANO\\\\roubos_2018.csv', sep=\",\", index=False)"
   ]
  },
  {
   "cell_type": "code",
   "execution_count": 61,
   "metadata": {},
   "outputs": [],
   "source": [
    "roubos_2019 = df_roubos.where(df_roubos['ANO_BO']==2019)\n",
    "roubos_2019.to_csv('D:\\\\Danilo\\\\Desktop\\\\EPS\\\\TCC\\\\data_cleaned\\\\SSP\\\\Roubos_ANO\\\\roubos_2019.csv', sep=\",\", index=False)"
   ]
  },
  {
   "cell_type": "code",
   "execution_count": 2,
   "metadata": {},
   "outputs": [
    {
     "name": "stderr",
     "output_type": "stream",
     "text": [
      "D:\\Anaconda3\\lib\\site-packages\\IPython\\core\\interactiveshell.py:3058: DtypeWarning: Columns (2,3,4,5,6,7,8,9,10,11,12,14,15,16,19,20,21,22,23,24,25,26,27,28,30,31,32,33,34,37) have mixed types. Specify dtype option on import or set low_memory=False.\n",
      "  interactivity=interactivity, compiler=compiler, result=result)\n"
     ]
    }
   ],
   "source": [
    "for filename in os.listdir('D:\\\\Danilo\\\\Desktop\\\\EPS\\\\TCC\\\\data_cleaned\\\\SSP\\\\Roubos_ANO'):\n",
    "    mapa = folium.Map(location=[-23.5475, -46.63611],control_scale=True)\n",
    "    df = pd.read_csv('D:\\\\Danilo\\\\Desktop\\\\EPS\\\\TCC\\\\data_cleaned\\\\SSP\\\\Roubos_ANO\\\\'+filename, sep=\",\")\n",
    "    df['LATITUDE'].fillna(0.0, inplace=True)\n",
    "    df['LONGITUDE'].fillna(0.0, inplace=True)\n",
    "    df.drop(df[(df.LATITUDE == 0.0) | (df.LONGITUDE == 0.0)].index, inplace=True)\n",
    "    lat = df['LATITUDE'].tolist()\n",
    "    lng = df['LONGITUDE'].tolist()\n",
    "    lista = list(zip(lat, lng))\n",
    "    HeatMap(lista).add_to(mapa)\n",
    "    mapa.save('Heat_SP_'+filename[:-4]+'.html')\n",
    "    \n",
    "    mapa = folium.Map(location=[-23.5475, -46.63611],control_scale=True)\n",
    "    mc = MarkerCluster()\n",
    "    for val in lista:\n",
    "        mc.add_child(folium.Marker([val[0], val[1]], icon=folium.Icon(icon='book'))).add_to(mapa)\n",
    "    mapa.save('Marker_SP_'+filename[:-4]+'.html')"
   ]
  },
  {
   "cell_type": "code",
   "execution_count": null,
   "metadata": {},
   "outputs": [],
   "source": []
  },
  {
   "cell_type": "code",
   "execution_count": 9,
   "metadata": {},
   "outputs": [],
   "source": [
    "br_estados = 'distritos-sp.json'\n",
    "geo_json_data = json.load(open(br_estados, \"r\", encoding=\"latin1\"))"
   ]
  },
  {
   "cell_type": "code",
   "execution_count": null,
   "metadata": {},
   "outputs": [],
   "source": [
    "def convert_json(items):\n",
    "    import json\n",
    "    return json.dumps({ \"type\": \"FeatureCollection\",\n",
    "                        \"features\": [ \n",
    "                                        {\"type\": \"Feature\",\n",
    "                                         \"geometry\": { \"type\": \"Point\",\n",
    "                                                       \"coordinates\": [ feature['lon'],\n",
    "                                                                        feature['lat']]},\n",
    "                                         \"properties\": { key: value \n",
    "                                                         for key, value in feature.items()\n",
    "                                                         if key not in ('lat', 'lon') }\n",
    "                                         } \n",
    "                                     for feature in json.loads(items)\n",
    "                                    ]\n",
    "                       })"
   ]
  },
  {
   "cell_type": "code",
   "execution_count": 10,
   "metadata": {},
   "outputs": [
    {
     "ename": "ValueError",
     "evalue": "Cannot render objects with any missing geometries: [{'id': 355030801, 'nome': 'Ã\\x81gua Rasa', 'municipio': {'id': 3550308, 'nome': 'SÃ£o Paulo', 'microrregiao': {'id': 35061, 'nome': 'SÃ£o Paulo', 'mesorregiao': {'id': 3515, 'nome': 'Metropolitana de SÃ£o Paulo', 'UF': {'id': 35, 'sigla': 'SP', 'nome': 'SÃ£o Paulo', 'regiao': {'id': 3, 'sigla': 'SE', 'nome': 'Sudeste'}}}}}}, {'id': 355030802, 'nome': 'Alto de Pinheiros', 'municipio': {'id': 3550308, 'nome': 'SÃ£o Paulo', 'microrregiao': {'id': 35061, 'nome': 'SÃ£o Paulo', 'mesorregiao': {'id': 3515, 'nome': 'Metropolitana de SÃ£o Paulo', 'UF': {'id': 35, 'sigla': 'SP', 'nome': 'SÃ£o Paulo', 'regiao': {'id': 3, 'sigla': 'SE', 'nome': 'Sudeste'}}}}}}, {'id': 355030803, 'nome': 'Anhanguera', 'municipio': {'id': 3550308, 'nome': 'SÃ£o Paulo', 'microrregiao': {'id': 35061, 'nome': 'SÃ£o Paulo', 'mesorregiao': {'id': 3515, 'nome': 'Metropolitana de SÃ£o Paulo', 'UF': {'id': 35, 'sigla': 'SP', 'nome': 'SÃ£o Paulo', 'regiao': {'id': 3, 'sigla': 'SE', 'nome': 'Sudeste'}}}}}}, {'id': 355030804, 'nome': 'Aricanduva', 'municipio': {'id': 3550308, 'nome': 'SÃ£o Paulo', 'microrregiao': {'id': 35061, 'nome': 'SÃ£o Paulo', 'mesorregiao': {'id': 3515, 'nome': 'Metropolitana de SÃ£o Paulo', 'UF': {'id': 35, 'sigla': 'SP', 'nome': 'SÃ£o Paulo', 'regiao': {'id': 3, 'sigla': 'SE', 'nome': 'Sudeste'}}}}}}, {'id': 355030805, 'nome': 'Artur Alvim', 'municipio': {'id': 3550308, 'nome': 'SÃ£o Paulo', 'microrregiao': {'id': 35061, 'nome': 'SÃ£o Paulo', 'mesorregiao': {'id': 3515, 'nome': 'Metropolitana de SÃ£o Paulo', 'UF': {'id': 35, 'sigla': 'SP', 'nome': 'SÃ£o Paulo', 'regiao': {'id': 3, 'sigla': 'SE', 'nome': 'Sudeste'}}}}}}, {'id': 355030806, 'nome': 'Barra Funda', 'municipio': {'id': 3550308, 'nome': 'SÃ£o Paulo', 'microrregiao': {'id': 35061, 'nome': 'SÃ£o Paulo', 'mesorregiao': {'id': 3515, 'nome': 'Metropolitana de SÃ£o Paulo', 'UF': {'id': 35, 'sigla': 'SP', 'nome': 'SÃ£o Paulo', 'regiao': {'id': 3, 'sigla': 'SE', 'nome': 'Sudeste'}}}}}}, {'id': 355030807, 'nome': 'Bela Vista', 'municipio': {'id': 3550308, 'nome': 'SÃ£o Paulo', 'microrregiao': {'id': 35061, 'nome': 'SÃ£o Paulo', 'mesorregiao': {'id': 3515, 'nome': 'Metropolitana de SÃ£o Paulo', 'UF': {'id': 35, 'sigla': 'SP', 'nome': 'SÃ£o Paulo', 'regiao': {'id': 3, 'sigla': 'SE', 'nome': 'Sudeste'}}}}}}, {'id': 355030808, 'nome': 'BelÃ©m', 'municipio': {'id': 3550308, 'nome': 'SÃ£o Paulo', 'microrregiao': {'id': 35061, 'nome': 'SÃ£o Paulo', 'mesorregiao': {'id': 3515, 'nome': 'Metropolitana de SÃ£o Paulo', 'UF': {'id': 35, 'sigla': 'SP', 'nome': 'SÃ£o Paulo', 'regiao': {'id': 3, 'sigla': 'SE', 'nome': 'Sudeste'}}}}}}, {'id': 355030809, 'nome': 'Bom Retiro', 'municipio': {'id': 3550308, 'nome': 'SÃ£o Paulo', 'microrregiao': {'id': 35061, 'nome': 'SÃ£o Paulo', 'mesorregiao': {'id': 3515, 'nome': 'Metropolitana de SÃ£o Paulo', 'UF': {'id': 35, 'sigla': 'SP', 'nome': 'SÃ£o Paulo', 'regiao': {'id': 3, 'sigla': 'SE', 'nome': 'Sudeste'}}}}}}, {'id': 355030810, 'nome': 'BrÃ¡s', 'municipio': {'id': 3550308, 'nome': 'SÃ£o Paulo', 'microrregiao': {'id': 35061, 'nome': 'SÃ£o Paulo', 'mesorregiao': {'id': 3515, 'nome': 'Metropolitana de SÃ£o Paulo', 'UF': {'id': 35, 'sigla': 'SP', 'nome': 'SÃ£o Paulo', 'regiao': {'id': 3, 'sigla': 'SE', 'nome': 'Sudeste'}}}}}}, {'id': 355030811, 'nome': 'BrasilÃ¢ndia', 'municipio': {'id': 3550308, 'nome': 'SÃ£o Paulo', 'microrregiao': {'id': 35061, 'nome': 'SÃ£o Paulo', 'mesorregiao': {'id': 3515, 'nome': 'Metropolitana de SÃ£o Paulo', 'UF': {'id': 35, 'sigla': 'SP', 'nome': 'SÃ£o Paulo', 'regiao': {'id': 3, 'sigla': 'SE', 'nome': 'Sudeste'}}}}}}, {'id': 355030812, 'nome': 'ButantÃ£', 'municipio': {'id': 3550308, 'nome': 'SÃ£o Paulo', 'microrregiao': {'id': 35061, 'nome': 'SÃ£o Paulo', 'mesorregiao': {'id': 3515, 'nome': 'Metropolitana de SÃ£o Paulo', 'UF': {'id': 35, 'sigla': 'SP', 'nome': 'SÃ£o Paulo', 'regiao': {'id': 3, 'sigla': 'SE', 'nome': 'Sudeste'}}}}}}, {'id': 355030813, 'nome': 'Cachoeirinha', 'municipio': {'id': 3550308, 'nome': 'SÃ£o Paulo', 'microrregiao': {'id': 35061, 'nome': 'SÃ£o Paulo', 'mesorregiao': {'id': 3515, 'nome': 'Metropolitana de SÃ£o Paulo', 'UF': {'id': 35, 'sigla': 'SP', 'nome': 'SÃ£o Paulo', 'regiao': {'id': 3, 'sigla': 'SE', 'nome': 'Sudeste'}}}}}}, {'id': 355030814, 'nome': 'Cambuci', 'municipio': {'id': 3550308, 'nome': 'SÃ£o Paulo', 'microrregiao': {'id': 35061, 'nome': 'SÃ£o Paulo', 'mesorregiao': {'id': 3515, 'nome': 'Metropolitana de SÃ£o Paulo', 'UF': {'id': 35, 'sigla': 'SP', 'nome': 'SÃ£o Paulo', 'regiao': {'id': 3, 'sigla': 'SE', 'nome': 'Sudeste'}}}}}}, {'id': 355030815, 'nome': 'Campo Belo', 'municipio': {'id': 3550308, 'nome': 'SÃ£o Paulo', 'microrregiao': {'id': 35061, 'nome': 'SÃ£o Paulo', 'mesorregiao': {'id': 3515, 'nome': 'Metropolitana de SÃ£o Paulo', 'UF': {'id': 35, 'sigla': 'SP', 'nome': 'SÃ£o Paulo', 'regiao': {'id': 3, 'sigla': 'SE', 'nome': 'Sudeste'}}}}}}, {'id': 355030816, 'nome': 'Campo Grande', 'municipio': {'id': 3550308, 'nome': 'SÃ£o Paulo', 'microrregiao': {'id': 35061, 'nome': 'SÃ£o Paulo', 'mesorregiao': {'id': 3515, 'nome': 'Metropolitana de SÃ£o Paulo', 'UF': {'id': 35, 'sigla': 'SP', 'nome': 'SÃ£o Paulo', 'regiao': {'id': 3, 'sigla': 'SE', 'nome': 'Sudeste'}}}}}}, {'id': 355030817, 'nome': 'Campo Limpo', 'municipio': {'id': 3550308, 'nome': 'SÃ£o Paulo', 'microrregiao': {'id': 35061, 'nome': 'SÃ£o Paulo', 'mesorregiao': {'id': 3515, 'nome': 'Metropolitana de SÃ£o Paulo', 'UF': {'id': 35, 'sigla': 'SP', 'nome': 'SÃ£o Paulo', 'regiao': {'id': 3, 'sigla': 'SE', 'nome': 'Sudeste'}}}}}}, {'id': 355030818, 'nome': 'Cangaiba', 'municipio': {'id': 3550308, 'nome': 'SÃ£o Paulo', 'microrregiao': {'id': 35061, 'nome': 'SÃ£o Paulo', 'mesorregiao': {'id': 3515, 'nome': 'Metropolitana de SÃ£o Paulo', 'UF': {'id': 35, 'sigla': 'SP', 'nome': 'SÃ£o Paulo', 'regiao': {'id': 3, 'sigla': 'SE', 'nome': 'Sudeste'}}}}}}, {'id': 355030819, 'nome': 'CapÃ£o Redondo', 'municipio': {'id': 3550308, 'nome': 'SÃ£o Paulo', 'microrregiao': {'id': 35061, 'nome': 'SÃ£o Paulo', 'mesorregiao': {'id': 3515, 'nome': 'Metropolitana de SÃ£o Paulo', 'UF': {'id': 35, 'sigla': 'SP', 'nome': 'SÃ£o Paulo', 'regiao': {'id': 3, 'sigla': 'SE', 'nome': 'Sudeste'}}}}}}, {'id': 355030820, 'nome': 'CarrÃ£o', 'municipio': {'id': 3550308, 'nome': 'SÃ£o Paulo', 'microrregiao': {'id': 35061, 'nome': 'SÃ£o Paulo', 'mesorregiao': {'id': 3515, 'nome': 'Metropolitana de SÃ£o Paulo', 'UF': {'id': 35, 'sigla': 'SP', 'nome': 'SÃ£o Paulo', 'regiao': {'id': 3, 'sigla': 'SE', 'nome': 'Sudeste'}}}}}}, {'id': 355030821, 'nome': 'Casa Verde', 'municipio': {'id': 3550308, 'nome': 'SÃ£o Paulo', 'microrregiao': {'id': 35061, 'nome': 'SÃ£o Paulo', 'mesorregiao': {'id': 3515, 'nome': 'Metropolitana de SÃ£o Paulo', 'UF': {'id': 35, 'sigla': 'SP', 'nome': 'SÃ£o Paulo', 'regiao': {'id': 3, 'sigla': 'SE', 'nome': 'Sudeste'}}}}}}, {'id': 355030822, 'nome': 'Cidade Ademar', 'municipio': {'id': 3550308, 'nome': 'SÃ£o Paulo', 'microrregiao': {'id': 35061, 'nome': 'SÃ£o Paulo', 'mesorregiao': {'id': 3515, 'nome': 'Metropolitana de SÃ£o Paulo', 'UF': {'id': 35, 'sigla': 'SP', 'nome': 'SÃ£o Paulo', 'regiao': {'id': 3, 'sigla': 'SE', 'nome': 'Sudeste'}}}}}}, {'id': 355030823, 'nome': 'Cidade Dutra', 'municipio': {'id': 3550308, 'nome': 'SÃ£o Paulo', 'microrregiao': {'id': 35061, 'nome': 'SÃ£o Paulo', 'mesorregiao': {'id': 3515, 'nome': 'Metropolitana de SÃ£o Paulo', 'UF': {'id': 35, 'sigla': 'SP', 'nome': 'SÃ£o Paulo', 'regiao': {'id': 3, 'sigla': 'SE', 'nome': 'Sudeste'}}}}}}, {'id': 355030824, 'nome': 'Cidade Lider', 'municipio': {'id': 3550308, 'nome': 'SÃ£o Paulo', 'microrregiao': {'id': 35061, 'nome': 'SÃ£o Paulo', 'mesorregiao': {'id': 3515, 'nome': 'Metropolitana de SÃ£o Paulo', 'UF': {'id': 35, 'sigla': 'SP', 'nome': 'SÃ£o Paulo', 'regiao': {'id': 3, 'sigla': 'SE', 'nome': 'Sudeste'}}}}}}, {'id': 355030825, 'nome': 'Cidade Tiradentes', 'municipio': {'id': 3550308, 'nome': 'SÃ£o Paulo', 'microrregiao': {'id': 35061, 'nome': 'SÃ£o Paulo', 'mesorregiao': {'id': 3515, 'nome': 'Metropolitana de SÃ£o Paulo', 'UF': {'id': 35, 'sigla': 'SP', 'nome': 'SÃ£o Paulo', 'regiao': {'id': 3, 'sigla': 'SE', 'nome': 'Sudeste'}}}}}}, {'id': 355030826, 'nome': 'ConsolaÃ§Ã£o', 'municipio': {'id': 3550308, 'nome': 'SÃ£o Paulo', 'microrregiao': {'id': 35061, 'nome': 'SÃ£o Paulo', 'mesorregiao': {'id': 3515, 'nome': 'Metropolitana de SÃ£o Paulo', 'UF': {'id': 35, 'sigla': 'SP', 'nome': 'SÃ£o Paulo', 'regiao': {'id': 3, 'sigla': 'SE', 'nome': 'Sudeste'}}}}}}, {'id': 355030827, 'nome': 'Cursino', 'municipio': {'id': 3550308, 'nome': 'SÃ£o Paulo', 'microrregiao': {'id': 35061, 'nome': 'SÃ£o Paulo', 'mesorregiao': {'id': 3515, 'nome': 'Metropolitana de SÃ£o Paulo', 'UF': {'id': 35, 'sigla': 'SP', 'nome': 'SÃ£o Paulo', 'regiao': {'id': 3, 'sigla': 'SE', 'nome': 'Sudeste'}}}}}}, {'id': 355030828, 'nome': 'Ermelino Matarazzo', 'municipio': {'id': 3550308, 'nome': 'SÃ£o Paulo', 'microrregiao': {'id': 35061, 'nome': 'SÃ£o Paulo', 'mesorregiao': {'id': 3515, 'nome': 'Metropolitana de SÃ£o Paulo', 'UF': {'id': 35, 'sigla': 'SP', 'nome': 'SÃ£o Paulo', 'regiao': {'id': 3, 'sigla': 'SE', 'nome': 'Sudeste'}}}}}}, {'id': 355030829, 'nome': 'Freguesia do Ã\\x93', 'municipio': {'id': 3550308, 'nome': 'SÃ£o Paulo', 'microrregiao': {'id': 35061, 'nome': 'SÃ£o Paulo', 'mesorregiao': {'id': 3515, 'nome': 'Metropolitana de SÃ£o Paulo', 'UF': {'id': 35, 'sigla': 'SP', 'nome': 'SÃ£o Paulo', 'regiao': {'id': 3, 'sigla': 'SE', 'nome': 'Sudeste'}}}}}}, {'id': 355030830, 'nome': 'GrajaÃº', 'municipio': {'id': 3550308, 'nome': 'SÃ£o Paulo', 'microrregiao': {'id': 35061, 'nome': 'SÃ£o Paulo', 'mesorregiao': {'id': 3515, 'nome': 'Metropolitana de SÃ£o Paulo', 'UF': {'id': 35, 'sigla': 'SP', 'nome': 'SÃ£o Paulo', 'regiao': {'id': 3, 'sigla': 'SE', 'nome': 'Sudeste'}}}}}}, {'id': 355030831, 'nome': 'Guaianases', 'municipio': {'id': 3550308, 'nome': 'SÃ£o Paulo', 'microrregiao': {'id': 35061, 'nome': 'SÃ£o Paulo', 'mesorregiao': {'id': 3515, 'nome': 'Metropolitana de SÃ£o Paulo', 'UF': {'id': 35, 'sigla': 'SP', 'nome': 'SÃ£o Paulo', 'regiao': {'id': 3, 'sigla': 'SE', 'nome': 'Sudeste'}}}}}}, {'id': 355030832, 'nome': 'Moema', 'municipio': {'id': 3550308, 'nome': 'SÃ£o Paulo', 'microrregiao': {'id': 35061, 'nome': 'SÃ£o Paulo', 'mesorregiao': {'id': 3515, 'nome': 'Metropolitana de SÃ£o Paulo', 'UF': {'id': 35, 'sigla': 'SP', 'nome': 'SÃ£o Paulo', 'regiao': {'id': 3, 'sigla': 'SE', 'nome': 'Sudeste'}}}}}}, {'id': 355030833, 'nome': 'Iguatemi', 'municipio': {'id': 3550308, 'nome': 'SÃ£o Paulo', 'microrregiao': {'id': 35061, 'nome': 'SÃ£o Paulo', 'mesorregiao': {'id': 3515, 'nome': 'Metropolitana de SÃ£o Paulo', 'UF': {'id': 35, 'sigla': 'SP', 'nome': 'SÃ£o Paulo', 'regiao': {'id': 3, 'sigla': 'SE', 'nome': 'Sudeste'}}}}}}, {'id': 355030834, 'nome': 'Ipiranga', 'municipio': {'id': 3550308, 'nome': 'SÃ£o Paulo', 'microrregiao': {'id': 35061, 'nome': 'SÃ£o Paulo', 'mesorregiao': {'id': 3515, 'nome': 'Metropolitana de SÃ£o Paulo', 'UF': {'id': 35, 'sigla': 'SP', 'nome': 'SÃ£o Paulo', 'regiao': {'id': 3, 'sigla': 'SE', 'nome': 'Sudeste'}}}}}}, {'id': 355030835, 'nome': 'Itaim Bibi', 'municipio': {'id': 3550308, 'nome': 'SÃ£o Paulo', 'microrregiao': {'id': 35061, 'nome': 'SÃ£o Paulo', 'mesorregiao': {'id': 3515, 'nome': 'Metropolitana de SÃ£o Paulo', 'UF': {'id': 35, 'sigla': 'SP', 'nome': 'SÃ£o Paulo', 'regiao': {'id': 3, 'sigla': 'SE', 'nome': 'Sudeste'}}}}}}, {'id': 355030836, 'nome': 'Itaim Paulista', 'municipio': {'id': 3550308, 'nome': 'SÃ£o Paulo', 'microrregiao': {'id': 35061, 'nome': 'SÃ£o Paulo', 'mesorregiao': {'id': 3515, 'nome': 'Metropolitana de SÃ£o Paulo', 'UF': {'id': 35, 'sigla': 'SP', 'nome': 'SÃ£o Paulo', 'regiao': {'id': 3, 'sigla': 'SE', 'nome': 'Sudeste'}}}}}}, {'id': 355030837, 'nome': 'Itaquera', 'municipio': {'id': 3550308, 'nome': 'SÃ£o Paulo', 'microrregiao': {'id': 35061, 'nome': 'SÃ£o Paulo', 'mesorregiao': {'id': 3515, 'nome': 'Metropolitana de SÃ£o Paulo', 'UF': {'id': 35, 'sigla': 'SP', 'nome': 'SÃ£o Paulo', 'regiao': {'id': 3, 'sigla': 'SE', 'nome': 'Sudeste'}}}}}}, {'id': 355030838, 'nome': 'Jabaquara', 'municipio': {'id': 3550308, 'nome': 'SÃ£o Paulo', 'microrregiao': {'id': 35061, 'nome': 'SÃ£o Paulo', 'mesorregiao': {'id': 3515, 'nome': 'Metropolitana de SÃ£o Paulo', 'UF': {'id': 35, 'sigla': 'SP', 'nome': 'SÃ£o Paulo', 'regiao': {'id': 3, 'sigla': 'SE', 'nome': 'Sudeste'}}}}}}, {'id': 355030839, 'nome': 'JaÃ§anÃ£', 'municipio': {'id': 3550308, 'nome': 'SÃ£o Paulo', 'microrregiao': {'id': 35061, 'nome': 'SÃ£o Paulo', 'mesorregiao': {'id': 3515, 'nome': 'Metropolitana de SÃ£o Paulo', 'UF': {'id': 35, 'sigla': 'SP', 'nome': 'SÃ£o Paulo', 'regiao': {'id': 3, 'sigla': 'SE', 'nome': 'Sudeste'}}}}}}, {'id': 355030840, 'nome': 'Jaguara', 'municipio': {'id': 3550308, 'nome': 'SÃ£o Paulo', 'microrregiao': {'id': 35061, 'nome': 'SÃ£o Paulo', 'mesorregiao': {'id': 3515, 'nome': 'Metropolitana de SÃ£o Paulo', 'UF': {'id': 35, 'sigla': 'SP', 'nome': 'SÃ£o Paulo', 'regiao': {'id': 3, 'sigla': 'SE', 'nome': 'Sudeste'}}}}}}, {'id': 355030841, 'nome': 'JaguarÃ©', 'municipio': {'id': 3550308, 'nome': 'SÃ£o Paulo', 'microrregiao': {'id': 35061, 'nome': 'SÃ£o Paulo', 'mesorregiao': {'id': 3515, 'nome': 'Metropolitana de SÃ£o Paulo', 'UF': {'id': 35, 'sigla': 'SP', 'nome': 'SÃ£o Paulo', 'regiao': {'id': 3, 'sigla': 'SE', 'nome': 'Sudeste'}}}}}}, {'id': 355030842, 'nome': 'JaraguÃ¡', 'municipio': {'id': 3550308, 'nome': 'SÃ£o Paulo', 'microrregiao': {'id': 35061, 'nome': 'SÃ£o Paulo', 'mesorregiao': {'id': 3515, 'nome': 'Metropolitana de SÃ£o Paulo', 'UF': {'id': 35, 'sigla': 'SP', 'nome': 'SÃ£o Paulo', 'regiao': {'id': 3, 'sigla': 'SE', 'nome': 'Sudeste'}}}}}}, {'id': 355030843, 'nome': 'Jardim Ã\\x82ngela', 'municipio': {'id': 3550308, 'nome': 'SÃ£o Paulo', 'microrregiao': {'id': 35061, 'nome': 'SÃ£o Paulo', 'mesorregiao': {'id': 3515, 'nome': 'Metropolitana de SÃ£o Paulo', 'UF': {'id': 35, 'sigla': 'SP', 'nome': 'SÃ£o Paulo', 'regiao': {'id': 3, 'sigla': 'SE', 'nome': 'Sudeste'}}}}}}, {'id': 355030844, 'nome': 'Jardim Helena', 'municipio': {'id': 3550308, 'nome': 'SÃ£o Paulo', 'microrregiao': {'id': 35061, 'nome': 'SÃ£o Paulo', 'mesorregiao': {'id': 3515, 'nome': 'Metropolitana de SÃ£o Paulo', 'UF': {'id': 35, 'sigla': 'SP', 'nome': 'SÃ£o Paulo', 'regiao': {'id': 3, 'sigla': 'SE', 'nome': 'Sudeste'}}}}}}, {'id': 355030845, 'nome': 'Jardim Paulista', 'municipio': {'id': 3550308, 'nome': 'SÃ£o Paulo', 'microrregiao': {'id': 35061, 'nome': 'SÃ£o Paulo', 'mesorregiao': {'id': 3515, 'nome': 'Metropolitana de SÃ£o Paulo', 'UF': {'id': 35, 'sigla': 'SP', 'nome': 'SÃ£o Paulo', 'regiao': {'id': 3, 'sigla': 'SE', 'nome': 'Sudeste'}}}}}}, {'id': 355030846, 'nome': 'Jardim SÃ£o LuÃ\\xads', 'municipio': {'id': 3550308, 'nome': 'SÃ£o Paulo', 'microrregiao': {'id': 35061, 'nome': 'SÃ£o Paulo', 'mesorregiao': {'id': 3515, 'nome': 'Metropolitana de SÃ£o Paulo', 'UF': {'id': 35, 'sigla': 'SP', 'nome': 'SÃ£o Paulo', 'regiao': {'id': 3, 'sigla': 'SE', 'nome': 'Sudeste'}}}}}}, {'id': 355030847, 'nome': 'JosÃ© BonifÃ¡cio', 'municipio': {'id': 3550308, 'nome': 'SÃ£o Paulo', 'microrregiao': {'id': 35061, 'nome': 'SÃ£o Paulo', 'mesorregiao': {'id': 3515, 'nome': 'Metropolitana de SÃ£o Paulo', 'UF': {'id': 35, 'sigla': 'SP', 'nome': 'SÃ£o Paulo', 'regiao': {'id': 3, 'sigla': 'SE', 'nome': 'Sudeste'}}}}}}, {'id': 355030848, 'nome': 'Lapa', 'municipio': {'id': 3550308, 'nome': 'SÃ£o Paulo', 'microrregiao': {'id': 35061, 'nome': 'SÃ£o Paulo', 'mesorregiao': {'id': 3515, 'nome': 'Metropolitana de SÃ£o Paulo', 'UF': {'id': 35, 'sigla': 'SP', 'nome': 'SÃ£o Paulo', 'regiao': {'id': 3, 'sigla': 'SE', 'nome': 'Sudeste'}}}}}}, {'id': 355030849, 'nome': 'Liberdade', 'municipio': {'id': 3550308, 'nome': 'SÃ£o Paulo', 'microrregiao': {'id': 35061, 'nome': 'SÃ£o Paulo', 'mesorregiao': {'id': 3515, 'nome': 'Metropolitana de SÃ£o Paulo', 'UF': {'id': 35, 'sigla': 'SP', 'nome': 'SÃ£o Paulo', 'regiao': {'id': 3, 'sigla': 'SE', 'nome': 'Sudeste'}}}}}}, {'id': 355030850, 'nome': 'LimÃ£o', 'municipio': {'id': 3550308, 'nome': 'SÃ£o Paulo', 'microrregiao': {'id': 35061, 'nome': 'SÃ£o Paulo', 'mesorregiao': {'id': 3515, 'nome': 'Metropolitana de SÃ£o Paulo', 'UF': {'id': 35, 'sigla': 'SP', 'nome': 'SÃ£o Paulo', 'regiao': {'id': 3, 'sigla': 'SE', 'nome': 'Sudeste'}}}}}}, {'id': 355030851, 'nome': 'Mandaqui', 'municipio': {'id': 3550308, 'nome': 'SÃ£o Paulo', 'microrregiao': {'id': 35061, 'nome': 'SÃ£o Paulo', 'mesorregiao': {'id': 3515, 'nome': 'Metropolitana de SÃ£o Paulo', 'UF': {'id': 35, 'sigla': 'SP', 'nome': 'SÃ£o Paulo', 'regiao': {'id': 3, 'sigla': 'SE', 'nome': 'Sudeste'}}}}}}, {'id': 355030852, 'nome': 'Marsilac', 'municipio': {'id': 3550308, 'nome': 'SÃ£o Paulo', 'microrregiao': {'id': 35061, 'nome': 'SÃ£o Paulo', 'mesorregiao': {'id': 3515, 'nome': 'Metropolitana de SÃ£o Paulo', 'UF': {'id': 35, 'sigla': 'SP', 'nome': 'SÃ£o Paulo', 'regiao': {'id': 3, 'sigla': 'SE', 'nome': 'Sudeste'}}}}}}, {'id': 355030853, 'nome': 'Mooca', 'municipio': {'id': 3550308, 'nome': 'SÃ£o Paulo', 'microrregiao': {'id': 35061, 'nome': 'SÃ£o Paulo', 'mesorregiao': {'id': 3515, 'nome': 'Metropolitana de SÃ£o Paulo', 'UF': {'id': 35, 'sigla': 'SP', 'nome': 'SÃ£o Paulo', 'regiao': {'id': 3, 'sigla': 'SE', 'nome': 'Sudeste'}}}}}}, {'id': 355030854, 'nome': 'Morumbi', 'municipio': {'id': 3550308, 'nome': 'SÃ£o Paulo', 'microrregiao': {'id': 35061, 'nome': 'SÃ£o Paulo', 'mesorregiao': {'id': 3515, 'nome': 'Metropolitana de SÃ£o Paulo', 'UF': {'id': 35, 'sigla': 'SP', 'nome': 'SÃ£o Paulo', 'regiao': {'id': 3, 'sigla': 'SE', 'nome': 'Sudeste'}}}}}}, {'id': 355030855, 'nome': 'Parelheiros', 'municipio': {'id': 3550308, 'nome': 'SÃ£o Paulo', 'microrregiao': {'id': 35061, 'nome': 'SÃ£o Paulo', 'mesorregiao': {'id': 3515, 'nome': 'Metropolitana de SÃ£o Paulo', 'UF': {'id': 35, 'sigla': 'SP', 'nome': 'SÃ£o Paulo', 'regiao': {'id': 3, 'sigla': 'SE', 'nome': 'Sudeste'}}}}}}, {'id': 355030856, 'nome': 'Pari', 'municipio': {'id': 3550308, 'nome': 'SÃ£o Paulo', 'microrregiao': {'id': 35061, 'nome': 'SÃ£o Paulo', 'mesorregiao': {'id': 3515, 'nome': 'Metropolitana de SÃ£o Paulo', 'UF': {'id': 35, 'sigla': 'SP', 'nome': 'SÃ£o Paulo', 'regiao': {'id': 3, 'sigla': 'SE', 'nome': 'Sudeste'}}}}}}, {'id': 355030857, 'nome': 'Parque do Carmo', 'municipio': {'id': 3550308, 'nome': 'SÃ£o Paulo', 'microrregiao': {'id': 35061, 'nome': 'SÃ£o Paulo', 'mesorregiao': {'id': 3515, 'nome': 'Metropolitana de SÃ£o Paulo', 'UF': {'id': 35, 'sigla': 'SP', 'nome': 'SÃ£o Paulo', 'regiao': {'id': 3, 'sigla': 'SE', 'nome': 'Sudeste'}}}}}}, {'id': 355030858, 'nome': 'Pedreira', 'municipio': {'id': 3550308, 'nome': 'SÃ£o Paulo', 'microrregiao': {'id': 35061, 'nome': 'SÃ£o Paulo', 'mesorregiao': {'id': 3515, 'nome': 'Metropolitana de SÃ£o Paulo', 'UF': {'id': 35, 'sigla': 'SP', 'nome': 'SÃ£o Paulo', 'regiao': {'id': 3, 'sigla': 'SE', 'nome': 'Sudeste'}}}}}}, {'id': 355030859, 'nome': 'Penha', 'municipio': {'id': 3550308, 'nome': 'SÃ£o Paulo', 'microrregiao': {'id': 35061, 'nome': 'SÃ£o Paulo', 'mesorregiao': {'id': 3515, 'nome': 'Metropolitana de SÃ£o Paulo', 'UF': {'id': 35, 'sigla': 'SP', 'nome': 'SÃ£o Paulo', 'regiao': {'id': 3, 'sigla': 'SE', 'nome': 'Sudeste'}}}}}}, {'id': 355030860, 'nome': 'Perdizes', 'municipio': {'id': 3550308, 'nome': 'SÃ£o Paulo', 'microrregiao': {'id': 35061, 'nome': 'SÃ£o Paulo', 'mesorregiao': {'id': 3515, 'nome': 'Metropolitana de SÃ£o Paulo', 'UF': {'id': 35, 'sigla': 'SP', 'nome': 'SÃ£o Paulo', 'regiao': {'id': 3, 'sigla': 'SE', 'nome': 'Sudeste'}}}}}}, {'id': 355030861, 'nome': 'Perus', 'municipio': {'id': 3550308, 'nome': 'SÃ£o Paulo', 'microrregiao': {'id': 35061, 'nome': 'SÃ£o Paulo', 'mesorregiao': {'id': 3515, 'nome': 'Metropolitana de SÃ£o Paulo', 'UF': {'id': 35, 'sigla': 'SP', 'nome': 'SÃ£o Paulo', 'regiao': {'id': 3, 'sigla': 'SE', 'nome': 'Sudeste'}}}}}}, {'id': 355030862, 'nome': 'Pinheiros', 'municipio': {'id': 3550308, 'nome': 'SÃ£o Paulo', 'microrregiao': {'id': 35061, 'nome': 'SÃ£o Paulo', 'mesorregiao': {'id': 3515, 'nome': 'Metropolitana de SÃ£o Paulo', 'UF': {'id': 35, 'sigla': 'SP', 'nome': 'SÃ£o Paulo', 'regiao': {'id': 3, 'sigla': 'SE', 'nome': 'Sudeste'}}}}}}, {'id': 355030863, 'nome': 'Pirituba', 'municipio': {'id': 3550308, 'nome': 'SÃ£o Paulo', 'microrregiao': {'id': 35061, 'nome': 'SÃ£o Paulo', 'mesorregiao': {'id': 3515, 'nome': 'Metropolitana de SÃ£o Paulo', 'UF': {'id': 35, 'sigla': 'SP', 'nome': 'SÃ£o Paulo', 'regiao': {'id': 3, 'sigla': 'SE', 'nome': 'Sudeste'}}}}}}, {'id': 355030864, 'nome': 'Ponte Rasa', 'municipio': {'id': 3550308, 'nome': 'SÃ£o Paulo', 'microrregiao': {'id': 35061, 'nome': 'SÃ£o Paulo', 'mesorregiao': {'id': 3515, 'nome': 'Metropolitana de SÃ£o Paulo', 'UF': {'id': 35, 'sigla': 'SP', 'nome': 'SÃ£o Paulo', 'regiao': {'id': 3, 'sigla': 'SE', 'nome': 'Sudeste'}}}}}}, {'id': 355030865, 'nome': 'Raposo Tavares', 'municipio': {'id': 3550308, 'nome': 'SÃ£o Paulo', 'microrregiao': {'id': 35061, 'nome': 'SÃ£o Paulo', 'mesorregiao': {'id': 3515, 'nome': 'Metropolitana de SÃ£o Paulo', 'UF': {'id': 35, 'sigla': 'SP', 'nome': 'SÃ£o Paulo', 'regiao': {'id': 3, 'sigla': 'SE', 'nome': 'Sudeste'}}}}}}, {'id': 355030866, 'nome': 'RepÃºblica', 'municipio': {'id': 3550308, 'nome': 'SÃ£o Paulo', 'microrregiao': {'id': 35061, 'nome': 'SÃ£o Paulo', 'mesorregiao': {'id': 3515, 'nome': 'Metropolitana de SÃ£o Paulo', 'UF': {'id': 35, 'sigla': 'SP', 'nome': 'SÃ£o Paulo', 'regiao': {'id': 3, 'sigla': 'SE', 'nome': 'Sudeste'}}}}}}, {'id': 355030867, 'nome': 'Rio Pequeno', 'municipio': {'id': 3550308, 'nome': 'SÃ£o Paulo', 'microrregiao': {'id': 35061, 'nome': 'SÃ£o Paulo', 'mesorregiao': {'id': 3515, 'nome': 'Metropolitana de SÃ£o Paulo', 'UF': {'id': 35, 'sigla': 'SP', 'nome': 'SÃ£o Paulo', 'regiao': {'id': 3, 'sigla': 'SE', 'nome': 'Sudeste'}}}}}}, {'id': 355030868, 'nome': 'SacomÃ£', 'municipio': {'id': 3550308, 'nome': 'SÃ£o Paulo', 'microrregiao': {'id': 35061, 'nome': 'SÃ£o Paulo', 'mesorregiao': {'id': 3515, 'nome': 'Metropolitana de SÃ£o Paulo', 'UF': {'id': 35, 'sigla': 'SP', 'nome': 'SÃ£o Paulo', 'regiao': {'id': 3, 'sigla': 'SE', 'nome': 'Sudeste'}}}}}}, {'id': 355030869, 'nome': 'Santa CecÃ\\xadlia', 'municipio': {'id': 3550308, 'nome': 'SÃ£o Paulo', 'microrregiao': {'id': 35061, 'nome': 'SÃ£o Paulo', 'mesorregiao': {'id': 3515, 'nome': 'Metropolitana de SÃ£o Paulo', 'UF': {'id': 35, 'sigla': 'SP', 'nome': 'SÃ£o Paulo', 'regiao': {'id': 3, 'sigla': 'SE', 'nome': 'Sudeste'}}}}}}, {'id': 355030870, 'nome': 'Santana', 'municipio': {'id': 3550308, 'nome': 'SÃ£o Paulo', 'microrregiao': {'id': 35061, 'nome': 'SÃ£o Paulo', 'mesorregiao': {'id': 3515, 'nome': 'Metropolitana de SÃ£o Paulo', 'UF': {'id': 35, 'sigla': 'SP', 'nome': 'SÃ£o Paulo', 'regiao': {'id': 3, 'sigla': 'SE', 'nome': 'Sudeste'}}}}}}, {'id': 355030871, 'nome': 'Santo Amaro', 'municipio': {'id': 3550308, 'nome': 'SÃ£o Paulo', 'microrregiao': {'id': 35061, 'nome': 'SÃ£o Paulo', 'mesorregiao': {'id': 3515, 'nome': 'Metropolitana de SÃ£o Paulo', 'UF': {'id': 35, 'sigla': 'SP', 'nome': 'SÃ£o Paulo', 'regiao': {'id': 3, 'sigla': 'SE', 'nome': 'Sudeste'}}}}}}, {'id': 355030872, 'nome': 'SÃ£o Lucas', 'municipio': {'id': 3550308, 'nome': 'SÃ£o Paulo', 'microrregiao': {'id': 35061, 'nome': 'SÃ£o Paulo', 'mesorregiao': {'id': 3515, 'nome': 'Metropolitana de SÃ£o Paulo', 'UF': {'id': 35, 'sigla': 'SP', 'nome': 'SÃ£o Paulo', 'regiao': {'id': 3, 'sigla': 'SE', 'nome': 'Sudeste'}}}}}}, {'id': 355030873, 'nome': 'SÃ£o Mateus', 'municipio': {'id': 3550308, 'nome': 'SÃ£o Paulo', 'microrregiao': {'id': 35061, 'nome': 'SÃ£o Paulo', 'mesorregiao': {'id': 3515, 'nome': 'Metropolitana de SÃ£o Paulo', 'UF': {'id': 35, 'sigla': 'SP', 'nome': 'SÃ£o Paulo', 'regiao': {'id': 3, 'sigla': 'SE', 'nome': 'Sudeste'}}}}}}, {'id': 355030874, 'nome': 'SÃ£o Miguel', 'municipio': {'id': 3550308, 'nome': 'SÃ£o Paulo', 'microrregiao': {'id': 35061, 'nome': 'SÃ£o Paulo', 'mesorregiao': {'id': 3515, 'nome': 'Metropolitana de SÃ£o Paulo', 'UF': {'id': 35, 'sigla': 'SP', 'nome': 'SÃ£o Paulo', 'regiao': {'id': 3, 'sigla': 'SE', 'nome': 'Sudeste'}}}}}}, {'id': 355030875, 'nome': 'SÃ£o Rafael', 'municipio': {'id': 3550308, 'nome': 'SÃ£o Paulo', 'microrregiao': {'id': 35061, 'nome': 'SÃ£o Paulo', 'mesorregiao': {'id': 3515, 'nome': 'Metropolitana de SÃ£o Paulo', 'UF': {'id': 35, 'sigla': 'SP', 'nome': 'SÃ£o Paulo', 'regiao': {'id': 3, 'sigla': 'SE', 'nome': 'Sudeste'}}}}}}, {'id': 355030876, 'nome': 'Sapopemba', 'municipio': {'id': 3550308, 'nome': 'SÃ£o Paulo', 'microrregiao': {'id': 35061, 'nome': 'SÃ£o Paulo', 'mesorregiao': {'id': 3515, 'nome': 'Metropolitana de SÃ£o Paulo', 'UF': {'id': 35, 'sigla': 'SP', 'nome': 'SÃ£o Paulo', 'regiao': {'id': 3, 'sigla': 'SE', 'nome': 'Sudeste'}}}}}}, {'id': 355030877, 'nome': 'SaÃºde', 'municipio': {'id': 3550308, 'nome': 'SÃ£o Paulo', 'microrregiao': {'id': 35061, 'nome': 'SÃ£o Paulo', 'mesorregiao': {'id': 3515, 'nome': 'Metropolitana de SÃ£o Paulo', 'UF': {'id': 35, 'sigla': 'SP', 'nome': 'SÃ£o Paulo', 'regiao': {'id': 3, 'sigla': 'SE', 'nome': 'Sudeste'}}}}}}, {'id': 355030878, 'nome': 'SÃ©', 'municipio': {'id': 3550308, 'nome': 'SÃ£o Paulo', 'microrregiao': {'id': 35061, 'nome': 'SÃ£o Paulo', 'mesorregiao': {'id': 3515, 'nome': 'Metropolitana de SÃ£o Paulo', 'UF': {'id': 35, 'sigla': 'SP', 'nome': 'SÃ£o Paulo', 'regiao': {'id': 3, 'sigla': 'SE', 'nome': 'Sudeste'}}}}}}, {'id': 355030879, 'nome': 'Socorro', 'municipio': {'id': 3550308, 'nome': 'SÃ£o Paulo', 'microrregiao': {'id': 35061, 'nome': 'SÃ£o Paulo', 'mesorregiao': {'id': 3515, 'nome': 'Metropolitana de SÃ£o Paulo', 'UF': {'id': 35, 'sigla': 'SP', 'nome': 'SÃ£o Paulo', 'regiao': {'id': 3, 'sigla': 'SE', 'nome': 'Sudeste'}}}}}}, {'id': 355030880, 'nome': 'TatuapÃ©', 'municipio': {'id': 3550308, 'nome': 'SÃ£o Paulo', 'microrregiao': {'id': 35061, 'nome': 'SÃ£o Paulo', 'mesorregiao': {'id': 3515, 'nome': 'Metropolitana de SÃ£o Paulo', 'UF': {'id': 35, 'sigla': 'SP', 'nome': 'SÃ£o Paulo', 'regiao': {'id': 3, 'sigla': 'SE', 'nome': 'Sudeste'}}}}}}, {'id': 355030881, 'nome': 'TremembÃ©', 'municipio': {'id': 3550308, 'nome': 'SÃ£o Paulo', 'microrregiao': {'id': 35061, 'nome': 'SÃ£o Paulo', 'mesorregiao': {'id': 3515, 'nome': 'Metropolitana de SÃ£o Paulo', 'UF': {'id': 35, 'sigla': 'SP', 'nome': 'SÃ£o Paulo', 'regiao': {'id': 3, 'sigla': 'SE', 'nome': 'Sudeste'}}}}}}, {'id': 355030882, 'nome': 'Tucuruvi', 'municipio': {'id': 3550308, 'nome': 'SÃ£o Paulo', 'microrregiao': {'id': 35061, 'nome': 'SÃ£o Paulo', 'mesorregiao': {'id': 3515, 'nome': 'Metropolitana de SÃ£o Paulo', 'UF': {'id': 35, 'sigla': 'SP', 'nome': 'SÃ£o Paulo', 'regiao': {'id': 3, 'sigla': 'SE', 'nome': 'Sudeste'}}}}}}, {'id': 355030883, 'nome': 'Vila Andrade', 'municipio': {'id': 3550308, 'nome': 'SÃ£o Paulo', 'microrregiao': {'id': 35061, 'nome': 'SÃ£o Paulo', 'mesorregiao': {'id': 3515, 'nome': 'Metropolitana de SÃ£o Paulo', 'UF': {'id': 35, 'sigla': 'SP', 'nome': 'SÃ£o Paulo', 'regiao': {'id': 3, 'sigla': 'SE', 'nome': 'Sudeste'}}}}}}, {'id': 355030884, 'nome': 'Vila CuruÃ§Ã¡', 'municipio': {'id': 3550308, 'nome': 'SÃ£o Paulo', 'microrregiao': {'id': 35061, 'nome': 'SÃ£o Paulo', 'mesorregiao': {'id': 3515, 'nome': 'Metropolitana de SÃ£o Paulo', 'UF': {'id': 35, 'sigla': 'SP', 'nome': 'SÃ£o Paulo', 'regiao': {'id': 3, 'sigla': 'SE', 'nome': 'Sudeste'}}}}}}, {'id': 355030885, 'nome': 'Vila Formosa', 'municipio': {'id': 3550308, 'nome': 'SÃ£o Paulo', 'microrregiao': {'id': 35061, 'nome': 'SÃ£o Paulo', 'mesorregiao': {'id': 3515, 'nome': 'Metropolitana de SÃ£o Paulo', 'UF': {'id': 35, 'sigla': 'SP', 'nome': 'SÃ£o Paulo', 'regiao': {'id': 3, 'sigla': 'SE', 'nome': 'Sudeste'}}}}}}, {'id': 355030886, 'nome': 'Vila Guilherme', 'municipio': {'id': 3550308, 'nome': 'SÃ£o Paulo', 'microrregiao': {'id': 35061, 'nome': 'SÃ£o Paulo', 'mesorregiao': {'id': 3515, 'nome': 'Metropolitana de SÃ£o Paulo', 'UF': {'id': 35, 'sigla': 'SP', 'nome': 'SÃ£o Paulo', 'regiao': {'id': 3, 'sigla': 'SE', 'nome': 'Sudeste'}}}}}}, {'id': 355030887, 'nome': 'Vila JacuÃ\\xad', 'municipio': {'id': 3550308, 'nome': 'SÃ£o Paulo', 'microrregiao': {'id': 35061, 'nome': 'SÃ£o Paulo', 'mesorregiao': {'id': 3515, 'nome': 'Metropolitana de SÃ£o Paulo', 'UF': {'id': 35, 'sigla': 'SP', 'nome': 'SÃ£o Paulo', 'regiao': {'id': 3, 'sigla': 'SE', 'nome': 'Sudeste'}}}}}}, {'id': 355030888, 'nome': 'Vila Leopoldina', 'municipio': {'id': 3550308, 'nome': 'SÃ£o Paulo', 'microrregiao': {'id': 35061, 'nome': 'SÃ£o Paulo', 'mesorregiao': {'id': 3515, 'nome': 'Metropolitana de SÃ£o Paulo', 'UF': {'id': 35, 'sigla': 'SP', 'nome': 'SÃ£o Paulo', 'regiao': {'id': 3, 'sigla': 'SE', 'nome': 'Sudeste'}}}}}}, {'id': 355030889, 'nome': 'Vila Maria', 'municipio': {'id': 3550308, 'nome': 'SÃ£o Paulo', 'microrregiao': {'id': 35061, 'nome': 'SÃ£o Paulo', 'mesorregiao': {'id': 3515, 'nome': 'Metropolitana de SÃ£o Paulo', 'UF': {'id': 35, 'sigla': 'SP', 'nome': 'SÃ£o Paulo', 'regiao': {'id': 3, 'sigla': 'SE', 'nome': 'Sudeste'}}}}}}, {'id': 355030890, 'nome': 'Vila Mariana', 'municipio': {'id': 3550308, 'nome': 'SÃ£o Paulo', 'microrregiao': {'id': 35061, 'nome': 'SÃ£o Paulo', 'mesorregiao': {'id': 3515, 'nome': 'Metropolitana de SÃ£o Paulo', 'UF': {'id': 35, 'sigla': 'SP', 'nome': 'SÃ£o Paulo', 'regiao': {'id': 3, 'sigla': 'SE', 'nome': 'Sudeste'}}}}}}, {'id': 355030891, 'nome': 'Vila Matilde', 'municipio': {'id': 3550308, 'nome': 'SÃ£o Paulo', 'microrregiao': {'id': 35061, 'nome': 'SÃ£o Paulo', 'mesorregiao': {'id': 3515, 'nome': 'Metropolitana de SÃ£o Paulo', 'UF': {'id': 35, 'sigla': 'SP', 'nome': 'SÃ£o Paulo', 'regiao': {'id': 3, 'sigla': 'SE', 'nome': 'Sudeste'}}}}}}, {'id': 355030892, 'nome': 'Vila Medeiros', 'municipio': {'id': 3550308, 'nome': 'SÃ£o Paulo', 'microrregiao': {'id': 35061, 'nome': 'SÃ£o Paulo', 'mesorregiao': {'id': 3515, 'nome': 'Metropolitana de SÃ£o Paulo', 'UF': {'id': 35, 'sigla': 'SP', 'nome': 'SÃ£o Paulo', 'regiao': {'id': 3, 'sigla': 'SE', 'nome': 'Sudeste'}}}}}}, {'id': 355030893, 'nome': 'Vila Prudente', 'municipio': {'id': 3550308, 'nome': 'SÃ£o Paulo', 'microrregiao': {'id': 35061, 'nome': 'SÃ£o Paulo', 'mesorregiao': {'id': 3515, 'nome': 'Metropolitana de SÃ£o Paulo', 'UF': {'id': 35, 'sigla': 'SP', 'nome': 'SÃ£o Paulo', 'regiao': {'id': 3, 'sigla': 'SE', 'nome': 'Sudeste'}}}}}}, {'id': 355030894, 'nome': 'Vila SÃ´nia', 'municipio': {'id': 3550308, 'nome': 'SÃ£o Paulo', 'microrregiao': {'id': 35061, 'nome': 'SÃ£o Paulo', 'mesorregiao': {'id': 3515, 'nome': 'Metropolitana de SÃ£o Paulo', 'UF': {'id': 35, 'sigla': 'SP', 'nome': 'SÃ£o Paulo', 'regiao': {'id': 3, 'sigla': 'SE', 'nome': 'Sudeste'}}}}}}, {'id': 355030895, 'nome': 'SÃ£o Domingos', 'municipio': {'id': 3550308, 'nome': 'SÃ£o Paulo', 'microrregiao': {'id': 35061, 'nome': 'SÃ£o Paulo', 'mesorregiao': {'id': 3515, 'nome': 'Metropolitana de SÃ£o Paulo', 'UF': {'id': 35, 'sigla': 'SP', 'nome': 'SÃ£o Paulo', 'regiao': {'id': 3, 'sigla': 'SE', 'nome': 'Sudeste'}}}}}}, {'id': 355030896, 'nome': 'Lajeado', 'municipio': {'id': 3550308, 'nome': 'SÃ£o Paulo', 'microrregiao': {'id': 35061, 'nome': 'SÃ£o Paulo', 'mesorregiao': {'id': 3515, 'nome': 'Metropolitana de SÃ£o Paulo', 'UF': {'id': 35, 'sigla': 'SP', 'nome': 'SÃ£o Paulo', 'regiao': {'id': 3, 'sigla': 'SE', 'nome': 'Sudeste'}}}}}}]",
     "output_type": "error",
     "traceback": [
      "\u001b[1;31m---------------------------------------------------------------------------\u001b[0m",
      "\u001b[1;31mValueError\u001b[0m                                Traceback (most recent call last)",
      "\u001b[1;32m<ipython-input-10-1756a8b09e68>\u001b[0m in \u001b[0;36m<module>\u001b[1;34m\u001b[0m\n\u001b[0;32m      4\u001b[0m     \u001b[0mzoom_start\u001b[0m\u001b[1;33m=\u001b[0m\u001b[1;36m15\u001b[0m\u001b[1;33m\u001b[0m\u001b[1;33m\u001b[0m\u001b[0m\n\u001b[0;32m      5\u001b[0m )\n\u001b[1;32m----> 6\u001b[1;33m \u001b[0mfolium\u001b[0m\u001b[1;33m.\u001b[0m\u001b[0mGeoJson\u001b[0m\u001b[1;33m(\u001b[0m\u001b[0mgeo_json_data\u001b[0m\u001b[1;33m)\u001b[0m\u001b[1;33m.\u001b[0m\u001b[0madd_to\u001b[0m\u001b[1;33m(\u001b[0m\u001b[0mmapa\u001b[0m\u001b[1;33m)\u001b[0m\u001b[1;33m\u001b[0m\u001b[1;33m\u001b[0m\u001b[0m\n\u001b[0m\u001b[0;32m      7\u001b[0m \u001b[0mmapa\u001b[0m\u001b[1;33m\u001b[0m\u001b[1;33m\u001b[0m\u001b[0m\n",
      "\u001b[1;32mD:\\Programas\\Anaconda3\\lib\\site-packages\\folium\\features.py\u001b[0m in \u001b[0;36m__init__\u001b[1;34m(self, data, style_function, highlight_function, name, overlay, control, show, smooth_factor, tooltip, embed)\u001b[0m\n\u001b[0;32m    450\u001b[0m         \u001b[0mself\u001b[0m\u001b[1;33m.\u001b[0m\u001b[0mhighlight\u001b[0m \u001b[1;33m=\u001b[0m \u001b[0mhighlight_function\u001b[0m \u001b[1;32mis\u001b[0m \u001b[1;32mnot\u001b[0m \u001b[1;32mNone\u001b[0m\u001b[1;33m\u001b[0m\u001b[1;33m\u001b[0m\u001b[0m\n\u001b[0;32m    451\u001b[0m \u001b[1;33m\u001b[0m\u001b[0m\n\u001b[1;32m--> 452\u001b[1;33m         \u001b[0mself\u001b[0m\u001b[1;33m.\u001b[0m\u001b[0mdata\u001b[0m \u001b[1;33m=\u001b[0m \u001b[0mself\u001b[0m\u001b[1;33m.\u001b[0m\u001b[0mprocess_data\u001b[0m\u001b[1;33m(\u001b[0m\u001b[0mdata\u001b[0m\u001b[1;33m)\u001b[0m\u001b[1;33m\u001b[0m\u001b[1;33m\u001b[0m\u001b[0m\n\u001b[0m\u001b[0;32m    453\u001b[0m \u001b[1;33m\u001b[0m\u001b[0m\n\u001b[0;32m    454\u001b[0m         \u001b[1;32mif\u001b[0m \u001b[0mself\u001b[0m\u001b[1;33m.\u001b[0m\u001b[0mstyle\u001b[0m \u001b[1;32mor\u001b[0m \u001b[0mself\u001b[0m\u001b[1;33m.\u001b[0m\u001b[0mhighlight\u001b[0m\u001b[1;33m:\u001b[0m\u001b[1;33m\u001b[0m\u001b[1;33m\u001b[0m\u001b[0m\n",
      "\u001b[1;32mD:\\Programas\\Anaconda3\\lib\\site-packages\\folium\\features.py\u001b[0m in \u001b[0;36mprocess_data\u001b[1;34m(self, data)\u001b[0m\n\u001b[0;32m    494\u001b[0m         \u001b[1;32melse\u001b[0m\u001b[1;33m:\u001b[0m\u001b[1;33m\u001b[0m\u001b[1;33m\u001b[0m\u001b[0m\n\u001b[0;32m    495\u001b[0m             raise ValueError('Cannot render objects with any missing geometries'\n\u001b[1;32m--> 496\u001b[1;33m                              ': {!r}'.format(data))\n\u001b[0m\u001b[0;32m    497\u001b[0m \u001b[1;33m\u001b[0m\u001b[0m\n\u001b[0;32m    498\u001b[0m     \u001b[1;32mdef\u001b[0m \u001b[0mconvert_to_feature_collection\u001b[0m\u001b[1;33m(\u001b[0m\u001b[0mself\u001b[0m\u001b[1;33m)\u001b[0m\u001b[1;33m:\u001b[0m\u001b[1;33m\u001b[0m\u001b[1;33m\u001b[0m\u001b[0m\n",
      "\u001b[1;31mValueError\u001b[0m: Cannot render objects with any missing geometries: [{'id': 355030801, 'nome': 'Ã\\x81gua Rasa', 'municipio': {'id': 3550308, 'nome': 'SÃ£o Paulo', 'microrregiao': {'id': 35061, 'nome': 'SÃ£o Paulo', 'mesorregiao': {'id': 3515, 'nome': 'Metropolitana de SÃ£o Paulo', 'UF': {'id': 35, 'sigla': 'SP', 'nome': 'SÃ£o Paulo', 'regiao': {'id': 3, 'sigla': 'SE', 'nome': 'Sudeste'}}}}}}, {'id': 355030802, 'nome': 'Alto de Pinheiros', 'municipio': {'id': 3550308, 'nome': 'SÃ£o Paulo', 'microrregiao': {'id': 35061, 'nome': 'SÃ£o Paulo', 'mesorregiao': {'id': 3515, 'nome': 'Metropolitana de SÃ£o Paulo', 'UF': {'id': 35, 'sigla': 'SP', 'nome': 'SÃ£o Paulo', 'regiao': {'id': 3, 'sigla': 'SE', 'nome': 'Sudeste'}}}}}}, {'id': 355030803, 'nome': 'Anhanguera', 'municipio': {'id': 3550308, 'nome': 'SÃ£o Paulo', 'microrregiao': {'id': 35061, 'nome': 'SÃ£o Paulo', 'mesorregiao': {'id': 3515, 'nome': 'Metropolitana de SÃ£o Paulo', 'UF': {'id': 35, 'sigla': 'SP', 'nome': 'SÃ£o Paulo', 'regiao': {'id': 3, 'sigla': 'SE', 'nome': 'Sudeste'}}}}}}, {'id': 355030804, 'nome': 'Aricanduva', 'municipio': {'id': 3550308, 'nome': 'SÃ£o Paulo', 'microrregiao': {'id': 35061, 'nome': 'SÃ£o Paulo', 'mesorregiao': {'id': 3515, 'nome': 'Metropolitana de SÃ£o Paulo', 'UF': {'id': 35, 'sigla': 'SP', 'nome': 'SÃ£o Paulo', 'regiao': {'id': 3, 'sigla': 'SE', 'nome': 'Sudeste'}}}}}}, {'id': 355030805, 'nome': 'Artur Alvim', 'municipio': {'id': 3550308, 'nome': 'SÃ£o Paulo', 'microrregiao': {'id': 35061, 'nome': 'SÃ£o Paulo', 'mesorregiao': {'id': 3515, 'nome': 'Metropolitana de SÃ£o Paulo', 'UF': {'id': 35, 'sigla': 'SP', 'nome': 'SÃ£o Paulo', 'regiao': {'id': 3, 'sigla': 'SE', 'nome': 'Sudeste'}}}}}}, {'id': 355030806, 'nome': 'Barra Funda', 'municipio': {'id': 3550308, 'nome': 'SÃ£o Paulo', 'microrregiao': {'id': 35061, 'nome': 'SÃ£o Paulo', 'mesorregiao': {'id': 3515, 'nome': 'Metropolitana de SÃ£o Paulo', 'UF': {'id': 35, 'sigla': 'SP', 'nome': 'SÃ£o Paulo', 'regiao': {'id': 3, 'sigla': 'SE', 'nome': 'Sudeste'}}}}}}, {'id': 355030807, 'nome': 'Bela Vista', 'municipio': {'id': 3550308, 'nome': 'SÃ£o Paulo', 'microrregiao': {'id': 35061, 'nome': 'SÃ£o Paulo', 'mesorregiao': {'id': 3515, 'nome': 'Metropolitana de SÃ£o Paulo', 'UF': {'id': 35, 'sigla': 'SP', 'nome': 'SÃ£o Paulo', 'regiao': {'id': 3, 'sigla': 'SE', 'nome': 'Sudeste'}}}}}}, {'id': 355030808, 'nome': 'BelÃ©m', 'municipio': {'id': 3550308, 'nome': 'SÃ£o Paulo', 'microrregiao': {'id': 35061, 'nome': 'SÃ£o Paulo', 'mesorregiao': {'id': 3515, 'nome': 'Metropolitana de SÃ£o Paulo', 'UF': {'id': 35, 'sigla': 'SP', 'nome': 'SÃ£o Paulo', 'regiao': {'id': 3, 'sigla': 'SE', 'nome': 'Sudeste'}}}}}}, {'id': 355030809, 'nome': 'Bom Retiro', 'municipio': {'id': 3550308, 'nome': 'SÃ£o Paulo', 'microrregiao': {'id': 35061, 'nome': 'SÃ£o Paulo', 'mesorregiao': {'id': 3515, 'nome': 'Metropolitana de SÃ£o Paulo', 'UF': {'id': 35, 'sigla': 'SP', 'nome': 'SÃ£o Paulo', 'regiao': {'id': 3, 'sigla': 'SE', 'nome': 'Sudeste'}}}}}}, {'id': 355030810, 'nome': 'BrÃ¡s', 'municipio': {'id': 3550308, 'nome': 'SÃ£o Paulo', 'microrregiao': {'id': 35061, 'nome': 'SÃ£o Paulo', 'mesorregiao': {'id': 3515, 'nome': 'Metropolitana de SÃ£o Paulo', 'UF': {'id': 35, 'sigla': 'SP', 'nome': 'SÃ£o Paulo', 'regiao': {'id': 3, 'sigla': 'SE', 'nome': 'Sudeste'}}}}}}, {'id': 355030811, 'nome': 'BrasilÃ¢ndia', 'municipio': {'id': 3550308, 'nome': 'SÃ£o Paulo', 'microrregiao': {'id': 35061, 'nome': 'SÃ£o Paulo', 'mesorregiao': {'id': 3515, 'nome': 'Metropolitana de SÃ£o Paulo', 'UF': {'id': 35, 'sigla': 'SP', 'nome': 'SÃ£o Paulo', 'regiao': {'id': 3, 'sigla': 'SE', 'nome': 'Sudeste'}}}}}}, {'id': 355030812, 'nome': 'ButantÃ£', 'municipio': {'id': 3550308, 'nome': 'SÃ£o Paulo', 'microrregiao': {'id': 35061, 'nome': 'SÃ£o Paulo', 'mesorregiao': {'id': 3515, 'nome': 'Metropolitana de SÃ£o Paulo', 'UF': {'id': 35, 'sigla': 'SP', 'nome': 'SÃ£o Paulo', 'regiao': {'id': 3, 'sigla': 'SE', 'nome': 'Sudeste'}}}}}}, {'id': 355030813, 'nome': 'Cachoeirinha', 'municipio': {'id': 3550308, 'nome': 'SÃ£o Paulo', 'microrregiao': {'id': 35061, 'nome': 'SÃ£o Paulo', 'mesorregiao': {'id': 3515, 'nome': 'Metropolitana de SÃ£o Paulo', 'UF': {'id': 35, 'sigla': 'SP', 'nome': 'SÃ£o Paulo', 'regiao': {'id': 3, 'sigla': 'SE', 'nome': 'Sudeste'}}}}}}, {'id': 355030814, 'nome': 'Cambuci', 'municipio': {'id': 3550308, 'nome': 'SÃ£o Paulo', 'microrregiao': {'id': 35061, 'nome': 'SÃ£o Paulo', 'mesorregiao': {'id': 3515, 'nome': 'Metropolitana de SÃ£o Paulo', 'UF': {'id': 35, 'sigla': 'SP', 'nome': 'SÃ£o Paulo', 'regiao': {'id': 3, 'sigla': 'SE', 'nome': 'Sudeste'}}}}}}, {'id': 355030815, 'nome': 'Campo Belo', 'municipio': {'id': 3550308, 'nome': 'SÃ£o Paulo', 'microrregiao': {'id': 35061, 'nome': 'SÃ£o Paulo', 'mesorregiao': {'id': 3515, 'nome': 'Metropolitana de SÃ£o Paulo', 'UF': {'id': 35, 'sigla': 'SP', 'nome': 'SÃ£o Paulo', 'regiao': {'id': 3, 'sigla': 'SE', 'nome': 'Sudeste'}}}}}}, {'id': 355030816, 'nome': 'Campo Grande', 'municipio': {'id': 3550308, 'nome': 'SÃ£o Paulo', 'microrregiao': {'id': 35061, 'nome': 'SÃ£o Paulo', 'mesorregiao': {'id': 3515, 'nome': 'Metropolitana de SÃ£o Paulo', 'UF': {'id': 35, 'sigla': 'SP', 'nome': 'SÃ£o Paulo', 'regiao': {'id': 3, 'sigla': 'SE', 'nome': 'Sudeste'}}}}}}, {'id': 355030817, 'nome': 'Campo Limpo', 'municipio': {'id': 3550308, 'nome': 'SÃ£o Paulo', 'microrregiao': {'id': 35061, 'nome': 'SÃ£o Paulo', 'mesorregiao': {'id': 3515, 'nome': 'Metropolitana de SÃ£o Paulo', 'UF': {'id': 35, 'sigla': 'SP', 'nome': 'SÃ£o Paulo', 'regiao': {'id': 3, 'sigla': 'SE', 'nome': 'Sudeste'}}}}}}, {'id': 355030818, 'nome': 'Cangaiba', 'municipio': {'id': 3550308, 'nome': 'SÃ£o Paulo', 'microrregiao': {'id': 35061, 'nome': 'SÃ£o Paulo', 'mesorregiao': {'id': 3515, 'nome': 'Metropolitana de SÃ£o Paulo', 'UF': {'id': 35, 'sigla': 'SP', 'nome': 'SÃ£o Paulo', 'regiao': {'id': 3, 'sigla': 'SE', 'nome': 'Sudeste'}}}}}}, {'id': 355030819, 'nome': 'CapÃ£o Redondo', 'municipio': {'id': 3550308, 'nome': 'SÃ£o Paulo', 'microrregiao': {'id': 35061, 'nome': 'SÃ£o Paulo', 'mesorregiao': {'id': 3515, 'nome': 'Metropolitana de SÃ£o Paulo', 'UF': {'id': 35, 'sigla': 'SP', 'nome': 'SÃ£o Paulo', 'regiao': {'id': 3, 'sigla': 'SE', 'nome': 'Sudeste'}}}}}}, {'id': 355030820, 'nome': 'CarrÃ£o', 'municipio': {'id': 3550308, 'nome': 'SÃ£o Paulo', 'microrregiao': {'id': 35061, 'nome': 'SÃ£o Paulo', 'mesorregiao': {'id': 3515, 'nome': 'Metropolitana de SÃ£o Paulo', 'UF': {'id': 35, 'sigla': 'SP', 'nome': 'SÃ£o Paulo', 'regiao': {'id': 3, 'sigla': 'SE', 'nome': 'Sudeste'}}}}}}, {'id': 355030821, 'nome': 'Casa Verde', 'municipio': {'id': 3550308, 'nome': 'SÃ£o Paulo', 'microrregiao': {'id': 35061, 'nome': 'SÃ£o Paulo', 'mesorregiao': {'id': 3515, 'nome': 'Metropolitana de SÃ£o Paulo', 'UF': {'id': 35, 'sigla': 'SP', 'nome': 'SÃ£o Paulo', 'regiao': {'id': 3, 'sigla': 'SE', 'nome': 'Sudeste'}}}}}}, {'id': 355030822, 'nome': 'Cidade Ademar', 'municipio': {'id': 3550308, 'nome': 'SÃ£o Paulo', 'microrregiao': {'id': 35061, 'nome': 'SÃ£o Paulo', 'mesorregiao': {'id': 3515, 'nome': 'Metropolitana de SÃ£o Paulo', 'UF': {'id': 35, 'sigla': 'SP', 'nome': 'SÃ£o Paulo', 'regiao': {'id': 3, 'sigla': 'SE', 'nome': 'Sudeste'}}}}}}, {'id': 355030823, 'nome': 'Cidade Dutra', 'municipio': {'id': 3550308, 'nome': 'SÃ£o Paulo', 'microrregiao': {'id': 35061, 'nome': 'SÃ£o Paulo', 'mesorregiao': {'id': 3515, 'nome': 'Metropolitana de SÃ£o Paulo', 'UF': {'id': 35, 'sigla': 'SP', 'nome': 'SÃ£o Paulo', 'regiao': {'id': 3, 'sigla': 'SE', 'nome': 'Sudeste'}}}}}}, {'id': 355030824, 'nome': 'Cidade Lider', 'municipio': {'id': 3550308, 'nome': 'SÃ£o Paulo', 'microrregiao': {'id': 35061, 'nome': 'SÃ£o Paulo', 'mesorregiao': {'id': 3515, 'nome': 'Metropolitana de SÃ£o Paulo', 'UF': {'id': 35, 'sigla': 'SP', 'nome': 'SÃ£o Paulo', 'regiao': {'id': 3, 'sigla': 'SE', 'nome': 'Sudeste'}}}}}}, {'id': 355030825, 'nome': 'Cidade Tiradentes', 'municipio': {'id': 3550308, 'nome': 'SÃ£o Paulo', 'microrregiao': {'id': 35061, 'nome': 'SÃ£o Paulo', 'mesorregiao': {'id': 3515, 'nome': 'Metropolitana de SÃ£o Paulo', 'UF': {'id': 35, 'sigla': 'SP', 'nome': 'SÃ£o Paulo', 'regiao': {'id': 3, 'sigla': 'SE', 'nome': 'Sudeste'}}}}}}, {'id': 355030826, 'nome': 'ConsolaÃ§Ã£o', 'municipio': {'id': 3550308, 'nome': 'SÃ£o Paulo', 'microrregiao': {'id': 35061, 'nome': 'SÃ£o Paulo', 'mesorregiao': {'id': 3515, 'nome': 'Metropolitana de SÃ£o Paulo', 'UF': {'id': 35, 'sigla': 'SP', 'nome': 'SÃ£o Paulo', 'regiao': {'id': 3, 'sigla': 'SE', 'nome': 'Sudeste'}}}}}}, {'id': 355030827, 'nome': 'Cursino', 'municipio': {'id': 3550308, 'nome': 'SÃ£o Paulo', 'microrregiao': {'id': 35061, 'nome': 'SÃ£o Paulo', 'mesorregiao': {'id': 3515, 'nome': 'Metropolitana de SÃ£o Paulo', 'UF': {'id': 35, 'sigla': 'SP', 'nome': 'SÃ£o Paulo', 'regiao': {'id': 3, 'sigla': 'SE', 'nome': 'Sudeste'}}}}}}, {'id': 355030828, 'nome': 'Ermelino Matarazzo', 'municipio': {'id': 3550308, 'nome': 'SÃ£o Paulo', 'microrregiao': {'id': 35061, 'nome': 'SÃ£o Paulo', 'mesorregiao': {'id': 3515, 'nome': 'Metropolitana de SÃ£o Paulo', 'UF': {'id': 35, 'sigla': 'SP', 'nome': 'SÃ£o Paulo', 'regiao': {'id': 3, 'sigla': 'SE', 'nome': 'Sudeste'}}}}}}, {'id': 355030829, 'nome': 'Freguesia do Ã\\x93', 'municipio': {'id': 3550308, 'nome': 'SÃ£o Paulo', 'microrregiao': {'id': 35061, 'nome': 'SÃ£o Paulo', 'mesorregiao': {'id': 3515, 'nome': 'Metropolitana de SÃ£o Paulo', 'UF': {'id': 35, 'sigla': 'SP', 'nome': 'SÃ£o Paulo', 'regiao': {'id': 3, 'sigla': 'SE', 'nome': 'Sudeste'}}}}}}, {'id': 355030830, 'nome': 'GrajaÃº', 'municipio': {'id': 3550308, 'nome': 'SÃ£o Paulo', 'microrregiao': {'id': 35061, 'nome': 'SÃ£o Paulo', 'mesorregiao': {'id': 3515, 'nome': 'Metropolitana de SÃ£o Paulo', 'UF': {'id': 35, 'sigla': 'SP', 'nome': 'SÃ£o Paulo', 'regiao': {'id': 3, 'sigla': 'SE', 'nome': 'Sudeste'}}}}}}, {'id': 355030831, 'nome': 'Guaianases', 'municipio': {'id': 3550308, 'nome': 'SÃ£o Paulo', 'microrregiao': {'id': 35061, 'nome': 'SÃ£o Paulo', 'mesorregiao': {'id': 3515, 'nome': 'Metropolitana de SÃ£o Paulo', 'UF': {'id': 35, 'sigla': 'SP', 'nome': 'SÃ£o Paulo', 'regiao': {'id': 3, 'sigla': 'SE', 'nome': 'Sudeste'}}}}}}, {'id': 355030832, 'nome': 'Moema', 'municipio': {'id': 3550308, 'nome': 'SÃ£o Paulo', 'microrregiao': {'id': 35061, 'nome': 'SÃ£o Paulo', 'mesorregiao': {'id': 3515, 'nome': 'Metropolitana de SÃ£o Paulo', 'UF': {'id': 35, 'sigla': 'SP', 'nome': 'SÃ£o Paulo', 'regiao': {'id': 3, 'sigla': 'SE', 'nome': 'Sudeste'}}}}}}, {'id': 355030833, 'nome': 'Iguatemi', 'municipio': {'id': 3550308, 'nome': 'SÃ£o Paulo', 'microrregiao': {'id': 35061, 'nome': 'SÃ£o Paulo', 'mesorregiao': {'id': 3515, 'nome': 'Metropolitana de SÃ£o Paulo', 'UF': {'id': 35, 'sigla': 'SP', 'nome': 'SÃ£o Paulo', 'regiao': {'id': 3, 'sigla': 'SE', 'nome': 'Sudeste'}}}}}}, {'id': 355030834, 'nome': 'Ipiranga', 'municipio': {'id': 3550308, 'nome': 'SÃ£o Paulo', 'microrregiao': {'id': 35061, 'nome': 'SÃ£o Paulo', 'mesorregiao': {'id': 3515, 'nome': 'Metropolitana de SÃ£o Paulo', 'UF': {'id': 35, 'sigla': 'SP', 'nome': 'SÃ£o Paulo', 'regiao': {'id': 3, 'sigla': 'SE', 'nome': 'Sudeste'}}}}}}, {'id': 355030835, 'nome': 'Itaim Bibi', 'municipio': {'id': 3550308, 'nome': 'SÃ£o Paulo', 'microrregiao': {'id': 35061, 'nome': 'SÃ£o Paulo', 'mesorregiao': {'id': 3515, 'nome': 'Metropolitana de SÃ£o Paulo', 'UF': {'id': 35, 'sigla': 'SP', 'nome': 'SÃ£o Paulo', 'regiao': {'id': 3, 'sigla': 'SE', 'nome': 'Sudeste'}}}}}}, {'id': 355030836, 'nome': 'Itaim Paulista', 'municipio': {'id': 3550308, 'nome': 'SÃ£o Paulo', 'microrregiao': {'id': 35061, 'nome': 'SÃ£o Paulo', 'mesorregiao': {'id': 3515, 'nome': 'Metropolitana de SÃ£o Paulo', 'UF': {'id': 35, 'sigla': 'SP', 'nome': 'SÃ£o Paulo', 'regiao': {'id': 3, 'sigla': 'SE', 'nome': 'Sudeste'}}}}}}, {'id': 355030837, 'nome': 'Itaquera', 'municipio': {'id': 3550308, 'nome': 'SÃ£o Paulo', 'microrregiao': {'id': 35061, 'nome': 'SÃ£o Paulo', 'mesorregiao': {'id': 3515, 'nome': 'Metropolitana de SÃ£o Paulo', 'UF': {'id': 35, 'sigla': 'SP', 'nome': 'SÃ£o Paulo', 'regiao': {'id': 3, 'sigla': 'SE', 'nome': 'Sudeste'}}}}}}, {'id': 355030838, 'nome': 'Jabaquara', 'municipio': {'id': 3550308, 'nome': 'SÃ£o Paulo', 'microrregiao': {'id': 35061, 'nome': 'SÃ£o Paulo', 'mesorregiao': {'id': 3515, 'nome': 'Metropolitana de SÃ£o Paulo', 'UF': {'id': 35, 'sigla': 'SP', 'nome': 'SÃ£o Paulo', 'regiao': {'id': 3, 'sigla': 'SE', 'nome': 'Sudeste'}}}}}}, {'id': 355030839, 'nome': 'JaÃ§anÃ£', 'municipio': {'id': 3550308, 'nome': 'SÃ£o Paulo', 'microrregiao': {'id': 35061, 'nome': 'SÃ£o Paulo', 'mesorregiao': {'id': 3515, 'nome': 'Metropolitana de SÃ£o Paulo', 'UF': {'id': 35, 'sigla': 'SP', 'nome': 'SÃ£o Paulo', 'regiao': {'id': 3, 'sigla': 'SE', 'nome': 'Sudeste'}}}}}}, {'id': 355030840, 'nome': 'Jaguara', 'municipio': {'id': 3550308, 'nome': 'SÃ£o Paulo', 'microrregiao': {'id': 35061, 'nome': 'SÃ£o Paulo', 'mesorregiao': {'id': 3515, 'nome': 'Metropolitana de SÃ£o Paulo', 'UF': {'id': 35, 'sigla': 'SP', 'nome': 'SÃ£o Paulo', 'regiao': {'id': 3, 'sigla': 'SE', 'nome': 'Sudeste'}}}}}}, {'id': 355030841, 'nome': 'JaguarÃ©', 'municipio': {'id': 3550308, 'nome': 'SÃ£o Paulo', 'microrregiao': {'id': 35061, 'nome': 'SÃ£o Paulo', 'mesorregiao': {'id': 3515, 'nome': 'Metropolitana de SÃ£o Paulo', 'UF': {'id': 35, 'sigla': 'SP', 'nome': 'SÃ£o Paulo', 'regiao': {'id': 3, 'sigla': 'SE', 'nome': 'Sudeste'}}}}}}, {'id': 355030842, 'nome': 'JaraguÃ¡', 'municipio': {'id': 3550308, 'nome': 'SÃ£o Paulo', 'microrregiao': {'id': 35061, 'nome': 'SÃ£o Paulo', 'mesorregiao': {'id': 3515, 'nome': 'Metropolitana de SÃ£o Paulo', 'UF': {'id': 35, 'sigla': 'SP', 'nome': 'SÃ£o Paulo', 'regiao': {'id': 3, 'sigla': 'SE', 'nome': 'Sudeste'}}}}}}, {'id': 355030843, 'nome': 'Jardim Ã\\x82ngela', 'municipio': {'id': 3550308, 'nome': 'SÃ£o Paulo', 'microrregiao': {'id': 35061, 'nome': 'SÃ£o Paulo', 'mesorregiao': {'id': 3515, 'nome': 'Metropolitana de SÃ£o Paulo', 'UF': {'id': 35, 'sigla': 'SP', 'nome': 'SÃ£o Paulo', 'regiao': {'id': 3, 'sigla': 'SE', 'nome': 'Sudeste'}}}}}}, {'id': 355030844, 'nome': 'Jardim Helena', 'municipio': {'id': 3550308, 'nome': 'SÃ£o Paulo', 'microrregiao': {'id': 35061, 'nome': 'SÃ£o Paulo', 'mesorregiao': {'id': 3515, 'nome': 'Metropolitana de SÃ£o Paulo', 'UF': {'id': 35, 'sigla': 'SP', 'nome': 'SÃ£o Paulo', 'regiao': {'id': 3, 'sigla': 'SE', 'nome': 'Sudeste'}}}}}}, {'id': 355030845, 'nome': 'Jardim Paulista', 'municipio': {'id': 3550308, 'nome': 'SÃ£o Paulo', 'microrregiao': {'id': 35061, 'nome': 'SÃ£o Paulo', 'mesorregiao': {'id': 3515, 'nome': 'Metropolitana de SÃ£o Paulo', 'UF': {'id': 35, 'sigla': 'SP', 'nome': 'SÃ£o Paulo', 'regiao': {'id': 3, 'sigla': 'SE', 'nome': 'Sudeste'}}}}}}, {'id': 355030846, 'nome': 'Jardim SÃ£o LuÃ\\xads', 'municipio': {'id': 3550308, 'nome': 'SÃ£o Paulo', 'microrregiao': {'id': 35061, 'nome': 'SÃ£o Paulo', 'mesorregiao': {'id': 3515, 'nome': 'Metropolitana de SÃ£o Paulo', 'UF': {'id': 35, 'sigla': 'SP', 'nome': 'SÃ£o Paulo', 'regiao': {'id': 3, 'sigla': 'SE', 'nome': 'Sudeste'}}}}}}, {'id': 355030847, 'nome': 'JosÃ© BonifÃ¡cio', 'municipio': {'id': 3550308, 'nome': 'SÃ£o Paulo', 'microrregiao': {'id': 35061, 'nome': 'SÃ£o Paulo', 'mesorregiao': {'id': 3515, 'nome': 'Metropolitana de SÃ£o Paulo', 'UF': {'id': 35, 'sigla': 'SP', 'nome': 'SÃ£o Paulo', 'regiao': {'id': 3, 'sigla': 'SE', 'nome': 'Sudeste'}}}}}}, {'id': 355030848, 'nome': 'Lapa', 'municipio': {'id': 3550308, 'nome': 'SÃ£o Paulo', 'microrregiao': {'id': 35061, 'nome': 'SÃ£o Paulo', 'mesorregiao': {'id': 3515, 'nome': 'Metropolitana de SÃ£o Paulo', 'UF': {'id': 35, 'sigla': 'SP', 'nome': 'SÃ£o Paulo', 'regiao': {'id': 3, 'sigla': 'SE', 'nome': 'Sudeste'}}}}}}, {'id': 355030849, 'nome': 'Liberdade', 'municipio': {'id': 3550308, 'nome': 'SÃ£o Paulo', 'microrregiao': {'id': 35061, 'nome': 'SÃ£o Paulo', 'mesorregiao': {'id': 3515, 'nome': 'Metropolitana de SÃ£o Paulo', 'UF': {'id': 35, 'sigla': 'SP', 'nome': 'SÃ£o Paulo', 'regiao': {'id': 3, 'sigla': 'SE', 'nome': 'Sudeste'}}}}}}, {'id': 355030850, 'nome': 'LimÃ£o', 'municipio': {'id': 3550308, 'nome': 'SÃ£o Paulo', 'microrregiao': {'id': 35061, 'nome': 'SÃ£o Paulo', 'mesorregiao': {'id': 3515, 'nome': 'Metropolitana de SÃ£o Paulo', 'UF': {'id': 35, 'sigla': 'SP', 'nome': 'SÃ£o Paulo', 'regiao': {'id': 3, 'sigla': 'SE', 'nome': 'Sudeste'}}}}}}, {'id': 355030851, 'nome': 'Mandaqui', 'municipio': {'id': 3550308, 'nome': 'SÃ£o Paulo', 'microrregiao': {'id': 35061, 'nome': 'SÃ£o Paulo', 'mesorregiao': {'id': 3515, 'nome': 'Metropolitana de SÃ£o Paulo', 'UF': {'id': 35, 'sigla': 'SP', 'nome': 'SÃ£o Paulo', 'regiao': {'id': 3, 'sigla': 'SE', 'nome': 'Sudeste'}}}}}}, {'id': 355030852, 'nome': 'Marsilac', 'municipio': {'id': 3550308, 'nome': 'SÃ£o Paulo', 'microrregiao': {'id': 35061, 'nome': 'SÃ£o Paulo', 'mesorregiao': {'id': 3515, 'nome': 'Metropolitana de SÃ£o Paulo', 'UF': {'id': 35, 'sigla': 'SP', 'nome': 'SÃ£o Paulo', 'regiao': {'id': 3, 'sigla': 'SE', 'nome': 'Sudeste'}}}}}}, {'id': 355030853, 'nome': 'Mooca', 'municipio': {'id': 3550308, 'nome': 'SÃ£o Paulo', 'microrregiao': {'id': 35061, 'nome': 'SÃ£o Paulo', 'mesorregiao': {'id': 3515, 'nome': 'Metropolitana de SÃ£o Paulo', 'UF': {'id': 35, 'sigla': 'SP', 'nome': 'SÃ£o Paulo', 'regiao': {'id': 3, 'sigla': 'SE', 'nome': 'Sudeste'}}}}}}, {'id': 355030854, 'nome': 'Morumbi', 'municipio': {'id': 3550308, 'nome': 'SÃ£o Paulo', 'microrregiao': {'id': 35061, 'nome': 'SÃ£o Paulo', 'mesorregiao': {'id': 3515, 'nome': 'Metropolitana de SÃ£o Paulo', 'UF': {'id': 35, 'sigla': 'SP', 'nome': 'SÃ£o Paulo', 'regiao': {'id': 3, 'sigla': 'SE', 'nome': 'Sudeste'}}}}}}, {'id': 355030855, 'nome': 'Parelheiros', 'municipio': {'id': 3550308, 'nome': 'SÃ£o Paulo', 'microrregiao': {'id': 35061, 'nome': 'SÃ£o Paulo', 'mesorregiao': {'id': 3515, 'nome': 'Metropolitana de SÃ£o Paulo', 'UF': {'id': 35, 'sigla': 'SP', 'nome': 'SÃ£o Paulo', 'regiao': {'id': 3, 'sigla': 'SE', 'nome': 'Sudeste'}}}}}}, {'id': 355030856, 'nome': 'Pari', 'municipio': {'id': 3550308, 'nome': 'SÃ£o Paulo', 'microrregiao': {'id': 35061, 'nome': 'SÃ£o Paulo', 'mesorregiao': {'id': 3515, 'nome': 'Metropolitana de SÃ£o Paulo', 'UF': {'id': 35, 'sigla': 'SP', 'nome': 'SÃ£o Paulo', 'regiao': {'id': 3, 'sigla': 'SE', 'nome': 'Sudeste'}}}}}}, {'id': 355030857, 'nome': 'Parque do Carmo', 'municipio': {'id': 3550308, 'nome': 'SÃ£o Paulo', 'microrregiao': {'id': 35061, 'nome': 'SÃ£o Paulo', 'mesorregiao': {'id': 3515, 'nome': 'Metropolitana de SÃ£o Paulo', 'UF': {'id': 35, 'sigla': 'SP', 'nome': 'SÃ£o Paulo', 'regiao': {'id': 3, 'sigla': 'SE', 'nome': 'Sudeste'}}}}}}, {'id': 355030858, 'nome': 'Pedreira', 'municipio': {'id': 3550308, 'nome': 'SÃ£o Paulo', 'microrregiao': {'id': 35061, 'nome': 'SÃ£o Paulo', 'mesorregiao': {'id': 3515, 'nome': 'Metropolitana de SÃ£o Paulo', 'UF': {'id': 35, 'sigla': 'SP', 'nome': 'SÃ£o Paulo', 'regiao': {'id': 3, 'sigla': 'SE', 'nome': 'Sudeste'}}}}}}, {'id': 355030859, 'nome': 'Penha', 'municipio': {'id': 3550308, 'nome': 'SÃ£o Paulo', 'microrregiao': {'id': 35061, 'nome': 'SÃ£o Paulo', 'mesorregiao': {'id': 3515, 'nome': 'Metropolitana de SÃ£o Paulo', 'UF': {'id': 35, 'sigla': 'SP', 'nome': 'SÃ£o Paulo', 'regiao': {'id': 3, 'sigla': 'SE', 'nome': 'Sudeste'}}}}}}, {'id': 355030860, 'nome': 'Perdizes', 'municipio': {'id': 3550308, 'nome': 'SÃ£o Paulo', 'microrregiao': {'id': 35061, 'nome': 'SÃ£o Paulo', 'mesorregiao': {'id': 3515, 'nome': 'Metropolitana de SÃ£o Paulo', 'UF': {'id': 35, 'sigla': 'SP', 'nome': 'SÃ£o Paulo', 'regiao': {'id': 3, 'sigla': 'SE', 'nome': 'Sudeste'}}}}}}, {'id': 355030861, 'nome': 'Perus', 'municipio': {'id': 3550308, 'nome': 'SÃ£o Paulo', 'microrregiao': {'id': 35061, 'nome': 'SÃ£o Paulo', 'mesorregiao': {'id': 3515, 'nome': 'Metropolitana de SÃ£o Paulo', 'UF': {'id': 35, 'sigla': 'SP', 'nome': 'SÃ£o Paulo', 'regiao': {'id': 3, 'sigla': 'SE', 'nome': 'Sudeste'}}}}}}, {'id': 355030862, 'nome': 'Pinheiros', 'municipio': {'id': 3550308, 'nome': 'SÃ£o Paulo', 'microrregiao': {'id': 35061, 'nome': 'SÃ£o Paulo', 'mesorregiao': {'id': 3515, 'nome': 'Metropolitana de SÃ£o Paulo', 'UF': {'id': 35, 'sigla': 'SP', 'nome': 'SÃ£o Paulo', 'regiao': {'id': 3, 'sigla': 'SE', 'nome': 'Sudeste'}}}}}}, {'id': 355030863, 'nome': 'Pirituba', 'municipio': {'id': 3550308, 'nome': 'SÃ£o Paulo', 'microrregiao': {'id': 35061, 'nome': 'SÃ£o Paulo', 'mesorregiao': {'id': 3515, 'nome': 'Metropolitana de SÃ£o Paulo', 'UF': {'id': 35, 'sigla': 'SP', 'nome': 'SÃ£o Paulo', 'regiao': {'id': 3, 'sigla': 'SE', 'nome': 'Sudeste'}}}}}}, {'id': 355030864, 'nome': 'Ponte Rasa', 'municipio': {'id': 3550308, 'nome': 'SÃ£o Paulo', 'microrregiao': {'id': 35061, 'nome': 'SÃ£o Paulo', 'mesorregiao': {'id': 3515, 'nome': 'Metropolitana de SÃ£o Paulo', 'UF': {'id': 35, 'sigla': 'SP', 'nome': 'SÃ£o Paulo', 'regiao': {'id': 3, 'sigla': 'SE', 'nome': 'Sudeste'}}}}}}, {'id': 355030865, 'nome': 'Raposo Tavares', 'municipio': {'id': 3550308, 'nome': 'SÃ£o Paulo', 'microrregiao': {'id': 35061, 'nome': 'SÃ£o Paulo', 'mesorregiao': {'id': 3515, 'nome': 'Metropolitana de SÃ£o Paulo', 'UF': {'id': 35, 'sigla': 'SP', 'nome': 'SÃ£o Paulo', 'regiao': {'id': 3, 'sigla': 'SE', 'nome': 'Sudeste'}}}}}}, {'id': 355030866, 'nome': 'RepÃºblica', 'municipio': {'id': 3550308, 'nome': 'SÃ£o Paulo', 'microrregiao': {'id': 35061, 'nome': 'SÃ£o Paulo', 'mesorregiao': {'id': 3515, 'nome': 'Metropolitana de SÃ£o Paulo', 'UF': {'id': 35, 'sigla': 'SP', 'nome': 'SÃ£o Paulo', 'regiao': {'id': 3, 'sigla': 'SE', 'nome': 'Sudeste'}}}}}}, {'id': 355030867, 'nome': 'Rio Pequeno', 'municipio': {'id': 3550308, 'nome': 'SÃ£o Paulo', 'microrregiao': {'id': 35061, 'nome': 'SÃ£o Paulo', 'mesorregiao': {'id': 3515, 'nome': 'Metropolitana de SÃ£o Paulo', 'UF': {'id': 35, 'sigla': 'SP', 'nome': 'SÃ£o Paulo', 'regiao': {'id': 3, 'sigla': 'SE', 'nome': 'Sudeste'}}}}}}, {'id': 355030868, 'nome': 'SacomÃ£', 'municipio': {'id': 3550308, 'nome': 'SÃ£o Paulo', 'microrregiao': {'id': 35061, 'nome': 'SÃ£o Paulo', 'mesorregiao': {'id': 3515, 'nome': 'Metropolitana de SÃ£o Paulo', 'UF': {'id': 35, 'sigla': 'SP', 'nome': 'SÃ£o Paulo', 'regiao': {'id': 3, 'sigla': 'SE', 'nome': 'Sudeste'}}}}}}, {'id': 355030869, 'nome': 'Santa CecÃ\\xadlia', 'municipio': {'id': 3550308, 'nome': 'SÃ£o Paulo', 'microrregiao': {'id': 35061, 'nome': 'SÃ£o Paulo', 'mesorregiao': {'id': 3515, 'nome': 'Metropolitana de SÃ£o Paulo', 'UF': {'id': 35, 'sigla': 'SP', 'nome': 'SÃ£o Paulo', 'regiao': {'id': 3, 'sigla': 'SE', 'nome': 'Sudeste'}}}}}}, {'id': 355030870, 'nome': 'Santana', 'municipio': {'id': 3550308, 'nome': 'SÃ£o Paulo', 'microrregiao': {'id': 35061, 'nome': 'SÃ£o Paulo', 'mesorregiao': {'id': 3515, 'nome': 'Metropolitana de SÃ£o Paulo', 'UF': {'id': 35, 'sigla': 'SP', 'nome': 'SÃ£o Paulo', 'regiao': {'id': 3, 'sigla': 'SE', 'nome': 'Sudeste'}}}}}}, {'id': 355030871, 'nome': 'Santo Amaro', 'municipio': {'id': 3550308, 'nome': 'SÃ£o Paulo', 'microrregiao': {'id': 35061, 'nome': 'SÃ£o Paulo', 'mesorregiao': {'id': 3515, 'nome': 'Metropolitana de SÃ£o Paulo', 'UF': {'id': 35, 'sigla': 'SP', 'nome': 'SÃ£o Paulo', 'regiao': {'id': 3, 'sigla': 'SE', 'nome': 'Sudeste'}}}}}}, {'id': 355030872, 'nome': 'SÃ£o Lucas', 'municipio': {'id': 3550308, 'nome': 'SÃ£o Paulo', 'microrregiao': {'id': 35061, 'nome': 'SÃ£o Paulo', 'mesorregiao': {'id': 3515, 'nome': 'Metropolitana de SÃ£o Paulo', 'UF': {'id': 35, 'sigla': 'SP', 'nome': 'SÃ£o Paulo', 'regiao': {'id': 3, 'sigla': 'SE', 'nome': 'Sudeste'}}}}}}, {'id': 355030873, 'nome': 'SÃ£o Mateus', 'municipio': {'id': 3550308, 'nome': 'SÃ£o Paulo', 'microrregiao': {'id': 35061, 'nome': 'SÃ£o Paulo', 'mesorregiao': {'id': 3515, 'nome': 'Metropolitana de SÃ£o Paulo', 'UF': {'id': 35, 'sigla': 'SP', 'nome': 'SÃ£o Paulo', 'regiao': {'id': 3, 'sigla': 'SE', 'nome': 'Sudeste'}}}}}}, {'id': 355030874, 'nome': 'SÃ£o Miguel', 'municipio': {'id': 3550308, 'nome': 'SÃ£o Paulo', 'microrregiao': {'id': 35061, 'nome': 'SÃ£o Paulo', 'mesorregiao': {'id': 3515, 'nome': 'Metropolitana de SÃ£o Paulo', 'UF': {'id': 35, 'sigla': 'SP', 'nome': 'SÃ£o Paulo', 'regiao': {'id': 3, 'sigla': 'SE', 'nome': 'Sudeste'}}}}}}, {'id': 355030875, 'nome': 'SÃ£o Rafael', 'municipio': {'id': 3550308, 'nome': 'SÃ£o Paulo', 'microrregiao': {'id': 35061, 'nome': 'SÃ£o Paulo', 'mesorregiao': {'id': 3515, 'nome': 'Metropolitana de SÃ£o Paulo', 'UF': {'id': 35, 'sigla': 'SP', 'nome': 'SÃ£o Paulo', 'regiao': {'id': 3, 'sigla': 'SE', 'nome': 'Sudeste'}}}}}}, {'id': 355030876, 'nome': 'Sapopemba', 'municipio': {'id': 3550308, 'nome': 'SÃ£o Paulo', 'microrregiao': {'id': 35061, 'nome': 'SÃ£o Paulo', 'mesorregiao': {'id': 3515, 'nome': 'Metropolitana de SÃ£o Paulo', 'UF': {'id': 35, 'sigla': 'SP', 'nome': 'SÃ£o Paulo', 'regiao': {'id': 3, 'sigla': 'SE', 'nome': 'Sudeste'}}}}}}, {'id': 355030877, 'nome': 'SaÃºde', 'municipio': {'id': 3550308, 'nome': 'SÃ£o Paulo', 'microrregiao': {'id': 35061, 'nome': 'SÃ£o Paulo', 'mesorregiao': {'id': 3515, 'nome': 'Metropolitana de SÃ£o Paulo', 'UF': {'id': 35, 'sigla': 'SP', 'nome': 'SÃ£o Paulo', 'regiao': {'id': 3, 'sigla': 'SE', 'nome': 'Sudeste'}}}}}}, {'id': 355030878, 'nome': 'SÃ©', 'municipio': {'id': 3550308, 'nome': 'SÃ£o Paulo', 'microrregiao': {'id': 35061, 'nome': 'SÃ£o Paulo', 'mesorregiao': {'id': 3515, 'nome': 'Metropolitana de SÃ£o Paulo', 'UF': {'id': 35, 'sigla': 'SP', 'nome': 'SÃ£o Paulo', 'regiao': {'id': 3, 'sigla': 'SE', 'nome': 'Sudeste'}}}}}}, {'id': 355030879, 'nome': 'Socorro', 'municipio': {'id': 3550308, 'nome': 'SÃ£o Paulo', 'microrregiao': {'id': 35061, 'nome': 'SÃ£o Paulo', 'mesorregiao': {'id': 3515, 'nome': 'Metropolitana de SÃ£o Paulo', 'UF': {'id': 35, 'sigla': 'SP', 'nome': 'SÃ£o Paulo', 'regiao': {'id': 3, 'sigla': 'SE', 'nome': 'Sudeste'}}}}}}, {'id': 355030880, 'nome': 'TatuapÃ©', 'municipio': {'id': 3550308, 'nome': 'SÃ£o Paulo', 'microrregiao': {'id': 35061, 'nome': 'SÃ£o Paulo', 'mesorregiao': {'id': 3515, 'nome': 'Metropolitana de SÃ£o Paulo', 'UF': {'id': 35, 'sigla': 'SP', 'nome': 'SÃ£o Paulo', 'regiao': {'id': 3, 'sigla': 'SE', 'nome': 'Sudeste'}}}}}}, {'id': 355030881, 'nome': 'TremembÃ©', 'municipio': {'id': 3550308, 'nome': 'SÃ£o Paulo', 'microrregiao': {'id': 35061, 'nome': 'SÃ£o Paulo', 'mesorregiao': {'id': 3515, 'nome': 'Metropolitana de SÃ£o Paulo', 'UF': {'id': 35, 'sigla': 'SP', 'nome': 'SÃ£o Paulo', 'regiao': {'id': 3, 'sigla': 'SE', 'nome': 'Sudeste'}}}}}}, {'id': 355030882, 'nome': 'Tucuruvi', 'municipio': {'id': 3550308, 'nome': 'SÃ£o Paulo', 'microrregiao': {'id': 35061, 'nome': 'SÃ£o Paulo', 'mesorregiao': {'id': 3515, 'nome': 'Metropolitana de SÃ£o Paulo', 'UF': {'id': 35, 'sigla': 'SP', 'nome': 'SÃ£o Paulo', 'regiao': {'id': 3, 'sigla': 'SE', 'nome': 'Sudeste'}}}}}}, {'id': 355030883, 'nome': 'Vila Andrade', 'municipio': {'id': 3550308, 'nome': 'SÃ£o Paulo', 'microrregiao': {'id': 35061, 'nome': 'SÃ£o Paulo', 'mesorregiao': {'id': 3515, 'nome': 'Metropolitana de SÃ£o Paulo', 'UF': {'id': 35, 'sigla': 'SP', 'nome': 'SÃ£o Paulo', 'regiao': {'id': 3, 'sigla': 'SE', 'nome': 'Sudeste'}}}}}}, {'id': 355030884, 'nome': 'Vila CuruÃ§Ã¡', 'municipio': {'id': 3550308, 'nome': 'SÃ£o Paulo', 'microrregiao': {'id': 35061, 'nome': 'SÃ£o Paulo', 'mesorregiao': {'id': 3515, 'nome': 'Metropolitana de SÃ£o Paulo', 'UF': {'id': 35, 'sigla': 'SP', 'nome': 'SÃ£o Paulo', 'regiao': {'id': 3, 'sigla': 'SE', 'nome': 'Sudeste'}}}}}}, {'id': 355030885, 'nome': 'Vila Formosa', 'municipio': {'id': 3550308, 'nome': 'SÃ£o Paulo', 'microrregiao': {'id': 35061, 'nome': 'SÃ£o Paulo', 'mesorregiao': {'id': 3515, 'nome': 'Metropolitana de SÃ£o Paulo', 'UF': {'id': 35, 'sigla': 'SP', 'nome': 'SÃ£o Paulo', 'regiao': {'id': 3, 'sigla': 'SE', 'nome': 'Sudeste'}}}}}}, {'id': 355030886, 'nome': 'Vila Guilherme', 'municipio': {'id': 3550308, 'nome': 'SÃ£o Paulo', 'microrregiao': {'id': 35061, 'nome': 'SÃ£o Paulo', 'mesorregiao': {'id': 3515, 'nome': 'Metropolitana de SÃ£o Paulo', 'UF': {'id': 35, 'sigla': 'SP', 'nome': 'SÃ£o Paulo', 'regiao': {'id': 3, 'sigla': 'SE', 'nome': 'Sudeste'}}}}}}, {'id': 355030887, 'nome': 'Vila JacuÃ\\xad', 'municipio': {'id': 3550308, 'nome': 'SÃ£o Paulo', 'microrregiao': {'id': 35061, 'nome': 'SÃ£o Paulo', 'mesorregiao': {'id': 3515, 'nome': 'Metropolitana de SÃ£o Paulo', 'UF': {'id': 35, 'sigla': 'SP', 'nome': 'SÃ£o Paulo', 'regiao': {'id': 3, 'sigla': 'SE', 'nome': 'Sudeste'}}}}}}, {'id': 355030888, 'nome': 'Vila Leopoldina', 'municipio': {'id': 3550308, 'nome': 'SÃ£o Paulo', 'microrregiao': {'id': 35061, 'nome': 'SÃ£o Paulo', 'mesorregiao': {'id': 3515, 'nome': 'Metropolitana de SÃ£o Paulo', 'UF': {'id': 35, 'sigla': 'SP', 'nome': 'SÃ£o Paulo', 'regiao': {'id': 3, 'sigla': 'SE', 'nome': 'Sudeste'}}}}}}, {'id': 355030889, 'nome': 'Vila Maria', 'municipio': {'id': 3550308, 'nome': 'SÃ£o Paulo', 'microrregiao': {'id': 35061, 'nome': 'SÃ£o Paulo', 'mesorregiao': {'id': 3515, 'nome': 'Metropolitana de SÃ£o Paulo', 'UF': {'id': 35, 'sigla': 'SP', 'nome': 'SÃ£o Paulo', 'regiao': {'id': 3, 'sigla': 'SE', 'nome': 'Sudeste'}}}}}}, {'id': 355030890, 'nome': 'Vila Mariana', 'municipio': {'id': 3550308, 'nome': 'SÃ£o Paulo', 'microrregiao': {'id': 35061, 'nome': 'SÃ£o Paulo', 'mesorregiao': {'id': 3515, 'nome': 'Metropolitana de SÃ£o Paulo', 'UF': {'id': 35, 'sigla': 'SP', 'nome': 'SÃ£o Paulo', 'regiao': {'id': 3, 'sigla': 'SE', 'nome': 'Sudeste'}}}}}}, {'id': 355030891, 'nome': 'Vila Matilde', 'municipio': {'id': 3550308, 'nome': 'SÃ£o Paulo', 'microrregiao': {'id': 35061, 'nome': 'SÃ£o Paulo', 'mesorregiao': {'id': 3515, 'nome': 'Metropolitana de SÃ£o Paulo', 'UF': {'id': 35, 'sigla': 'SP', 'nome': 'SÃ£o Paulo', 'regiao': {'id': 3, 'sigla': 'SE', 'nome': 'Sudeste'}}}}}}, {'id': 355030892, 'nome': 'Vila Medeiros', 'municipio': {'id': 3550308, 'nome': 'SÃ£o Paulo', 'microrregiao': {'id': 35061, 'nome': 'SÃ£o Paulo', 'mesorregiao': {'id': 3515, 'nome': 'Metropolitana de SÃ£o Paulo', 'UF': {'id': 35, 'sigla': 'SP', 'nome': 'SÃ£o Paulo', 'regiao': {'id': 3, 'sigla': 'SE', 'nome': 'Sudeste'}}}}}}, {'id': 355030893, 'nome': 'Vila Prudente', 'municipio': {'id': 3550308, 'nome': 'SÃ£o Paulo', 'microrregiao': {'id': 35061, 'nome': 'SÃ£o Paulo', 'mesorregiao': {'id': 3515, 'nome': 'Metropolitana de SÃ£o Paulo', 'UF': {'id': 35, 'sigla': 'SP', 'nome': 'SÃ£o Paulo', 'regiao': {'id': 3, 'sigla': 'SE', 'nome': 'Sudeste'}}}}}}, {'id': 355030894, 'nome': 'Vila SÃ´nia', 'municipio': {'id': 3550308, 'nome': 'SÃ£o Paulo', 'microrregiao': {'id': 35061, 'nome': 'SÃ£o Paulo', 'mesorregiao': {'id': 3515, 'nome': 'Metropolitana de SÃ£o Paulo', 'UF': {'id': 35, 'sigla': 'SP', 'nome': 'SÃ£o Paulo', 'regiao': {'id': 3, 'sigla': 'SE', 'nome': 'Sudeste'}}}}}}, {'id': 355030895, 'nome': 'SÃ£o Domingos', 'municipio': {'id': 3550308, 'nome': 'SÃ£o Paulo', 'microrregiao': {'id': 35061, 'nome': 'SÃ£o Paulo', 'mesorregiao': {'id': 3515, 'nome': 'Metropolitana de SÃ£o Paulo', 'UF': {'id': 35, 'sigla': 'SP', 'nome': 'SÃ£o Paulo', 'regiao': {'id': 3, 'sigla': 'SE', 'nome': 'Sudeste'}}}}}}, {'id': 355030896, 'nome': 'Lajeado', 'municipio': {'id': 3550308, 'nome': 'SÃ£o Paulo', 'microrregiao': {'id': 35061, 'nome': 'SÃ£o Paulo', 'mesorregiao': {'id': 3515, 'nome': 'Metropolitana de SÃ£o Paulo', 'UF': {'id': 35, 'sigla': 'SP', 'nome': 'SÃ£o Paulo', 'regiao': {'id': 3, 'sigla': 'SE', 'nome': 'Sudeste'}}}}}}]"
     ]
    }
   ],
   "source": [
    "mapa = folium.Map(\n",
    "    width=600, height=400,\n",
    "    location=[-23.5475, -46.63611], \n",
    "    zoom_start=15\n",
    ")\n",
    "folium.GeoJson(geo_json_data).add_to(mapa)\n",
    "mapa"
   ]
  },
  {
   "cell_type": "code",
   "execution_count": null,
   "metadata": {},
   "outputs": [],
   "source": []
  }
 ],
 "metadata": {
  "kernelspec": {
   "display_name": "Python 3",
   "language": "python",
   "name": "python3"
  },
  "language_info": {
   "codemirror_mode": {
    "name": "ipython",
    "version": 3
   },
   "file_extension": ".py",
   "mimetype": "text/x-python",
   "name": "python",
   "nbconvert_exporter": "python",
   "pygments_lexer": "ipython3",
   "version": "3.7.6"
  }
 },
 "nbformat": 4,
 "nbformat_minor": 2
}
